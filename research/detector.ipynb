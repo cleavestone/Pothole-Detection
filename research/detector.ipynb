{
  "nbformat": 4,
  "nbformat_minor": 0,
  "metadata": {
    "colab": {
      "provenance": [],
      "gpuType": "T4"
    },
    "kernelspec": {
      "name": "python3",
      "display_name": "Python 3"
    },
    "language_info": {
      "name": "python"
    },
    "accelerator": "GPU"
  },
  "cells": [
    {
      "cell_type": "code",
      "execution_count": 1,
      "metadata": {
        "id": "GbgK_U9WlF-U"
      },
      "outputs": [],
      "source": [
        "import os\n",
        "import xml.etree.ElementTree as ET\n",
        "import json"
      ]
    },
    {
      "cell_type": "code",
      "source": [
        "!unzip '/content/drive/MyDrive/Object Detection/archive (85).zip'"
      ],
      "metadata": {
        "colab": {
          "base_uri": "https://localhost:8080/"
        },
        "id": "PMQtGp4Ems0O",
        "outputId": "76935597-c237-4f08-af62-00fa57b62511"
      },
      "execution_count": 2,
      "outputs": [
        {
          "output_type": "stream",
          "name": "stdout",
          "text": [
            "Archive:  /content/drive/MyDrive/Object Detection/archive (85).zip\n",
            "replace README.md? [y]es, [n]o, [A]ll, [N]one, [r]ename: y\n",
            "  inflating: README.md               \n",
            "  inflating: annotated-images/img-1.jpg  \n",
            "  inflating: annotated-images/img-1.xml  \n",
            "  inflating: annotated-images/img-10.jpg  \n",
            "  inflating: annotated-images/img-10.xml  \n",
            "  inflating: annotated-images/img-100.jpg  \n",
            "  inflating: annotated-images/img-100.xml  \n",
            "  inflating: annotated-images/img-101.jpg  \n",
            "  inflating: annotated-images/img-101.xml  \n",
            "  inflating: annotated-images/img-102.jpg  \n",
            "  inflating: annotated-images/img-102.xml  \n",
            "  inflating: annotated-images/img-103.jpg  \n",
            "  inflating: annotated-images/img-103.xml  \n",
            "  inflating: annotated-images/img-104.jpg  \n",
            "  inflating: annotated-images/img-104.xml  \n",
            "  inflating: annotated-images/img-105.jpg  \n",
            "  inflating: annotated-images/img-105.xml  \n",
            "  inflating: annotated-images/img-106.jpg  \n",
            "  inflating: annotated-images/img-106.xml  \n",
            "  inflating: annotated-images/img-107.jpg  \n",
            "  inflating: annotated-images/img-107.xml  \n",
            "  inflating: annotated-images/img-108.jpg  \n",
            "  inflating: annotated-images/img-108.xml  \n",
            "  inflating: annotated-images/img-109.jpg  \n",
            "  inflating: annotated-images/img-109.xml  \n",
            "  inflating: annotated-images/img-11.jpg  \n",
            "  inflating: annotated-images/img-11.xml  \n",
            "  inflating: annotated-images/img-110.jpg  \n",
            "  inflating: annotated-images/img-110.xml  \n",
            "  inflating: annotated-images/img-111.jpg  \n",
            "  inflating: annotated-images/img-111.xml  \n",
            "  inflating: annotated-images/img-112.jpg  \n",
            "  inflating: annotated-images/img-112.xml  \n",
            "  inflating: annotated-images/img-113.jpg  \n",
            "  inflating: annotated-images/img-113.xml  \n",
            "  inflating: annotated-images/img-114.jpg  \n",
            "  inflating: annotated-images/img-114.xml  \n",
            "  inflating: annotated-images/img-115.jpg  \n",
            "  inflating: annotated-images/img-115.xml  \n",
            "  inflating: annotated-images/img-116.jpg  \n",
            "  inflating: annotated-images/img-116.xml  \n",
            "  inflating: annotated-images/img-117.jpg  \n",
            "  inflating: annotated-images/img-117.xml  \n",
            "  inflating: annotated-images/img-118.jpg  \n",
            "  inflating: annotated-images/img-118.xml  \n",
            "  inflating: annotated-images/img-119.jpg  \n",
            "  inflating: annotated-images/img-119.xml  \n",
            "  inflating: annotated-images/img-12.jpg  \n",
            "  inflating: annotated-images/img-12.xml  \n",
            "  inflating: annotated-images/img-120.jpg  \n",
            "  inflating: annotated-images/img-120.xml  \n",
            "  inflating: annotated-images/img-121.jpg  \n",
            "  inflating: annotated-images/img-121.xml  \n",
            "  inflating: annotated-images/img-122.jpg  \n",
            "  inflating: annotated-images/img-122.xml  \n",
            "  inflating: annotated-images/img-123.jpg  \n",
            "  inflating: annotated-images/img-123.xml  \n",
            "  inflating: annotated-images/img-124.jpg  \n",
            "  inflating: annotated-images/img-124.xml  \n",
            "  inflating: annotated-images/img-125.jpg  \n",
            "  inflating: annotated-images/img-125.xml  \n",
            "  inflating: annotated-images/img-126.jpg  \n",
            "  inflating: annotated-images/img-126.xml  \n",
            "  inflating: annotated-images/img-127.jpg  \n",
            "  inflating: annotated-images/img-127.xml  \n",
            "  inflating: annotated-images/img-128.jpg  \n",
            "  inflating: annotated-images/img-128.xml  \n",
            "  inflating: annotated-images/img-129.jpg  \n",
            "  inflating: annotated-images/img-129.xml  \n",
            "  inflating: annotated-images/img-13.jpg  \n",
            "  inflating: annotated-images/img-13.xml  \n",
            "  inflating: annotated-images/img-130.jpg  \n",
            "  inflating: annotated-images/img-130.xml  \n",
            "  inflating: annotated-images/img-131.jpg  \n",
            "  inflating: annotated-images/img-131.xml  \n",
            "  inflating: annotated-images/img-132.jpg  \n",
            "  inflating: annotated-images/img-132.xml  \n",
            "  inflating: annotated-images/img-133.jpg  \n",
            "  inflating: annotated-images/img-133.xml  \n",
            "  inflating: annotated-images/img-134.jpg  \n",
            "  inflating: annotated-images/img-134.xml  \n",
            "  inflating: annotated-images/img-135.jpg  \n",
            "  inflating: annotated-images/img-135.xml  \n",
            "  inflating: annotated-images/img-136.jpg  \n",
            "  inflating: annotated-images/img-136.xml  \n",
            "  inflating: annotated-images/img-137.jpg  \n",
            "  inflating: annotated-images/img-137.xml  \n",
            "  inflating: annotated-images/img-138.jpg  \n",
            "  inflating: annotated-images/img-138.xml  \n",
            "  inflating: annotated-images/img-139.jpg  \n",
            "  inflating: annotated-images/img-139.xml  \n",
            "  inflating: annotated-images/img-14.jpg  \n",
            "  inflating: annotated-images/img-14.xml  \n",
            "  inflating: annotated-images/img-140.jpg  \n",
            "  inflating: annotated-images/img-140.xml  \n",
            "  inflating: annotated-images/img-141.jpg  \n",
            "  inflating: annotated-images/img-141.xml  \n",
            "  inflating: annotated-images/img-142.jpg  \n",
            "  inflating: annotated-images/img-142.xml  \n",
            "  inflating: annotated-images/img-143.jpg  \n",
            "  inflating: annotated-images/img-143.xml  \n",
            "  inflating: annotated-images/img-144.jpg  \n",
            "  inflating: annotated-images/img-144.xml  \n",
            "  inflating: annotated-images/img-145.jpg  \n",
            "  inflating: annotated-images/img-145.xml  \n",
            "  inflating: annotated-images/img-146.jpg  \n",
            "  inflating: annotated-images/img-146.xml  \n",
            "  inflating: annotated-images/img-147.jpg  \n",
            "  inflating: annotated-images/img-147.xml  \n",
            "  inflating: annotated-images/img-148.jpg  \n",
            "  inflating: annotated-images/img-148.xml  \n",
            "  inflating: annotated-images/img-149.jpg  \n",
            "  inflating: annotated-images/img-149.xml  \n",
            "  inflating: annotated-images/img-15.jpg  \n",
            "  inflating: annotated-images/img-15.xml  \n",
            "  inflating: annotated-images/img-150.jpg  \n",
            "  inflating: annotated-images/img-150.xml  \n",
            "  inflating: annotated-images/img-151.jpg  \n",
            "  inflating: annotated-images/img-151.xml  \n",
            "  inflating: annotated-images/img-152.jpg  \n",
            "  inflating: annotated-images/img-152.xml  \n",
            "  inflating: annotated-images/img-153.jpg  \n",
            "  inflating: annotated-images/img-153.xml  \n",
            "  inflating: annotated-images/img-154.jpg  \n",
            "  inflating: annotated-images/img-154.xml  \n",
            "  inflating: annotated-images/img-155.jpg  \n",
            "  inflating: annotated-images/img-155.xml  \n",
            "  inflating: annotated-images/img-156.jpg  \n",
            "  inflating: annotated-images/img-156.xml  \n",
            "  inflating: annotated-images/img-157.jpg  \n",
            "  inflating: annotated-images/img-157.xml  \n",
            "  inflating: annotated-images/img-158.jpg  \n",
            "  inflating: annotated-images/img-158.xml  \n",
            "  inflating: annotated-images/img-159.jpg  \n",
            "  inflating: annotated-images/img-159.xml  \n",
            "  inflating: annotated-images/img-16.jpg  \n",
            "  inflating: annotated-images/img-16.xml  \n",
            "  inflating: annotated-images/img-160.jpg  \n",
            "  inflating: annotated-images/img-160.xml  \n",
            "  inflating: annotated-images/img-161.jpg  \n",
            "  inflating: annotated-images/img-161.xml  \n",
            "  inflating: annotated-images/img-162.jpg  \n",
            "  inflating: annotated-images/img-162.xml  \n",
            "  inflating: annotated-images/img-163.jpg  \n",
            "  inflating: annotated-images/img-163.xml  \n",
            "  inflating: annotated-images/img-164.jpg  \n",
            "  inflating: annotated-images/img-164.xml  \n",
            "  inflating: annotated-images/img-165.jpg  \n",
            "  inflating: annotated-images/img-165.xml  \n",
            "  inflating: annotated-images/img-166.jpg  \n",
            "  inflating: annotated-images/img-166.xml  \n",
            "  inflating: annotated-images/img-167.jpg  \n",
            "  inflating: annotated-images/img-167.xml  \n",
            "  inflating: annotated-images/img-168.jpg  \n",
            "  inflating: annotated-images/img-168.xml  \n",
            "  inflating: annotated-images/img-169.jpg  \n",
            "  inflating: annotated-images/img-169.xml  \n",
            "  inflating: annotated-images/img-17.jpg  \n",
            "  inflating: annotated-images/img-17.xml  \n",
            "  inflating: annotated-images/img-170.jpg  \n",
            "  inflating: annotated-images/img-170.xml  \n",
            "  inflating: annotated-images/img-171.jpg  \n",
            "  inflating: annotated-images/img-171.xml  \n",
            "  inflating: annotated-images/img-172.jpg  \n",
            "  inflating: annotated-images/img-172.xml  \n",
            "  inflating: annotated-images/img-173.jpg  \n",
            "  inflating: annotated-images/img-173.xml  \n",
            "  inflating: annotated-images/img-174.jpg  \n",
            "  inflating: annotated-images/img-174.xml  \n",
            "  inflating: annotated-images/img-175.jpg  \n",
            "  inflating: annotated-images/img-175.xml  \n",
            "  inflating: annotated-images/img-176.jpg  \n",
            "  inflating: annotated-images/img-176.xml  \n",
            "  inflating: annotated-images/img-177.jpg  \n",
            "  inflating: annotated-images/img-177.xml  \n",
            "  inflating: annotated-images/img-178.jpg  \n",
            "  inflating: annotated-images/img-178.xml  \n",
            "  inflating: annotated-images/img-179.jpg  \n",
            "  inflating: annotated-images/img-179.xml  \n",
            "  inflating: annotated-images/img-18.jpg  \n",
            "  inflating: annotated-images/img-18.xml  \n",
            "  inflating: annotated-images/img-180.jpg  \n",
            "  inflating: annotated-images/img-180.xml  \n",
            "  inflating: annotated-images/img-181.jpg  \n",
            "  inflating: annotated-images/img-181.xml  \n",
            "  inflating: annotated-images/img-182.jpg  \n",
            "  inflating: annotated-images/img-182.xml  \n",
            "  inflating: annotated-images/img-183.jpg  \n",
            "  inflating: annotated-images/img-183.xml  \n",
            "  inflating: annotated-images/img-184.jpg  \n",
            "  inflating: annotated-images/img-184.xml  \n",
            "  inflating: annotated-images/img-185.jpg  \n",
            "  inflating: annotated-images/img-185.xml  \n",
            "  inflating: annotated-images/img-186.jpg  \n",
            "  inflating: annotated-images/img-186.xml  \n",
            "  inflating: annotated-images/img-187.jpg  \n",
            "  inflating: annotated-images/img-187.xml  \n",
            "  inflating: annotated-images/img-188.jpg  \n",
            "  inflating: annotated-images/img-188.xml  \n",
            "  inflating: annotated-images/img-189.jpg  \n",
            "  inflating: annotated-images/img-189.xml  \n",
            "  inflating: annotated-images/img-19.jpg  \n",
            "  inflating: annotated-images/img-19.xml  \n",
            "  inflating: annotated-images/img-190.jpg  \n",
            "  inflating: annotated-images/img-190.xml  \n",
            "  inflating: annotated-images/img-191.jpg  \n",
            "  inflating: annotated-images/img-191.xml  \n",
            "  inflating: annotated-images/img-192.jpg  \n",
            "  inflating: annotated-images/img-192.xml  \n",
            "  inflating: annotated-images/img-193.jpg  \n",
            "  inflating: annotated-images/img-193.xml  \n",
            "  inflating: annotated-images/img-194.jpg  \n",
            "  inflating: annotated-images/img-194.xml  \n",
            "  inflating: annotated-images/img-195.jpg  \n",
            "  inflating: annotated-images/img-195.xml  \n",
            "  inflating: annotated-images/img-196.jpg  \n",
            "  inflating: annotated-images/img-196.xml  \n",
            "  inflating: annotated-images/img-197.jpg  \n",
            "  inflating: annotated-images/img-197.xml  \n",
            "  inflating: annotated-images/img-198.jpg  \n",
            "  inflating: annotated-images/img-198.xml  \n",
            "  inflating: annotated-images/img-199.jpg  \n",
            "  inflating: annotated-images/img-199.xml  \n",
            "  inflating: annotated-images/img-2.jpg  \n",
            "  inflating: annotated-images/img-2.xml  \n",
            "  inflating: annotated-images/img-20.jpg  \n",
            "  inflating: annotated-images/img-20.xml  \n",
            "  inflating: annotated-images/img-200.jpg  \n",
            "  inflating: annotated-images/img-200.xml  \n",
            "  inflating: annotated-images/img-201.jpg  \n",
            "  inflating: annotated-images/img-201.xml  \n",
            "  inflating: annotated-images/img-202.jpg  \n",
            "  inflating: annotated-images/img-202.xml  \n",
            "  inflating: annotated-images/img-203.jpg  \n",
            "  inflating: annotated-images/img-203.xml  \n",
            "  inflating: annotated-images/img-204.jpg  \n",
            "  inflating: annotated-images/img-204.xml  \n",
            "  inflating: annotated-images/img-205.jpg  \n",
            "  inflating: annotated-images/img-205.xml  \n",
            "  inflating: annotated-images/img-206.jpg  \n",
            "  inflating: annotated-images/img-206.xml  \n",
            "  inflating: annotated-images/img-207.jpg  \n",
            "  inflating: annotated-images/img-207.xml  \n",
            "  inflating: annotated-images/img-208.jpg  \n",
            "  inflating: annotated-images/img-208.xml  \n",
            "  inflating: annotated-images/img-209.jpg  \n",
            "  inflating: annotated-images/img-209.xml  \n",
            "  inflating: annotated-images/img-21.jpg  \n",
            "  inflating: annotated-images/img-21.xml  \n",
            "  inflating: annotated-images/img-210.jpg  \n",
            "  inflating: annotated-images/img-210.xml  \n",
            "  inflating: annotated-images/img-211.jpg  \n",
            "  inflating: annotated-images/img-211.xml  \n",
            "  inflating: annotated-images/img-212.jpg  \n",
            "  inflating: annotated-images/img-212.xml  \n",
            "  inflating: annotated-images/img-213.jpg  \n",
            "  inflating: annotated-images/img-213.xml  \n",
            "  inflating: annotated-images/img-214.jpg  \n",
            "  inflating: annotated-images/img-214.xml  \n",
            "  inflating: annotated-images/img-215.jpg  \n",
            "  inflating: annotated-images/img-215.xml  \n",
            "  inflating: annotated-images/img-216.jpg  \n",
            "  inflating: annotated-images/img-216.xml  \n",
            "  inflating: annotated-images/img-217.jpg  \n",
            "  inflating: annotated-images/img-217.xml  \n",
            "  inflating: annotated-images/img-218.jpg  \n",
            "  inflating: annotated-images/img-218.xml  \n",
            "  inflating: annotated-images/img-219.jpg  \n",
            "  inflating: annotated-images/img-219.xml  \n",
            "  inflating: annotated-images/img-22.jpg  \n",
            "  inflating: annotated-images/img-22.xml  \n",
            "  inflating: annotated-images/img-220.jpg  \n",
            "  inflating: annotated-images/img-220.xml  \n",
            "  inflating: annotated-images/img-221.jpg  \n",
            "  inflating: annotated-images/img-221.xml  \n",
            "  inflating: annotated-images/img-222.jpg  \n",
            "  inflating: annotated-images/img-222.xml  \n",
            "  inflating: annotated-images/img-223.jpg  \n",
            "  inflating: annotated-images/img-223.xml  \n",
            "  inflating: annotated-images/img-224.jpg  \n",
            "  inflating: annotated-images/img-224.xml  \n",
            "  inflating: annotated-images/img-225.jpg  \n",
            "  inflating: annotated-images/img-225.xml  \n",
            "  inflating: annotated-images/img-226.jpg  \n",
            "  inflating: annotated-images/img-226.xml  \n",
            "  inflating: annotated-images/img-227.jpg  \n",
            "  inflating: annotated-images/img-227.xml  \n",
            "  inflating: annotated-images/img-228.jpg  \n",
            "  inflating: annotated-images/img-228.xml  \n",
            "  inflating: annotated-images/img-229.jpg  \n",
            "  inflating: annotated-images/img-229.xml  \n",
            "  inflating: annotated-images/img-23.jpg  \n",
            "  inflating: annotated-images/img-23.xml  \n",
            "  inflating: annotated-images/img-230.jpg  \n",
            "  inflating: annotated-images/img-230.xml  \n",
            "  inflating: annotated-images/img-231.jpg  \n",
            "  inflating: annotated-images/img-231.xml  \n",
            "  inflating: annotated-images/img-232.jpg  \n",
            "  inflating: annotated-images/img-232.xml  \n",
            "  inflating: annotated-images/img-233.jpg  \n",
            "  inflating: annotated-images/img-233.xml  \n",
            "  inflating: annotated-images/img-234.jpg  \n",
            "  inflating: annotated-images/img-234.xml  \n",
            "  inflating: annotated-images/img-235.jpg  \n",
            "  inflating: annotated-images/img-235.xml  \n",
            "  inflating: annotated-images/img-236.jpg  \n",
            "  inflating: annotated-images/img-236.xml  \n",
            "  inflating: annotated-images/img-237.jpg  \n",
            "  inflating: annotated-images/img-237.xml  \n",
            "  inflating: annotated-images/img-238.jpg  \n",
            "  inflating: annotated-images/img-238.xml  \n",
            "  inflating: annotated-images/img-239.jpg  \n",
            "  inflating: annotated-images/img-239.xml  \n",
            "  inflating: annotated-images/img-24.jpg  \n",
            "  inflating: annotated-images/img-24.xml  \n",
            "  inflating: annotated-images/img-240.jpg  \n",
            "  inflating: annotated-images/img-240.xml  \n",
            "  inflating: annotated-images/img-241.jpg  \n",
            "  inflating: annotated-images/img-241.xml  \n",
            "  inflating: annotated-images/img-242.jpg  \n",
            "  inflating: annotated-images/img-242.xml  \n",
            "  inflating: annotated-images/img-243.jpg  \n",
            "  inflating: annotated-images/img-243.xml  \n",
            "  inflating: annotated-images/img-244.jpg  \n",
            "  inflating: annotated-images/img-244.xml  \n",
            "  inflating: annotated-images/img-245.jpg  \n",
            "  inflating: annotated-images/img-245.xml  \n",
            "  inflating: annotated-images/img-246.jpg  \n",
            "  inflating: annotated-images/img-246.xml  \n",
            "  inflating: annotated-images/img-247.jpg  \n",
            "  inflating: annotated-images/img-247.xml  \n",
            "  inflating: annotated-images/img-248.jpg  \n",
            "  inflating: annotated-images/img-248.xml  \n",
            "  inflating: annotated-images/img-249.jpg  \n",
            "  inflating: annotated-images/img-249.xml  \n",
            "  inflating: annotated-images/img-25.jpg  \n",
            "  inflating: annotated-images/img-25.xml  \n",
            "  inflating: annotated-images/img-250.jpg  \n",
            "  inflating: annotated-images/img-250.xml  \n",
            "  inflating: annotated-images/img-251.jpg  \n",
            "  inflating: annotated-images/img-251.xml  \n",
            "  inflating: annotated-images/img-252.jpg  \n",
            "  inflating: annotated-images/img-252.xml  \n",
            "  inflating: annotated-images/img-253.jpg  \n",
            "  inflating: annotated-images/img-253.xml  \n",
            "  inflating: annotated-images/img-254.jpg  \n",
            "  inflating: annotated-images/img-254.xml  \n",
            "  inflating: annotated-images/img-255.jpg  \n",
            "  inflating: annotated-images/img-255.xml  \n",
            "  inflating: annotated-images/img-256.jpg  \n",
            "  inflating: annotated-images/img-256.xml  \n",
            "  inflating: annotated-images/img-257.jpg  \n",
            "  inflating: annotated-images/img-257.xml  \n",
            "  inflating: annotated-images/img-258.jpg  \n",
            "  inflating: annotated-images/img-258.xml  \n",
            "  inflating: annotated-images/img-259.jpg  \n",
            "  inflating: annotated-images/img-259.xml  \n",
            "  inflating: annotated-images/img-26.jpg  \n",
            "  inflating: annotated-images/img-26.xml  \n",
            "  inflating: annotated-images/img-260.jpg  \n",
            "  inflating: annotated-images/img-260.xml  \n",
            "  inflating: annotated-images/img-261.jpg  \n",
            "  inflating: annotated-images/img-261.xml  \n",
            "  inflating: annotated-images/img-262.jpg  \n",
            "  inflating: annotated-images/img-262.xml  \n",
            "  inflating: annotated-images/img-263.jpg  \n",
            "  inflating: annotated-images/img-263.xml  \n",
            "  inflating: annotated-images/img-264.jpg  \n",
            "  inflating: annotated-images/img-264.xml  \n",
            "  inflating: annotated-images/img-265.jpg  \n",
            "  inflating: annotated-images/img-265.xml  \n",
            "  inflating: annotated-images/img-266.jpg  \n",
            "  inflating: annotated-images/img-266.xml  \n",
            "  inflating: annotated-images/img-267.jpg  \n",
            "  inflating: annotated-images/img-267.xml  \n",
            "  inflating: annotated-images/img-268.jpg  \n",
            "  inflating: annotated-images/img-268.xml  \n",
            "  inflating: annotated-images/img-269.jpg  \n",
            "  inflating: annotated-images/img-269.xml  \n",
            "  inflating: annotated-images/img-27.jpg  \n",
            "  inflating: annotated-images/img-27.xml  \n",
            "  inflating: annotated-images/img-270.jpg  \n",
            "  inflating: annotated-images/img-270.xml  \n",
            "  inflating: annotated-images/img-271.jpg  \n",
            "  inflating: annotated-images/img-271.xml  \n",
            "  inflating: annotated-images/img-272.jpg  \n",
            "  inflating: annotated-images/img-272.xml  \n",
            "  inflating: annotated-images/img-273.jpg  \n",
            "  inflating: annotated-images/img-273.xml  \n",
            "  inflating: annotated-images/img-274.jpg  \n",
            "  inflating: annotated-images/img-274.xml  \n",
            "  inflating: annotated-images/img-275.jpg  \n",
            "  inflating: annotated-images/img-275.xml  \n",
            "  inflating: annotated-images/img-276.jpg  \n",
            "  inflating: annotated-images/img-276.xml  \n",
            "  inflating: annotated-images/img-277.jpg  \n",
            "  inflating: annotated-images/img-277.xml  \n",
            "  inflating: annotated-images/img-278.jpg  \n",
            "  inflating: annotated-images/img-278.xml  \n",
            "  inflating: annotated-images/img-279.jpg  \n",
            "  inflating: annotated-images/img-279.xml  \n",
            "  inflating: annotated-images/img-28.jpg  \n",
            "  inflating: annotated-images/img-28.xml  \n",
            "  inflating: annotated-images/img-280.jpg  \n",
            "  inflating: annotated-images/img-280.xml  \n",
            "  inflating: annotated-images/img-281.jpg  \n",
            "  inflating: annotated-images/img-281.xml  \n",
            "  inflating: annotated-images/img-282.jpg  \n",
            "  inflating: annotated-images/img-282.xml  \n",
            "  inflating: annotated-images/img-283.jpg  \n",
            "  inflating: annotated-images/img-283.xml  \n",
            "  inflating: annotated-images/img-284.jpg  \n",
            "  inflating: annotated-images/img-284.xml  \n",
            "  inflating: annotated-images/img-285.jpg  \n",
            "  inflating: annotated-images/img-285.xml  \n",
            "  inflating: annotated-images/img-286.jpg  \n",
            "  inflating: annotated-images/img-286.xml  \n",
            "  inflating: annotated-images/img-287.jpg  \n",
            "  inflating: annotated-images/img-287.xml  \n",
            "  inflating: annotated-images/img-288.jpg  \n",
            "  inflating: annotated-images/img-288.xml  \n",
            "  inflating: annotated-images/img-289.jpg  \n",
            "  inflating: annotated-images/img-289.xml  \n",
            "  inflating: annotated-images/img-29.jpg  \n",
            "  inflating: annotated-images/img-29.xml  \n",
            "  inflating: annotated-images/img-290.jpg  \n",
            "  inflating: annotated-images/img-290.xml  \n",
            "  inflating: annotated-images/img-291.jpg  \n",
            "  inflating: annotated-images/img-291.xml  \n",
            "  inflating: annotated-images/img-292.jpg  \n",
            "  inflating: annotated-images/img-292.xml  \n",
            "  inflating: annotated-images/img-293.jpg  \n",
            "  inflating: annotated-images/img-293.xml  \n",
            "  inflating: annotated-images/img-294.jpg  \n",
            "  inflating: annotated-images/img-294.xml  \n",
            "  inflating: annotated-images/img-295.jpg  \n",
            "  inflating: annotated-images/img-295.xml  \n",
            "  inflating: annotated-images/img-296.jpg  \n",
            "  inflating: annotated-images/img-296.xml  \n",
            "  inflating: annotated-images/img-297.jpg  \n",
            "  inflating: annotated-images/img-297.xml  \n",
            "  inflating: annotated-images/img-298.jpg  \n",
            "  inflating: annotated-images/img-298.xml  \n",
            "  inflating: annotated-images/img-299.jpg  \n",
            "  inflating: annotated-images/img-299.xml  \n",
            "  inflating: annotated-images/img-3.jpg  \n",
            "  inflating: annotated-images/img-3.xml  \n",
            "  inflating: annotated-images/img-30.jpg  \n",
            "  inflating: annotated-images/img-30.xml  \n",
            "  inflating: annotated-images/img-300.jpg  \n",
            "  inflating: annotated-images/img-300.xml  \n",
            "  inflating: annotated-images/img-301.jpg  \n",
            "  inflating: annotated-images/img-301.xml  \n",
            "  inflating: annotated-images/img-302.jpg  \n",
            "  inflating: annotated-images/img-302.xml  \n",
            "  inflating: annotated-images/img-303.jpg  \n",
            "  inflating: annotated-images/img-303.xml  \n",
            "  inflating: annotated-images/img-304.jpg  \n",
            "  inflating: annotated-images/img-304.xml  \n",
            "  inflating: annotated-images/img-305.jpg  \n",
            "  inflating: annotated-images/img-305.xml  \n",
            "  inflating: annotated-images/img-306.jpg  \n",
            "  inflating: annotated-images/img-306.xml  \n",
            "  inflating: annotated-images/img-307.jpg  \n",
            "  inflating: annotated-images/img-307.xml  \n",
            "  inflating: annotated-images/img-308.jpg  \n",
            "  inflating: annotated-images/img-308.xml  \n",
            "  inflating: annotated-images/img-309.jpg  \n",
            "  inflating: annotated-images/img-309.xml  \n",
            "  inflating: annotated-images/img-31.jpg  \n",
            "  inflating: annotated-images/img-31.xml  \n",
            "  inflating: annotated-images/img-310.jpg  \n",
            "  inflating: annotated-images/img-310.xml  \n",
            "  inflating: annotated-images/img-311.jpg  \n",
            "  inflating: annotated-images/img-311.xml  \n",
            "  inflating: annotated-images/img-312.jpg  \n",
            "  inflating: annotated-images/img-312.xml  \n",
            "  inflating: annotated-images/img-313.jpg  \n",
            "  inflating: annotated-images/img-313.xml  \n",
            "  inflating: annotated-images/img-314.jpg  \n",
            "  inflating: annotated-images/img-314.xml  \n",
            "  inflating: annotated-images/img-315.jpg  \n",
            "  inflating: annotated-images/img-315.xml  \n",
            "  inflating: annotated-images/img-316.jpg  \n",
            "  inflating: annotated-images/img-316.xml  \n",
            "  inflating: annotated-images/img-317.jpg  \n",
            "  inflating: annotated-images/img-317.xml  \n",
            "  inflating: annotated-images/img-318.jpg  \n",
            "  inflating: annotated-images/img-318.xml  \n",
            "  inflating: annotated-images/img-319.jpg  \n",
            "  inflating: annotated-images/img-319.xml  \n",
            "  inflating: annotated-images/img-32.jpg  \n",
            "  inflating: annotated-images/img-32.xml  \n",
            "  inflating: annotated-images/img-320.jpg  \n",
            "  inflating: annotated-images/img-320.xml  \n",
            "  inflating: annotated-images/img-321.jpg  \n",
            "  inflating: annotated-images/img-321.xml  \n",
            "  inflating: annotated-images/img-322.jpg  \n",
            "  inflating: annotated-images/img-322.xml  \n",
            "  inflating: annotated-images/img-323.jpg  \n",
            "  inflating: annotated-images/img-323.xml  \n",
            "  inflating: annotated-images/img-324.jpg  \n",
            "  inflating: annotated-images/img-324.xml  \n",
            "  inflating: annotated-images/img-325.jpg  \n",
            "  inflating: annotated-images/img-325.xml  \n",
            "  inflating: annotated-images/img-326.jpg  \n",
            "  inflating: annotated-images/img-326.xml  \n",
            "  inflating: annotated-images/img-327.jpg  \n",
            "  inflating: annotated-images/img-327.xml  \n",
            "  inflating: annotated-images/img-328.jpg  \n",
            "  inflating: annotated-images/img-328.xml  \n",
            "  inflating: annotated-images/img-329.jpg  \n",
            "  inflating: annotated-images/img-329.xml  \n",
            "  inflating: annotated-images/img-33.jpg  \n",
            "  inflating: annotated-images/img-33.xml  \n",
            "  inflating: annotated-images/img-330.jpg  \n",
            "  inflating: annotated-images/img-330.xml  \n",
            "  inflating: annotated-images/img-331.jpg  \n",
            "  inflating: annotated-images/img-331.xml  \n",
            "  inflating: annotated-images/img-332.jpg  \n",
            "  inflating: annotated-images/img-332.xml  \n",
            "  inflating: annotated-images/img-333.jpg  \n",
            "  inflating: annotated-images/img-333.xml  \n",
            "  inflating: annotated-images/img-334.jpg  \n",
            "  inflating: annotated-images/img-334.xml  \n",
            "  inflating: annotated-images/img-335.jpg  \n",
            "  inflating: annotated-images/img-335.xml  \n",
            "  inflating: annotated-images/img-336.jpg  \n",
            "  inflating: annotated-images/img-336.xml  \n",
            "  inflating: annotated-images/img-337.jpg  \n",
            "  inflating: annotated-images/img-337.xml  \n",
            "  inflating: annotated-images/img-338.jpg  \n",
            "  inflating: annotated-images/img-338.xml  \n",
            "  inflating: annotated-images/img-339.jpg  \n",
            "  inflating: annotated-images/img-339.xml  \n",
            "  inflating: annotated-images/img-34.jpg  \n",
            "  inflating: annotated-images/img-34.xml  \n",
            "  inflating: annotated-images/img-340.jpg  \n",
            "  inflating: annotated-images/img-340.xml  \n",
            "  inflating: annotated-images/img-341.jpg  \n",
            "  inflating: annotated-images/img-341.xml  \n",
            "  inflating: annotated-images/img-342.jpg  \n",
            "  inflating: annotated-images/img-342.xml  \n",
            "  inflating: annotated-images/img-343.jpg  \n",
            "  inflating: annotated-images/img-343.xml  \n",
            "  inflating: annotated-images/img-344.jpg  \n",
            "  inflating: annotated-images/img-344.xml  \n",
            "  inflating: annotated-images/img-345.jpg  \n",
            "  inflating: annotated-images/img-345.xml  \n",
            "  inflating: annotated-images/img-346.jpg  \n",
            "  inflating: annotated-images/img-346.xml  \n",
            "  inflating: annotated-images/img-347.jpg  \n",
            "  inflating: annotated-images/img-347.xml  \n",
            "  inflating: annotated-images/img-348.jpg  \n",
            "  inflating: annotated-images/img-348.xml  \n",
            "  inflating: annotated-images/img-349.jpg  \n",
            "  inflating: annotated-images/img-349.xml  \n",
            "  inflating: annotated-images/img-35.jpg  \n",
            "  inflating: annotated-images/img-35.xml  \n",
            "  inflating: annotated-images/img-350.jpg  \n",
            "  inflating: annotated-images/img-350.xml  \n",
            "  inflating: annotated-images/img-351.jpg  \n",
            "  inflating: annotated-images/img-351.xml  \n",
            "  inflating: annotated-images/img-352.jpg  \n",
            "  inflating: annotated-images/img-352.xml  \n",
            "  inflating: annotated-images/img-353.jpg  \n",
            "  inflating: annotated-images/img-353.xml  \n",
            "  inflating: annotated-images/img-354.jpg  \n",
            "  inflating: annotated-images/img-354.xml  \n",
            "  inflating: annotated-images/img-355.jpg  \n",
            "  inflating: annotated-images/img-355.xml  \n",
            "  inflating: annotated-images/img-356.jpg  \n",
            "  inflating: annotated-images/img-356.xml  \n",
            "  inflating: annotated-images/img-357.jpg  \n",
            "  inflating: annotated-images/img-357.xml  \n",
            "  inflating: annotated-images/img-358.jpg  \n",
            "  inflating: annotated-images/img-358.xml  \n",
            "  inflating: annotated-images/img-359.jpg  \n",
            "  inflating: annotated-images/img-359.xml  \n",
            "  inflating: annotated-images/img-36.jpg  \n",
            "  inflating: annotated-images/img-36.xml  \n",
            "  inflating: annotated-images/img-360.jpg  \n",
            "  inflating: annotated-images/img-360.xml  \n",
            "  inflating: annotated-images/img-361.jpg  \n",
            "  inflating: annotated-images/img-361.xml  \n",
            "  inflating: annotated-images/img-362.jpg  \n",
            "  inflating: annotated-images/img-362.xml  \n",
            "  inflating: annotated-images/img-363.jpg  \n",
            "  inflating: annotated-images/img-363.xml  \n",
            "  inflating: annotated-images/img-364.jpg  \n",
            "  inflating: annotated-images/img-364.xml  \n",
            "  inflating: annotated-images/img-365.jpg  \n",
            "  inflating: annotated-images/img-365.xml  \n",
            "  inflating: annotated-images/img-366.jpg  \n",
            "  inflating: annotated-images/img-366.xml  \n",
            "  inflating: annotated-images/img-367.jpg  \n",
            "  inflating: annotated-images/img-367.xml  \n",
            "  inflating: annotated-images/img-368.jpg  \n",
            "  inflating: annotated-images/img-368.xml  \n",
            "  inflating: annotated-images/img-369.jpg  \n",
            "  inflating: annotated-images/img-369.xml  \n",
            "  inflating: annotated-images/img-37.jpg  \n",
            "  inflating: annotated-images/img-37.xml  \n",
            "  inflating: annotated-images/img-370.jpg  \n",
            "  inflating: annotated-images/img-370.xml  \n",
            "  inflating: annotated-images/img-371.jpg  \n",
            "  inflating: annotated-images/img-371.xml  \n",
            "  inflating: annotated-images/img-372.jpg  \n",
            "  inflating: annotated-images/img-372.xml  \n",
            "  inflating: annotated-images/img-373.jpg  \n",
            "  inflating: annotated-images/img-373.xml  \n",
            "  inflating: annotated-images/img-374.jpg  \n",
            "  inflating: annotated-images/img-374.xml  \n",
            "  inflating: annotated-images/img-375.jpg  \n",
            "  inflating: annotated-images/img-375.xml  \n",
            "  inflating: annotated-images/img-376.jpg  \n",
            "  inflating: annotated-images/img-376.xml  \n",
            "  inflating: annotated-images/img-377.jpg  \n",
            "  inflating: annotated-images/img-377.xml  \n",
            "  inflating: annotated-images/img-378.jpg  \n",
            "  inflating: annotated-images/img-378.xml  \n",
            "  inflating: annotated-images/img-379.jpg  \n",
            "  inflating: annotated-images/img-379.xml  \n",
            "  inflating: annotated-images/img-38.jpg  \n",
            "  inflating: annotated-images/img-38.xml  \n",
            "  inflating: annotated-images/img-380.jpg  \n",
            "  inflating: annotated-images/img-380.xml  \n",
            "  inflating: annotated-images/img-381.jpg  \n",
            "  inflating: annotated-images/img-381.xml  \n",
            "  inflating: annotated-images/img-382.jpg  \n",
            "  inflating: annotated-images/img-382.xml  \n",
            "  inflating: annotated-images/img-383.jpg  \n",
            "  inflating: annotated-images/img-383.xml  \n",
            "  inflating: annotated-images/img-384.jpg  \n",
            "  inflating: annotated-images/img-384.xml  \n",
            "  inflating: annotated-images/img-385.jpg  \n",
            "  inflating: annotated-images/img-385.xml  \n",
            "  inflating: annotated-images/img-386.jpg  \n",
            "  inflating: annotated-images/img-386.xml  \n",
            "  inflating: annotated-images/img-387.jpg  \n",
            "  inflating: annotated-images/img-387.xml  \n",
            "  inflating: annotated-images/img-388.jpg  \n",
            "  inflating: annotated-images/img-388.xml  \n",
            "  inflating: annotated-images/img-389.jpg  \n",
            "  inflating: annotated-images/img-389.xml  \n",
            "  inflating: annotated-images/img-39.jpg  \n",
            "  inflating: annotated-images/img-39.xml  \n",
            "  inflating: annotated-images/img-390.jpg  \n",
            "  inflating: annotated-images/img-390.xml  \n",
            "  inflating: annotated-images/img-391.jpg  \n",
            "  inflating: annotated-images/img-391.xml  \n",
            "  inflating: annotated-images/img-392.jpg  \n",
            "  inflating: annotated-images/img-392.xml  \n",
            "  inflating: annotated-images/img-393.jpg  \n",
            "  inflating: annotated-images/img-393.xml  \n",
            "  inflating: annotated-images/img-394.jpg  \n",
            "  inflating: annotated-images/img-394.xml  \n",
            "  inflating: annotated-images/img-395.jpg  \n",
            "  inflating: annotated-images/img-395.xml  \n",
            "  inflating: annotated-images/img-396.jpg  \n",
            "  inflating: annotated-images/img-396.xml  \n",
            "  inflating: annotated-images/img-397.jpg  \n",
            "  inflating: annotated-images/img-397.xml  \n",
            "  inflating: annotated-images/img-398.jpg  \n",
            "  inflating: annotated-images/img-398.xml  \n",
            "  inflating: annotated-images/img-399.jpg  \n",
            "  inflating: annotated-images/img-399.xml  \n",
            "  inflating: annotated-images/img-4.jpg  \n",
            "  inflating: annotated-images/img-4.xml  \n",
            "  inflating: annotated-images/img-40.jpg  \n",
            "  inflating: annotated-images/img-40.xml  \n",
            "  inflating: annotated-images/img-400.jpg  \n",
            "  inflating: annotated-images/img-400.xml  \n",
            "  inflating: annotated-images/img-401.jpg  \n",
            "  inflating: annotated-images/img-401.xml  \n",
            "  inflating: annotated-images/img-402.jpg  \n",
            "  inflating: annotated-images/img-402.xml  \n",
            "  inflating: annotated-images/img-403.jpg  \n",
            "  inflating: annotated-images/img-403.xml  \n",
            "  inflating: annotated-images/img-404.jpg  \n",
            "  inflating: annotated-images/img-404.xml  \n",
            "  inflating: annotated-images/img-405.jpg  \n",
            "  inflating: annotated-images/img-405.xml  \n",
            "  inflating: annotated-images/img-406.jpg  \n",
            "  inflating: annotated-images/img-406.xml  \n",
            "  inflating: annotated-images/img-407.jpg  \n",
            "  inflating: annotated-images/img-407.xml  \n",
            "  inflating: annotated-images/img-408.jpg  \n",
            "  inflating: annotated-images/img-408.xml  \n",
            "  inflating: annotated-images/img-409.jpg  \n",
            "  inflating: annotated-images/img-409.xml  \n",
            "  inflating: annotated-images/img-41.jpg  \n",
            "  inflating: annotated-images/img-41.xml  \n",
            "  inflating: annotated-images/img-410.jpg  \n",
            "  inflating: annotated-images/img-410.xml  \n",
            "  inflating: annotated-images/img-411.jpg  \n",
            "  inflating: annotated-images/img-411.xml  \n",
            "  inflating: annotated-images/img-412.jpg  \n",
            "  inflating: annotated-images/img-412.xml  \n",
            "  inflating: annotated-images/img-413.jpg  \n",
            "  inflating: annotated-images/img-413.xml  \n",
            "  inflating: annotated-images/img-414.jpg  \n",
            "  inflating: annotated-images/img-414.xml  \n",
            "  inflating: annotated-images/img-415.jpg  \n",
            "  inflating: annotated-images/img-415.xml  \n",
            "  inflating: annotated-images/img-416.jpg  \n",
            "  inflating: annotated-images/img-416.xml  \n",
            "  inflating: annotated-images/img-417.jpg  \n",
            "  inflating: annotated-images/img-417.xml  \n",
            "  inflating: annotated-images/img-418.jpg  \n",
            "  inflating: annotated-images/img-418.xml  \n",
            "  inflating: annotated-images/img-419.jpg  \n",
            "  inflating: annotated-images/img-419.xml  \n",
            "  inflating: annotated-images/img-42.jpg  \n",
            "  inflating: annotated-images/img-42.xml  \n",
            "  inflating: annotated-images/img-420.jpg  \n",
            "  inflating: annotated-images/img-420.xml  \n",
            "  inflating: annotated-images/img-421.jpg  \n",
            "  inflating: annotated-images/img-421.xml  \n",
            "  inflating: annotated-images/img-422.jpg  \n",
            "  inflating: annotated-images/img-422.xml  \n",
            "  inflating: annotated-images/img-423.jpg  \n",
            "  inflating: annotated-images/img-423.xml  \n",
            "  inflating: annotated-images/img-424.jpg  \n",
            "  inflating: annotated-images/img-424.xml  \n",
            "  inflating: annotated-images/img-425.jpg  \n",
            "  inflating: annotated-images/img-425.xml  \n",
            "  inflating: annotated-images/img-426.jpg  \n",
            "  inflating: annotated-images/img-426.xml  \n",
            "  inflating: annotated-images/img-427.jpg  \n",
            "  inflating: annotated-images/img-427.xml  \n",
            "  inflating: annotated-images/img-428.jpg  \n",
            "  inflating: annotated-images/img-428.xml  \n",
            "  inflating: annotated-images/img-429.jpg  \n",
            "  inflating: annotated-images/img-429.xml  \n",
            "  inflating: annotated-images/img-43.jpg  \n",
            "  inflating: annotated-images/img-43.xml  \n",
            "  inflating: annotated-images/img-430.jpg  \n",
            "  inflating: annotated-images/img-430.xml  \n",
            "  inflating: annotated-images/img-431.jpg  \n",
            "  inflating: annotated-images/img-431.xml  \n",
            "  inflating: annotated-images/img-432.jpg  \n",
            "  inflating: annotated-images/img-432.xml  \n",
            "  inflating: annotated-images/img-433.jpg  \n",
            "  inflating: annotated-images/img-433.xml  \n",
            "  inflating: annotated-images/img-434.jpg  \n",
            "  inflating: annotated-images/img-434.xml  \n",
            "  inflating: annotated-images/img-435.jpg  \n",
            "  inflating: annotated-images/img-435.xml  \n",
            "  inflating: annotated-images/img-436.jpg  \n",
            "  inflating: annotated-images/img-436.xml  \n",
            "  inflating: annotated-images/img-437.jpg  \n",
            "  inflating: annotated-images/img-437.xml  \n",
            "  inflating: annotated-images/img-438.jpg  \n",
            "  inflating: annotated-images/img-438.xml  \n",
            "  inflating: annotated-images/img-439.jpg  \n",
            "  inflating: annotated-images/img-439.xml  \n",
            "  inflating: annotated-images/img-44.jpg  \n",
            "  inflating: annotated-images/img-44.xml  \n",
            "  inflating: annotated-images/img-440.jpg  \n",
            "  inflating: annotated-images/img-440.xml  \n",
            "  inflating: annotated-images/img-441.jpg  \n",
            "  inflating: annotated-images/img-441.xml  \n",
            "  inflating: annotated-images/img-442.jpg  \n",
            "  inflating: annotated-images/img-442.xml  \n",
            "  inflating: annotated-images/img-443.jpg  \n",
            "  inflating: annotated-images/img-443.xml  \n",
            "  inflating: annotated-images/img-444.jpg  \n",
            "  inflating: annotated-images/img-444.xml  \n",
            "  inflating: annotated-images/img-445.jpg  \n",
            "  inflating: annotated-images/img-445.xml  \n",
            "  inflating: annotated-images/img-446.jpg  \n",
            "  inflating: annotated-images/img-446.xml  \n",
            "  inflating: annotated-images/img-447.jpg  \n",
            "  inflating: annotated-images/img-447.xml  \n",
            "  inflating: annotated-images/img-448.jpg  \n",
            "  inflating: annotated-images/img-448.xml  \n",
            "  inflating: annotated-images/img-449.jpg  \n",
            "  inflating: annotated-images/img-449.xml  \n",
            "  inflating: annotated-images/img-45.jpg  \n",
            "  inflating: annotated-images/img-45.xml  \n",
            "  inflating: annotated-images/img-450.jpg  \n",
            "  inflating: annotated-images/img-450.xml  \n",
            "  inflating: annotated-images/img-451.jpg  \n",
            "  inflating: annotated-images/img-451.xml  \n",
            "  inflating: annotated-images/img-452.jpg  \n",
            "  inflating: annotated-images/img-452.xml  \n",
            "  inflating: annotated-images/img-453.jpg  \n",
            "  inflating: annotated-images/img-453.xml  \n",
            "  inflating: annotated-images/img-454.jpg  \n",
            "  inflating: annotated-images/img-454.xml  \n",
            "  inflating: annotated-images/img-455.jpg  \n",
            "  inflating: annotated-images/img-455.xml  \n",
            "  inflating: annotated-images/img-456.jpg  \n",
            "  inflating: annotated-images/img-456.xml  \n",
            "  inflating: annotated-images/img-457.jpg  \n",
            "  inflating: annotated-images/img-457.xml  \n",
            "  inflating: annotated-images/img-458.jpg  \n",
            "  inflating: annotated-images/img-458.xml  \n",
            "  inflating: annotated-images/img-459.jpg  \n",
            "  inflating: annotated-images/img-459.xml  \n",
            "  inflating: annotated-images/img-46.jpg  \n",
            "  inflating: annotated-images/img-46.xml  \n",
            "  inflating: annotated-images/img-460.jpg  \n",
            "  inflating: annotated-images/img-460.xml  \n",
            "  inflating: annotated-images/img-461.jpg  \n",
            "  inflating: annotated-images/img-461.xml  \n",
            "  inflating: annotated-images/img-462.jpg  \n",
            "  inflating: annotated-images/img-462.xml  \n",
            "  inflating: annotated-images/img-463.jpg  \n",
            "  inflating: annotated-images/img-463.xml  \n",
            "  inflating: annotated-images/img-464.jpg  \n",
            "  inflating: annotated-images/img-464.xml  \n",
            "  inflating: annotated-images/img-465.jpg  \n",
            "  inflating: annotated-images/img-465.xml  \n",
            "  inflating: annotated-images/img-466.jpg  \n",
            "  inflating: annotated-images/img-466.xml  \n",
            "  inflating: annotated-images/img-467.jpg  \n",
            "  inflating: annotated-images/img-467.xml  \n",
            "  inflating: annotated-images/img-468.jpg  \n",
            "  inflating: annotated-images/img-468.xml  \n",
            "  inflating: annotated-images/img-469.jpg  \n",
            "  inflating: annotated-images/img-469.xml  \n",
            "  inflating: annotated-images/img-47.jpg  \n",
            "  inflating: annotated-images/img-47.xml  \n",
            "  inflating: annotated-images/img-470.jpg  \n",
            "  inflating: annotated-images/img-470.xml  \n",
            "  inflating: annotated-images/img-471.jpg  \n",
            "  inflating: annotated-images/img-471.xml  \n",
            "  inflating: annotated-images/img-472.jpg  \n",
            "  inflating: annotated-images/img-472.xml  \n",
            "  inflating: annotated-images/img-473.jpg  \n",
            "  inflating: annotated-images/img-473.xml  \n",
            "  inflating: annotated-images/img-474.jpg  \n",
            "  inflating: annotated-images/img-474.xml  \n",
            "  inflating: annotated-images/img-475.jpg  \n",
            "  inflating: annotated-images/img-475.xml  \n",
            "  inflating: annotated-images/img-476.jpg  \n",
            "  inflating: annotated-images/img-476.xml  \n",
            "  inflating: annotated-images/img-477.jpg  \n",
            "  inflating: annotated-images/img-477.xml  \n",
            "  inflating: annotated-images/img-478.jpg  \n",
            "  inflating: annotated-images/img-478.xml  \n",
            "  inflating: annotated-images/img-479.jpg  \n",
            "  inflating: annotated-images/img-479.xml  \n",
            "  inflating: annotated-images/img-48.jpg  \n",
            "  inflating: annotated-images/img-48.xml  \n",
            "  inflating: annotated-images/img-480.jpg  \n",
            "  inflating: annotated-images/img-480.xml  \n",
            "  inflating: annotated-images/img-481.jpg  \n",
            "  inflating: annotated-images/img-481.xml  \n",
            "  inflating: annotated-images/img-482.jpg  \n",
            "  inflating: annotated-images/img-482.xml  \n",
            "  inflating: annotated-images/img-483.jpg  \n",
            "  inflating: annotated-images/img-483.xml  \n",
            "  inflating: annotated-images/img-484.jpg  \n",
            "  inflating: annotated-images/img-484.xml  \n",
            "  inflating: annotated-images/img-485.jpg  \n",
            "  inflating: annotated-images/img-485.xml  \n",
            "  inflating: annotated-images/img-486.jpg  \n",
            "  inflating: annotated-images/img-486.xml  \n",
            "  inflating: annotated-images/img-487.jpg  \n",
            "  inflating: annotated-images/img-487.xml  \n",
            "  inflating: annotated-images/img-488.jpg  \n",
            "  inflating: annotated-images/img-488.xml  \n",
            "  inflating: annotated-images/img-489.jpg  \n",
            "  inflating: annotated-images/img-489.xml  \n",
            "  inflating: annotated-images/img-49.jpg  \n",
            "  inflating: annotated-images/img-49.xml  \n",
            "  inflating: annotated-images/img-490.jpg  \n",
            "  inflating: annotated-images/img-490.xml  \n",
            "  inflating: annotated-images/img-491.jpg  \n",
            "  inflating: annotated-images/img-491.xml  \n",
            "  inflating: annotated-images/img-492.jpg  \n",
            "  inflating: annotated-images/img-492.xml  \n",
            "  inflating: annotated-images/img-493.jpg  \n",
            "  inflating: annotated-images/img-493.xml  \n",
            "  inflating: annotated-images/img-494.jpg  \n",
            "  inflating: annotated-images/img-494.xml  \n",
            "  inflating: annotated-images/img-495.jpg  \n",
            "  inflating: annotated-images/img-495.xml  \n",
            "  inflating: annotated-images/img-496.jpg  \n",
            "  inflating: annotated-images/img-496.xml  \n",
            "  inflating: annotated-images/img-497.jpg  \n",
            "  inflating: annotated-images/img-497.xml  \n",
            "  inflating: annotated-images/img-498.jpg  \n",
            "  inflating: annotated-images/img-498.xml  \n",
            "  inflating: annotated-images/img-499.jpg  \n",
            "  inflating: annotated-images/img-499.xml  \n",
            "  inflating: annotated-images/img-5.jpg  \n",
            "  inflating: annotated-images/img-5.xml  \n",
            "  inflating: annotated-images/img-50.jpg  \n",
            "  inflating: annotated-images/img-50.xml  \n",
            "  inflating: annotated-images/img-500.jpg  \n",
            "  inflating: annotated-images/img-500.xml  \n",
            "  inflating: annotated-images/img-501.jpg  \n",
            "  inflating: annotated-images/img-501.xml  \n",
            "  inflating: annotated-images/img-502.jpg  \n",
            "  inflating: annotated-images/img-502.xml  \n",
            "  inflating: annotated-images/img-503.jpg  \n",
            "  inflating: annotated-images/img-503.xml  \n",
            "  inflating: annotated-images/img-504.jpg  \n",
            "  inflating: annotated-images/img-504.xml  \n",
            "  inflating: annotated-images/img-505.jpg  \n",
            "  inflating: annotated-images/img-505.xml  \n",
            "  inflating: annotated-images/img-506.jpg  \n",
            "  inflating: annotated-images/img-506.xml  \n",
            "  inflating: annotated-images/img-507.jpg  \n",
            "  inflating: annotated-images/img-507.xml  \n",
            "  inflating: annotated-images/img-508.jpg  \n",
            "  inflating: annotated-images/img-508.xml  \n",
            "  inflating: annotated-images/img-509.jpg  \n",
            "  inflating: annotated-images/img-509.xml  \n",
            "  inflating: annotated-images/img-51.jpg  \n",
            "  inflating: annotated-images/img-51.xml  \n",
            "  inflating: annotated-images/img-510.jpg  \n",
            "  inflating: annotated-images/img-510.xml  \n",
            "  inflating: annotated-images/img-511.jpg  \n",
            "  inflating: annotated-images/img-511.xml  \n",
            "  inflating: annotated-images/img-512.jpg  \n",
            "  inflating: annotated-images/img-512.xml  \n",
            "  inflating: annotated-images/img-513.jpg  \n",
            "  inflating: annotated-images/img-513.xml  \n",
            "  inflating: annotated-images/img-514.jpg  \n",
            "  inflating: annotated-images/img-514.xml  \n",
            "  inflating: annotated-images/img-515.jpg  \n",
            "  inflating: annotated-images/img-515.xml  \n",
            "  inflating: annotated-images/img-516.jpg  \n",
            "  inflating: annotated-images/img-516.xml  \n",
            "  inflating: annotated-images/img-517.jpg  \n",
            "  inflating: annotated-images/img-517.xml  \n",
            "  inflating: annotated-images/img-518.jpg  \n",
            "  inflating: annotated-images/img-518.xml  \n",
            "  inflating: annotated-images/img-519.jpg  \n",
            "  inflating: annotated-images/img-519.xml  \n",
            "  inflating: annotated-images/img-52.jpg  \n",
            "  inflating: annotated-images/img-52.xml  \n",
            "  inflating: annotated-images/img-520.jpg  \n",
            "  inflating: annotated-images/img-520.xml  \n",
            "  inflating: annotated-images/img-521.jpg  \n",
            "  inflating: annotated-images/img-521.xml  \n",
            "  inflating: annotated-images/img-522.jpg  \n",
            "  inflating: annotated-images/img-522.xml  \n",
            "  inflating: annotated-images/img-523.jpg  \n",
            "  inflating: annotated-images/img-523.xml  \n",
            "  inflating: annotated-images/img-524.jpg  \n",
            "  inflating: annotated-images/img-524.xml  \n",
            "  inflating: annotated-images/img-525.jpg  \n",
            "  inflating: annotated-images/img-525.xml  \n",
            "  inflating: annotated-images/img-526.jpg  \n",
            "  inflating: annotated-images/img-526.xml  \n",
            "  inflating: annotated-images/img-527.jpg  \n",
            "  inflating: annotated-images/img-527.xml  \n",
            "  inflating: annotated-images/img-528.jpg  \n",
            "  inflating: annotated-images/img-528.xml  \n",
            "  inflating: annotated-images/img-529.jpg  \n",
            "  inflating: annotated-images/img-529.xml  \n",
            "  inflating: annotated-images/img-53.jpg  \n",
            "  inflating: annotated-images/img-53.xml  \n",
            "  inflating: annotated-images/img-530.jpg  \n",
            "  inflating: annotated-images/img-530.xml  \n",
            "  inflating: annotated-images/img-531.jpg  \n",
            "  inflating: annotated-images/img-531.xml  \n",
            "  inflating: annotated-images/img-532.jpg  \n",
            "  inflating: annotated-images/img-532.xml  \n",
            "  inflating: annotated-images/img-533.jpg  \n",
            "  inflating: annotated-images/img-533.xml  \n",
            "  inflating: annotated-images/img-534.jpg  \n",
            "  inflating: annotated-images/img-534.xml  \n",
            "  inflating: annotated-images/img-535.jpg  \n",
            "  inflating: annotated-images/img-535.xml  \n",
            "  inflating: annotated-images/img-536.jpg  \n",
            "  inflating: annotated-images/img-536.xml  \n",
            "  inflating: annotated-images/img-537.jpg  \n",
            "  inflating: annotated-images/img-537.xml  \n",
            "  inflating: annotated-images/img-538.jpg  \n",
            "  inflating: annotated-images/img-538.xml  \n",
            "  inflating: annotated-images/img-539.jpg  \n",
            "  inflating: annotated-images/img-539.xml  \n",
            "  inflating: annotated-images/img-54.jpg  \n",
            "  inflating: annotated-images/img-54.xml  \n",
            "  inflating: annotated-images/img-540.jpg  \n",
            "  inflating: annotated-images/img-540.xml  \n",
            "  inflating: annotated-images/img-541.jpg  \n",
            "  inflating: annotated-images/img-541.xml  \n",
            "  inflating: annotated-images/img-542.jpg  \n",
            "  inflating: annotated-images/img-542.xml  \n",
            "  inflating: annotated-images/img-543.jpg  \n",
            "  inflating: annotated-images/img-543.xml  \n",
            "  inflating: annotated-images/img-544.jpg  \n",
            "  inflating: annotated-images/img-544.xml  \n",
            "  inflating: annotated-images/img-545.jpg  \n",
            "  inflating: annotated-images/img-545.xml  \n",
            "  inflating: annotated-images/img-546.jpg  \n",
            "  inflating: annotated-images/img-546.xml  \n",
            "  inflating: annotated-images/img-547.jpg  \n",
            "  inflating: annotated-images/img-547.xml  \n",
            "  inflating: annotated-images/img-548.jpg  \n",
            "  inflating: annotated-images/img-548.xml  \n",
            "  inflating: annotated-images/img-549.jpg  \n",
            "  inflating: annotated-images/img-549.xml  \n",
            "  inflating: annotated-images/img-55.jpg  \n",
            "  inflating: annotated-images/img-55.xml  \n",
            "  inflating: annotated-images/img-550.jpg  \n",
            "  inflating: annotated-images/img-550.xml  \n",
            "  inflating: annotated-images/img-551.jpg  \n",
            "  inflating: annotated-images/img-551.xml  \n",
            "  inflating: annotated-images/img-552.jpg  \n",
            "  inflating: annotated-images/img-552.xml  \n",
            "  inflating: annotated-images/img-553.jpg  \n",
            "  inflating: annotated-images/img-553.xml  \n",
            "  inflating: annotated-images/img-554.jpg  \n",
            "  inflating: annotated-images/img-554.xml  \n",
            "  inflating: annotated-images/img-555.jpg  \n",
            "  inflating: annotated-images/img-555.xml  \n",
            "  inflating: annotated-images/img-556.jpg  \n",
            "  inflating: annotated-images/img-556.xml  \n",
            "  inflating: annotated-images/img-557.jpg  \n",
            "  inflating: annotated-images/img-557.xml  \n",
            "  inflating: annotated-images/img-558.jpg  \n",
            "  inflating: annotated-images/img-558.xml  \n",
            "  inflating: annotated-images/img-559.jpg  \n",
            "  inflating: annotated-images/img-559.xml  \n",
            "  inflating: annotated-images/img-56.jpg  \n",
            "  inflating: annotated-images/img-56.xml  \n",
            "  inflating: annotated-images/img-560.jpg  \n",
            "  inflating: annotated-images/img-560.xml  \n",
            "  inflating: annotated-images/img-561.jpg  \n",
            "  inflating: annotated-images/img-561.xml  \n",
            "  inflating: annotated-images/img-562.jpg  \n",
            "  inflating: annotated-images/img-562.xml  \n",
            "  inflating: annotated-images/img-563.jpg  \n",
            "  inflating: annotated-images/img-563.xml  \n",
            "  inflating: annotated-images/img-564.jpg  \n",
            "  inflating: annotated-images/img-564.xml  \n",
            "  inflating: annotated-images/img-565.jpg  \n",
            "  inflating: annotated-images/img-565.xml  \n",
            "  inflating: annotated-images/img-566.jpg  \n",
            "  inflating: annotated-images/img-566.xml  \n",
            "  inflating: annotated-images/img-567.jpg  \n",
            "  inflating: annotated-images/img-567.xml  \n",
            "  inflating: annotated-images/img-568.jpg  \n",
            "  inflating: annotated-images/img-568.xml  \n",
            "  inflating: annotated-images/img-569.jpg  \n",
            "  inflating: annotated-images/img-569.xml  \n",
            "  inflating: annotated-images/img-57.jpg  \n",
            "  inflating: annotated-images/img-57.xml  \n",
            "  inflating: annotated-images/img-570.jpg  \n",
            "  inflating: annotated-images/img-570.xml  \n",
            "  inflating: annotated-images/img-571.jpg  \n",
            "  inflating: annotated-images/img-571.xml  \n",
            "  inflating: annotated-images/img-572.jpg  \n",
            "  inflating: annotated-images/img-572.xml  \n",
            "  inflating: annotated-images/img-573.jpg  \n",
            "  inflating: annotated-images/img-573.xml  \n",
            "  inflating: annotated-images/img-574.jpg  \n",
            "  inflating: annotated-images/img-574.xml  \n",
            "  inflating: annotated-images/img-575.jpg  \n",
            "  inflating: annotated-images/img-575.xml  \n",
            "  inflating: annotated-images/img-576.jpg  \n",
            "  inflating: annotated-images/img-576.xml  \n",
            "  inflating: annotated-images/img-577.jpg  \n",
            "  inflating: annotated-images/img-577.xml  \n",
            "  inflating: annotated-images/img-578.jpg  \n",
            "  inflating: annotated-images/img-578.xml  \n",
            "  inflating: annotated-images/img-579.jpg  \n",
            "  inflating: annotated-images/img-579.xml  \n",
            "  inflating: annotated-images/img-58.jpg  \n",
            "  inflating: annotated-images/img-58.xml  \n",
            "  inflating: annotated-images/img-580.jpg  \n",
            "  inflating: annotated-images/img-580.xml  \n",
            "  inflating: annotated-images/img-581.jpg  \n",
            "  inflating: annotated-images/img-581.xml  \n",
            "  inflating: annotated-images/img-582.jpg  \n",
            "  inflating: annotated-images/img-582.xml  \n",
            "  inflating: annotated-images/img-583.jpg  \n",
            "  inflating: annotated-images/img-583.xml  \n",
            "  inflating: annotated-images/img-584.jpg  \n",
            "  inflating: annotated-images/img-584.xml  \n",
            "  inflating: annotated-images/img-585.jpg  \n",
            "  inflating: annotated-images/img-585.xml  \n",
            "  inflating: annotated-images/img-586.jpg  \n",
            "  inflating: annotated-images/img-586.xml  \n",
            "  inflating: annotated-images/img-587.jpg  \n",
            "  inflating: annotated-images/img-587.xml  \n",
            "  inflating: annotated-images/img-588.jpg  \n",
            "  inflating: annotated-images/img-588.xml  \n",
            "  inflating: annotated-images/img-589.jpg  \n",
            "  inflating: annotated-images/img-589.xml  \n",
            "  inflating: annotated-images/img-59.jpg  \n",
            "  inflating: annotated-images/img-59.xml  \n",
            "  inflating: annotated-images/img-590.jpg  \n",
            "  inflating: annotated-images/img-590.xml  \n",
            "  inflating: annotated-images/img-591.jpg  \n",
            "  inflating: annotated-images/img-591.xml  \n",
            "  inflating: annotated-images/img-592.jpg  \n",
            "  inflating: annotated-images/img-592.xml  \n",
            "  inflating: annotated-images/img-593.jpg  \n",
            "  inflating: annotated-images/img-593.xml  \n",
            "  inflating: annotated-images/img-594.jpg  \n",
            "  inflating: annotated-images/img-594.xml  \n",
            "  inflating: annotated-images/img-595.jpg  \n",
            "  inflating: annotated-images/img-595.xml  \n",
            "  inflating: annotated-images/img-596.jpg  \n",
            "  inflating: annotated-images/img-596.xml  \n",
            "  inflating: annotated-images/img-597.jpg  \n",
            "  inflating: annotated-images/img-597.xml  \n",
            "  inflating: annotated-images/img-598.jpg  \n",
            "  inflating: annotated-images/img-598.xml  \n",
            "  inflating: annotated-images/img-599.jpg  \n",
            "  inflating: annotated-images/img-599.xml  \n",
            "  inflating: annotated-images/img-6.jpg  \n",
            "  inflating: annotated-images/img-6.xml  \n",
            "  inflating: annotated-images/img-60.jpg  \n",
            "  inflating: annotated-images/img-60.xml  \n",
            "  inflating: annotated-images/img-600.jpg  \n",
            "  inflating: annotated-images/img-600.xml  \n",
            "  inflating: annotated-images/img-601.jpg  \n",
            "  inflating: annotated-images/img-601.xml  \n",
            "  inflating: annotated-images/img-602.jpg  \n",
            "  inflating: annotated-images/img-602.xml  \n",
            "  inflating: annotated-images/img-603.jpg  \n",
            "  inflating: annotated-images/img-603.xml  \n",
            "  inflating: annotated-images/img-604.jpg  \n",
            "  inflating: annotated-images/img-604.xml  \n",
            "  inflating: annotated-images/img-605.jpg  \n",
            "  inflating: annotated-images/img-605.xml  \n",
            "  inflating: annotated-images/img-606.jpg  \n",
            "  inflating: annotated-images/img-606.xml  \n",
            "  inflating: annotated-images/img-607.jpg  \n",
            "  inflating: annotated-images/img-607.xml  \n",
            "  inflating: annotated-images/img-608.jpg  \n",
            "  inflating: annotated-images/img-608.xml  \n",
            "  inflating: annotated-images/img-609.jpg  \n",
            "  inflating: annotated-images/img-609.xml  \n",
            "  inflating: annotated-images/img-61.jpg  \n",
            "  inflating: annotated-images/img-61.xml  \n",
            "  inflating: annotated-images/img-610.jpg  \n",
            "  inflating: annotated-images/img-610.xml  \n",
            "  inflating: annotated-images/img-611.jpg  \n",
            "  inflating: annotated-images/img-611.xml  \n",
            "  inflating: annotated-images/img-612.jpg  \n",
            "  inflating: annotated-images/img-612.xml  \n",
            "  inflating: annotated-images/img-613.jpg  \n",
            "  inflating: annotated-images/img-613.xml  \n",
            "  inflating: annotated-images/img-614.jpg  \n",
            "  inflating: annotated-images/img-614.xml  \n",
            "  inflating: annotated-images/img-615.jpg  \n",
            "  inflating: annotated-images/img-615.xml  \n",
            "  inflating: annotated-images/img-616.jpg  \n",
            "  inflating: annotated-images/img-616.xml  \n",
            "  inflating: annotated-images/img-617.jpg  \n",
            "  inflating: annotated-images/img-617.xml  \n",
            "  inflating: annotated-images/img-618.jpg  \n",
            "  inflating: annotated-images/img-618.xml  \n",
            "  inflating: annotated-images/img-619.jpg  \n",
            "  inflating: annotated-images/img-619.xml  \n",
            "  inflating: annotated-images/img-62.jpg  \n",
            "  inflating: annotated-images/img-62.xml  \n",
            "  inflating: annotated-images/img-620.jpg  \n",
            "  inflating: annotated-images/img-620.xml  \n",
            "  inflating: annotated-images/img-621.jpg  \n",
            "  inflating: annotated-images/img-621.xml  \n",
            "  inflating: annotated-images/img-622.jpg  \n",
            "  inflating: annotated-images/img-622.xml  \n",
            "  inflating: annotated-images/img-623.jpg  \n",
            "  inflating: annotated-images/img-623.xml  \n",
            "  inflating: annotated-images/img-624.jpg  \n",
            "  inflating: annotated-images/img-624.xml  \n",
            "  inflating: annotated-images/img-625.jpg  \n",
            "  inflating: annotated-images/img-625.xml  \n",
            "  inflating: annotated-images/img-626.jpg  \n",
            "  inflating: annotated-images/img-626.xml  \n",
            "  inflating: annotated-images/img-627.jpg  \n",
            "  inflating: annotated-images/img-627.xml  \n",
            "  inflating: annotated-images/img-628.jpg  \n",
            "  inflating: annotated-images/img-628.xml  \n",
            "  inflating: annotated-images/img-629.jpg  \n",
            "  inflating: annotated-images/img-629.xml  \n",
            "  inflating: annotated-images/img-63.jpg  \n",
            "  inflating: annotated-images/img-63.xml  \n",
            "  inflating: annotated-images/img-630.jpg  \n",
            "  inflating: annotated-images/img-630.xml  \n",
            "  inflating: annotated-images/img-631.jpg  \n",
            "  inflating: annotated-images/img-631.xml  \n",
            "  inflating: annotated-images/img-632.jpg  \n",
            "  inflating: annotated-images/img-632.xml  \n",
            "  inflating: annotated-images/img-633.jpg  \n",
            "  inflating: annotated-images/img-633.xml  \n",
            "  inflating: annotated-images/img-634.jpg  \n",
            "  inflating: annotated-images/img-634.xml  \n",
            "  inflating: annotated-images/img-635.jpg  \n",
            "  inflating: annotated-images/img-635.xml  \n",
            "  inflating: annotated-images/img-636.jpg  \n",
            "  inflating: annotated-images/img-636.xml  \n",
            "  inflating: annotated-images/img-637.jpg  \n",
            "  inflating: annotated-images/img-637.xml  \n",
            "  inflating: annotated-images/img-638.jpg  \n",
            "  inflating: annotated-images/img-638.xml  \n",
            "  inflating: annotated-images/img-639.jpg  \n",
            "  inflating: annotated-images/img-639.xml  \n",
            "  inflating: annotated-images/img-64.jpg  \n",
            "  inflating: annotated-images/img-64.xml  \n",
            "  inflating: annotated-images/img-640.jpg  \n",
            "  inflating: annotated-images/img-640.xml  \n",
            "  inflating: annotated-images/img-641.jpg  \n",
            "  inflating: annotated-images/img-641.xml  \n",
            "  inflating: annotated-images/img-642.jpg  \n",
            "  inflating: annotated-images/img-642.xml  \n",
            "  inflating: annotated-images/img-643.jpg  \n",
            "  inflating: annotated-images/img-643.xml  \n",
            "  inflating: annotated-images/img-644.jpg  \n",
            "  inflating: annotated-images/img-644.xml  \n",
            "  inflating: annotated-images/img-645.jpg  \n",
            "  inflating: annotated-images/img-645.xml  \n",
            "  inflating: annotated-images/img-646.jpg  \n",
            "  inflating: annotated-images/img-646.xml  \n",
            "  inflating: annotated-images/img-647.jpg  \n",
            "  inflating: annotated-images/img-647.xml  \n",
            "  inflating: annotated-images/img-648.jpg  \n",
            "  inflating: annotated-images/img-648.xml  \n",
            "  inflating: annotated-images/img-649.jpg  \n",
            "  inflating: annotated-images/img-649.xml  \n",
            "  inflating: annotated-images/img-65.jpg  \n",
            "  inflating: annotated-images/img-65.xml  \n",
            "  inflating: annotated-images/img-650.jpg  \n",
            "  inflating: annotated-images/img-650.xml  \n",
            "  inflating: annotated-images/img-651.jpg  \n",
            "  inflating: annotated-images/img-651.xml  \n",
            "  inflating: annotated-images/img-652.jpg  \n",
            "  inflating: annotated-images/img-652.xml  \n",
            "  inflating: annotated-images/img-653.jpg  \n",
            "  inflating: annotated-images/img-653.xml  \n",
            "  inflating: annotated-images/img-654.jpg  \n",
            "  inflating: annotated-images/img-654.xml  \n",
            "  inflating: annotated-images/img-655.jpg  \n",
            "  inflating: annotated-images/img-655.xml  \n",
            "  inflating: annotated-images/img-656.jpg  \n",
            "  inflating: annotated-images/img-656.xml  \n",
            "  inflating: annotated-images/img-657.jpg  \n",
            "  inflating: annotated-images/img-657.xml  \n",
            "  inflating: annotated-images/img-658.jpg  \n",
            "  inflating: annotated-images/img-658.xml  \n",
            "  inflating: annotated-images/img-659.jpg  \n",
            "  inflating: annotated-images/img-659.xml  \n",
            "  inflating: annotated-images/img-66.jpg  \n",
            "  inflating: annotated-images/img-66.xml  \n",
            "  inflating: annotated-images/img-660.jpg  \n",
            "  inflating: annotated-images/img-660.xml  \n",
            "  inflating: annotated-images/img-661.jpg  \n",
            "  inflating: annotated-images/img-661.xml  \n",
            "  inflating: annotated-images/img-662.jpg  \n",
            "  inflating: annotated-images/img-662.xml  \n",
            "  inflating: annotated-images/img-663.jpg  \n",
            "  inflating: annotated-images/img-663.xml  \n",
            "  inflating: annotated-images/img-664.jpg  \n",
            "  inflating: annotated-images/img-664.xml  \n",
            "  inflating: annotated-images/img-665.jpg  \n",
            "  inflating: annotated-images/img-665.xml  \n",
            "  inflating: annotated-images/img-67.jpg  \n",
            "  inflating: annotated-images/img-67.xml  \n",
            "  inflating: annotated-images/img-68.jpg  \n",
            "  inflating: annotated-images/img-68.xml  \n",
            "  inflating: annotated-images/img-69.jpg  \n",
            "  inflating: annotated-images/img-69.xml  \n",
            "  inflating: annotated-images/img-7.jpg  \n",
            "  inflating: annotated-images/img-7.xml  \n",
            "  inflating: annotated-images/img-70.jpg  \n",
            "  inflating: annotated-images/img-70.xml  \n",
            "  inflating: annotated-images/img-71.jpg  \n",
            "  inflating: annotated-images/img-71.xml  \n",
            "  inflating: annotated-images/img-72.jpg  \n",
            "  inflating: annotated-images/img-72.xml  \n",
            "  inflating: annotated-images/img-73.jpg  \n",
            "  inflating: annotated-images/img-73.xml  \n",
            "  inflating: annotated-images/img-74.jpg  \n",
            "  inflating: annotated-images/img-74.xml  \n",
            "  inflating: annotated-images/img-75.jpg  \n",
            "  inflating: annotated-images/img-75.xml  \n",
            "  inflating: annotated-images/img-76.jpg  \n",
            "  inflating: annotated-images/img-76.xml  \n",
            "  inflating: annotated-images/img-77.jpg  \n",
            "  inflating: annotated-images/img-77.xml  \n",
            "  inflating: annotated-images/img-78.jpg  \n",
            "  inflating: annotated-images/img-78.xml  \n",
            "  inflating: annotated-images/img-79.jpg  \n",
            "  inflating: annotated-images/img-79.xml  \n",
            "  inflating: annotated-images/img-8.jpg  \n",
            "  inflating: annotated-images/img-8.xml  \n",
            "  inflating: annotated-images/img-80.jpg  \n",
            "  inflating: annotated-images/img-80.xml  \n",
            "  inflating: annotated-images/img-81.jpg  \n",
            "  inflating: annotated-images/img-81.xml  \n",
            "  inflating: annotated-images/img-82.jpg  \n",
            "  inflating: annotated-images/img-82.xml  \n",
            "  inflating: annotated-images/img-83.jpg  \n",
            "  inflating: annotated-images/img-83.xml  \n",
            "  inflating: annotated-images/img-84.jpg  \n",
            "  inflating: annotated-images/img-84.xml  \n",
            "  inflating: annotated-images/img-85.jpg  \n",
            "  inflating: annotated-images/img-85.xml  \n",
            "  inflating: annotated-images/img-86.jpg  \n",
            "  inflating: annotated-images/img-86.xml  \n",
            "  inflating: annotated-images/img-87.jpg  \n",
            "  inflating: annotated-images/img-87.xml  \n",
            "  inflating: annotated-images/img-88.jpg  \n",
            "  inflating: annotated-images/img-88.xml  \n",
            "  inflating: annotated-images/img-89.jpg  \n",
            "  inflating: annotated-images/img-89.xml  \n",
            "  inflating: annotated-images/img-9.jpg  \n",
            "  inflating: annotated-images/img-9.xml  \n",
            "  inflating: annotated-images/img-90.jpg  \n",
            "  inflating: annotated-images/img-90.xml  \n",
            "  inflating: annotated-images/img-91.jpg  \n",
            "  inflating: annotated-images/img-91.xml  \n",
            "  inflating: annotated-images/img-92.jpg  \n",
            "  inflating: annotated-images/img-92.xml  \n",
            "  inflating: annotated-images/img-93.jpg  \n",
            "  inflating: annotated-images/img-93.xml  \n",
            "  inflating: annotated-images/img-94.jpg  \n",
            "  inflating: annotated-images/img-94.xml  \n",
            "  inflating: annotated-images/img-95.jpg  \n",
            "  inflating: annotated-images/img-95.xml  \n",
            "  inflating: annotated-images/img-96.jpg  \n",
            "  inflating: annotated-images/img-96.xml  \n",
            "  inflating: annotated-images/img-97.jpg  \n",
            "  inflating: annotated-images/img-97.xml  \n",
            "  inflating: annotated-images/img-98.jpg  \n",
            "  inflating: annotated-images/img-98.xml  \n",
            "  inflating: annotated-images/img-99.jpg  \n",
            "  inflating: annotated-images/img-99.xml  \n",
            "replace splits.json? [y]es, [n]o, [A]ll, [N]one, [r]ename: y\n",
            "  inflating: splits.json             \n"
          ]
        }
      ]
    },
    {
      "cell_type": "markdown",
      "source": [
        "**Create Folder structure**"
      ],
      "metadata": {
        "id": "ZQhSByVORTRQ"
      }
    },
    {
      "cell_type": "code",
      "source": [
        "\n",
        "import os\n",
        "from pathlib import Path\n",
        "import logging\n",
        "\n",
        "logging.basicConfig(level=logging.INFO, format='[%(asctime)s]: %(message)s')\n",
        "\n",
        "project_name = 'Pothole_Detection'\n",
        "\n",
        "list_of_files = [\n",
        "    f\"{project_name}/images/train\",\n",
        "    f\"{project_name}/images/val\",\n",
        "    f\"{project_name}/labels/train\",\n",
        "    f\"{project_name}/labels/val\",\n",
        "    f\"{project_name}/splits.json\",\n",
        "    f\"{project_name}/README.md\"\n",
        "]\n",
        "\n",
        "for filepath in list_of_files:\n",
        "    path = Path(filepath)\n",
        "\n",
        "    if path.suffix:  # Check if path is a file\n",
        "        # Create parent directories\n",
        "        if not path.parent.exists():\n",
        "            path.parent.mkdir(parents=True, exist_ok=True)\n",
        "            logging.info(f\"Creating directory: {path.parent}\")\n",
        "\n",
        "        # Create file if it doesn't exist or if it is empty\n",
        "        if not path.exists() or path.stat().st_size == 0:\n",
        "            path.touch()\n",
        "            logging.info(f\"Creating file: {path}\")\n",
        "    else:  # Path is a directory\n",
        "        path.mkdir(parents=True, exist_ok=True)\n",
        "        logging.info(f\"Creating directory: {path}\")\n"
      ],
      "metadata": {
        "id": "d0sI8Z9KnUQk"
      },
      "execution_count": 3,
      "outputs": []
    },
    {
      "cell_type": "markdown",
      "source": [
        "**Move file to our newly created Folders**"
      ],
      "metadata": {
        "id": "v6640GULQ0WI"
      }
    },
    {
      "cell_type": "code",
      "source": [
        "import shutil\n",
        "\n",
        "# Load splits file\n",
        "splits_file = 'splits.json'\n",
        "annotated_images = '/content/annotated-images'\n",
        "with open(splits_file, 'r') as file:\n",
        "    splits = json.load(file)\n",
        "\n",
        "# Function to move files\n",
        "def move_files(file_list, split_type):\n",
        "    for xml_file in file_list:\n",
        "        image_file = xml_file.replace('.xml', '.jpg')  # Corresponding image file\n",
        "\n",
        "        # Define source paths\n",
        "        src_image_path =Path(annotated_images) / image_file\n",
        "        src_xml_path = Path(annotated_images) / xml_file\n",
        "\n",
        "        # Define destination paths\n",
        "        dest_image_path = Path(project_name) / 'images' / split_type / image_file\n",
        "        dest_xml_path = Path(project_name) / 'labels' / split_type / xml_file\n",
        "\n",
        "        # Move image file\n",
        "        if src_image_path.exists():\n",
        "            shutil.move(str(src_image_path), str(dest_image_path))\n",
        "        else:\n",
        "            print(f\"Warning: {src_image_path} does not exist\")\n",
        "\n",
        "        # Move xml file\n",
        "        if src_xml_path.exists():\n",
        "            shutil.move(str(src_xml_path), str(dest_xml_path))\n",
        "        else:\n",
        "            print(f\"Warning: {src_xml_path} does not exist\")\n",
        "\n",
        "# Move train files\n",
        "move_files(splits.get('train', []), 'train')\n",
        "\n",
        "# Move validation files\n",
        "move_files(splits.get('test', []), 'val')\n",
        "\n",
        "print(\"Files moved successfully!\")"
      ],
      "metadata": {
        "id": "txPrRHsmnUOa",
        "colab": {
          "base_uri": "https://localhost:8080/"
        },
        "outputId": "82de42d7-ca3a-4639-fd3b-56d3b5e64142"
      },
      "execution_count": 4,
      "outputs": [
        {
          "output_type": "stream",
          "name": "stdout",
          "text": [
            "Files moved successfully!\n"
          ]
        }
      ]
    },
    {
      "cell_type": "markdown",
      "source": [
        "**Convert XML Annotations to YOLO Format**"
      ],
      "metadata": {
        "id": "g7rLfqsrQnMX"
      }
    },
    {
      "cell_type": "code",
      "source": [
        "\n",
        "\n",
        "import os\n",
        "import xml.etree.ElementTree as ET\n",
        "\n",
        "# Define the parent directory and subdirectories\n",
        "parent_directory = 'Pothole_Detection'\n",
        "images_dir = os.path.join(parent_directory, 'images')\n",
        "labels_dir = os.path.join(parent_directory, 'labels')\n",
        "\n",
        "# Ensure the labels/train and labels/val directories exist\n",
        "os.makedirs(os.path.join(labels_dir, 'train'), exist_ok=True)\n",
        "os.makedirs(os.path.join(labels_dir, 'val'), exist_ok=True)\n",
        "\n",
        "# Function to convert XML to YOLOv8 format\n",
        "def convert_xml_to_yolo(xml_file, output_txt_file):\n",
        "    tree = ET.parse(xml_file)\n",
        "    root = tree.getroot()\n",
        "\n",
        "    # Extract image dimensions\n",
        "    size = root.find('size')\n",
        "    width = int(size.find('width').text)\n",
        "    height = int(size.find('height').text)\n",
        "\n",
        "    yolo_annotations = []\n",
        "\n",
        "    # Extract object information\n",
        "    for obj in root.findall('object'):\n",
        "        cls_name = obj.find('name').text\n",
        "        # Assuming 'pothole' class has an ID of 0; modify as per your class ID\n",
        "        cls_id = 0 if cls_name == 'pothole' else -1\n",
        "        if cls_id == -1:\n",
        "            continue\n",
        "\n",
        "        bndbox = obj.find('bndbox')\n",
        "        xmin = int(bndbox.find('xmin').text)\n",
        "        ymin = int(bndbox.find('ymin').text)\n",
        "        xmax = int(bndbox.find('xmax').text)\n",
        "        ymax = int(bndbox.find('ymax').text)\n",
        "\n",
        "        # Normalize the coordinates\n",
        "        x_center = (xmin + xmax) / 2 / width\n",
        "        y_center = (ymin + ymax) / 2 / height\n",
        "        bbox_width = (xmax - xmin) / width\n",
        "        bbox_height = (ymax - ymin) / height\n",
        "\n",
        "        yolo_annotations.append(f\"{cls_id} {x_center:.6f} {y_center:.6f} {bbox_width:.6f} {bbox_height:.6f}\")\n",
        "\n",
        "    # Save to corresponding txt file\n",
        "    with open(output_txt_file, 'w') as f:\n",
        "        f.write('\\n'.join(yolo_annotations))\n",
        "\n",
        "    # Remove the original XML file\n",
        "    os.remove(xml_file)\n",
        "\n",
        "# Process all XML files in the labels/train and labels/val directories\n",
        "for split in ['train', 'val']:\n",
        "    xml_files_dir = os.path.join(labels_dir, split)\n",
        "    output_txt_dir = os.path.join(labels_dir, split)\n",
        "\n",
        "    for xml_filename in os.listdir(xml_files_dir):\n",
        "        if xml_filename.endswith('.xml'):\n",
        "            xml_path = os.path.join(xml_files_dir, xml_filename)\n",
        "            txt_filename = xml_filename.replace('.xml', '.txt')\n",
        "            txt_path = os.path.join(output_txt_dir, txt_filename)\n",
        "            convert_xml_to_yolo(xml_path, txt_path)\n",
        "\n",
        "print(\"Conversion completed successfully!\")\n"
      ],
      "metadata": {
        "id": "TxkZTtFtJojc",
        "colab": {
          "base_uri": "https://localhost:8080/"
        },
        "outputId": "94f9b0a3-291f-43f9-ed48-9e54740bc030"
      },
      "execution_count": 5,
      "outputs": [
        {
          "output_type": "stream",
          "name": "stdout",
          "text": [
            "Conversion completed successfully!\n"
          ]
        }
      ]
    },
    {
      "cell_type": "markdown",
      "source": [
        "**Generating .yaml file**\n"
      ],
      "metadata": {
        "id": "Sy2ebIdtWatj"
      }
    },
    {
      "cell_type": "code",
      "source": [
        "import os\n",
        "\n",
        "parent_directory = '/content/Pothole_Detection'\n",
        "images_dir = os.path.join(parent_directory, 'images')\n",
        "\n",
        "# Class names\n",
        "classes = ['pothole']\n",
        "\n",
        "# YAML content\n",
        "yaml_content = f\"\"\"\n",
        "train: {os.path.join(images_dir, 'train')}\n",
        "val: {os.path.join(images_dir, 'test')}\n",
        "\n",
        "nc: {len(classes)}\n",
        "names: {classes}\n",
        "\"\"\"\n",
        "\n",
        "# Save the YAML content\n",
        "yaml_file_path = os.path.join(parent_directory, 'dataset.yaml')\n",
        "with open(yaml_file_path, 'w') as f:\n",
        "    f.write(yaml_content)\n",
        "\n",
        "print(f\"YAML file generated at: {yaml_file_path}\")\n"
      ],
      "metadata": {
        "id": "RnSa2oLDWaKK",
        "colab": {
          "base_uri": "https://localhost:8080/"
        },
        "outputId": "e4563b60-9b61-4f26-926b-c5bf586ab145"
      },
      "execution_count": 12,
      "outputs": [
        {
          "output_type": "stream",
          "name": "stdout",
          "text": [
            "YAML file generated at: /content/Pothole_Detection/dataset.yaml\n"
          ]
        }
      ]
    },
    {
      "cell_type": "code",
      "source": [
        "# install ultralytics\n",
        "!pip install ultralytics"
      ],
      "metadata": {
        "id": "EM0Br4urY0Md",
        "colab": {
          "base_uri": "https://localhost:8080/"
        },
        "outputId": "96ef1fde-9d1f-47c4-9685-b556fada4931"
      },
      "execution_count": 7,
      "outputs": [
        {
          "output_type": "stream",
          "name": "stdout",
          "text": [
            "Requirement already satisfied: ultralytics in /usr/local/lib/python3.10/dist-packages (8.2.64)\n",
            "Requirement already satisfied: numpy<2.0.0,>=1.23.0 in /usr/local/lib/python3.10/dist-packages (from ultralytics) (1.25.2)\n",
            "Requirement already satisfied: matplotlib>=3.3.0 in /usr/local/lib/python3.10/dist-packages (from ultralytics) (3.7.1)\n",
            "Requirement already satisfied: opencv-python>=4.6.0 in /usr/local/lib/python3.10/dist-packages (from ultralytics) (4.8.0.76)\n",
            "Requirement already satisfied: pillow>=7.1.2 in /usr/local/lib/python3.10/dist-packages (from ultralytics) (9.4.0)\n",
            "Requirement already satisfied: pyyaml>=5.3.1 in /usr/local/lib/python3.10/dist-packages (from ultralytics) (6.0.1)\n",
            "Requirement already satisfied: requests>=2.23.0 in /usr/local/lib/python3.10/dist-packages (from ultralytics) (2.31.0)\n",
            "Requirement already satisfied: scipy>=1.4.1 in /usr/local/lib/python3.10/dist-packages (from ultralytics) (1.11.4)\n",
            "Requirement already satisfied: torch>=1.8.0 in /usr/local/lib/python3.10/dist-packages (from ultralytics) (2.3.1+cu121)\n",
            "Requirement already satisfied: torchvision>=0.9.0 in /usr/local/lib/python3.10/dist-packages (from ultralytics) (0.18.1+cu121)\n",
            "Requirement already satisfied: tqdm>=4.64.0 in /usr/local/lib/python3.10/dist-packages (from ultralytics) (4.66.4)\n",
            "Requirement already satisfied: psutil in /usr/local/lib/python3.10/dist-packages (from ultralytics) (5.9.5)\n",
            "Requirement already satisfied: py-cpuinfo in /usr/local/lib/python3.10/dist-packages (from ultralytics) (9.0.0)\n",
            "Requirement already satisfied: pandas>=1.1.4 in /usr/local/lib/python3.10/dist-packages (from ultralytics) (2.0.3)\n",
            "Requirement already satisfied: seaborn>=0.11.0 in /usr/local/lib/python3.10/dist-packages (from ultralytics) (0.13.1)\n",
            "Requirement already satisfied: ultralytics-thop>=2.0.0 in /usr/local/lib/python3.10/dist-packages (from ultralytics) (2.0.0)\n",
            "Requirement already satisfied: contourpy>=1.0.1 in /usr/local/lib/python3.10/dist-packages (from matplotlib>=3.3.0->ultralytics) (1.2.1)\n",
            "Requirement already satisfied: cycler>=0.10 in /usr/local/lib/python3.10/dist-packages (from matplotlib>=3.3.0->ultralytics) (0.12.1)\n",
            "Requirement already satisfied: fonttools>=4.22.0 in /usr/local/lib/python3.10/dist-packages (from matplotlib>=3.3.0->ultralytics) (4.53.1)\n",
            "Requirement already satisfied: kiwisolver>=1.0.1 in /usr/local/lib/python3.10/dist-packages (from matplotlib>=3.3.0->ultralytics) (1.4.5)\n",
            "Requirement already satisfied: packaging>=20.0 in /usr/local/lib/python3.10/dist-packages (from matplotlib>=3.3.0->ultralytics) (24.1)\n",
            "Requirement already satisfied: pyparsing>=2.3.1 in /usr/local/lib/python3.10/dist-packages (from matplotlib>=3.3.0->ultralytics) (3.1.2)\n",
            "Requirement already satisfied: python-dateutil>=2.7 in /usr/local/lib/python3.10/dist-packages (from matplotlib>=3.3.0->ultralytics) (2.8.2)\n",
            "Requirement already satisfied: pytz>=2020.1 in /usr/local/lib/python3.10/dist-packages (from pandas>=1.1.4->ultralytics) (2023.4)\n",
            "Requirement already satisfied: tzdata>=2022.1 in /usr/local/lib/python3.10/dist-packages (from pandas>=1.1.4->ultralytics) (2024.1)\n",
            "Requirement already satisfied: charset-normalizer<4,>=2 in /usr/local/lib/python3.10/dist-packages (from requests>=2.23.0->ultralytics) (3.3.2)\n",
            "Requirement already satisfied: idna<4,>=2.5 in /usr/local/lib/python3.10/dist-packages (from requests>=2.23.0->ultralytics) (3.7)\n",
            "Requirement already satisfied: urllib3<3,>=1.21.1 in /usr/local/lib/python3.10/dist-packages (from requests>=2.23.0->ultralytics) (2.0.7)\n",
            "Requirement already satisfied: certifi>=2017.4.17 in /usr/local/lib/python3.10/dist-packages (from requests>=2.23.0->ultralytics) (2024.7.4)\n",
            "Requirement already satisfied: filelock in /usr/local/lib/python3.10/dist-packages (from torch>=1.8.0->ultralytics) (3.15.4)\n",
            "Requirement already satisfied: typing-extensions>=4.8.0 in /usr/local/lib/python3.10/dist-packages (from torch>=1.8.0->ultralytics) (4.12.2)\n",
            "Requirement already satisfied: sympy in /usr/local/lib/python3.10/dist-packages (from torch>=1.8.0->ultralytics) (1.13.0)\n",
            "Requirement already satisfied: networkx in /usr/local/lib/python3.10/dist-packages (from torch>=1.8.0->ultralytics) (3.3)\n",
            "Requirement already satisfied: jinja2 in /usr/local/lib/python3.10/dist-packages (from torch>=1.8.0->ultralytics) (3.1.4)\n",
            "Requirement already satisfied: fsspec in /usr/local/lib/python3.10/dist-packages (from torch>=1.8.0->ultralytics) (2023.6.0)\n",
            "Requirement already satisfied: nvidia-cuda-nvrtc-cu12==12.1.105 in /usr/local/lib/python3.10/dist-packages (from torch>=1.8.0->ultralytics) (12.1.105)\n",
            "Requirement already satisfied: nvidia-cuda-runtime-cu12==12.1.105 in /usr/local/lib/python3.10/dist-packages (from torch>=1.8.0->ultralytics) (12.1.105)\n",
            "Requirement already satisfied: nvidia-cuda-cupti-cu12==12.1.105 in /usr/local/lib/python3.10/dist-packages (from torch>=1.8.0->ultralytics) (12.1.105)\n",
            "Requirement already satisfied: nvidia-cudnn-cu12==8.9.2.26 in /usr/local/lib/python3.10/dist-packages (from torch>=1.8.0->ultralytics) (8.9.2.26)\n",
            "Requirement already satisfied: nvidia-cublas-cu12==12.1.3.1 in /usr/local/lib/python3.10/dist-packages (from torch>=1.8.0->ultralytics) (12.1.3.1)\n",
            "Requirement already satisfied: nvidia-cufft-cu12==11.0.2.54 in /usr/local/lib/python3.10/dist-packages (from torch>=1.8.0->ultralytics) (11.0.2.54)\n",
            "Requirement already satisfied: nvidia-curand-cu12==10.3.2.106 in /usr/local/lib/python3.10/dist-packages (from torch>=1.8.0->ultralytics) (10.3.2.106)\n",
            "Requirement already satisfied: nvidia-cusolver-cu12==11.4.5.107 in /usr/local/lib/python3.10/dist-packages (from torch>=1.8.0->ultralytics) (11.4.5.107)\n",
            "Requirement already satisfied: nvidia-cusparse-cu12==12.1.0.106 in /usr/local/lib/python3.10/dist-packages (from torch>=1.8.0->ultralytics) (12.1.0.106)\n",
            "Requirement already satisfied: nvidia-nccl-cu12==2.20.5 in /usr/local/lib/python3.10/dist-packages (from torch>=1.8.0->ultralytics) (2.20.5)\n",
            "Requirement already satisfied: nvidia-nvtx-cu12==12.1.105 in /usr/local/lib/python3.10/dist-packages (from torch>=1.8.0->ultralytics) (12.1.105)\n",
            "Requirement already satisfied: triton==2.3.1 in /usr/local/lib/python3.10/dist-packages (from torch>=1.8.0->ultralytics) (2.3.1)\n",
            "Requirement already satisfied: nvidia-nvjitlink-cu12 in /usr/local/lib/python3.10/dist-packages (from nvidia-cusolver-cu12==11.4.5.107->torch>=1.8.0->ultralytics) (12.5.82)\n",
            "Requirement already satisfied: six>=1.5 in /usr/local/lib/python3.10/dist-packages (from python-dateutil>=2.7->matplotlib>=3.3.0->ultralytics) (1.16.0)\n",
            "Requirement already satisfied: MarkupSafe>=2.0 in /usr/local/lib/python3.10/dist-packages (from jinja2->torch>=1.8.0->ultralytics) (2.1.5)\n",
            "Requirement already satisfied: mpmath<1.4,>=1.1.0 in /usr/local/lib/python3.10/dist-packages (from sympy->torch>=1.8.0->ultralytics) (1.3.0)\n"
          ]
        }
      ]
    },
    {
      "cell_type": "code",
      "source": [
        "from ultralytics import YOLO"
      ],
      "metadata": {
        "id": "OHuYpI4ZYxPS"
      },
      "execution_count": 8,
      "outputs": []
    },
    {
      "cell_type": "code",
      "source": [
        "# download pre-trained yolov8\n",
        "model = YOLO(\"yolov8m.pt\")"
      ],
      "metadata": {
        "id": "GTT5IuDXZCCV"
      },
      "execution_count": 9,
      "outputs": []
    },
    {
      "cell_type": "code",
      "source": [
        "# train model on our dataset\n",
        "model.train(data='/content/Pothole_Detection/dataset.yaml', epochs=40)"
      ],
      "metadata": {
        "id": "CC9phPHeZUYq",
        "colab": {
          "base_uri": "https://localhost:8080/"
        },
        "outputId": "bd0d6e95-f3ec-4042-a6fc-25a1f504036e"
      },
      "execution_count": 13,
      "outputs": [
        {
          "output_type": "stream",
          "name": "stdout",
          "text": [
            "Ultralytics YOLOv8.2.64 🚀 Python-3.10.12 torch-2.3.1+cu121 CUDA:0 (Tesla T4, 15102MiB)\n",
            "\u001b[34m\u001b[1mengine/trainer: \u001b[0mtask=detect, mode=train, model=yolov8m.pt, data=/content/Pothole_Detection/dataset.yaml, epochs=40, time=None, patience=100, batch=16, imgsz=640, save=True, save_period=-1, cache=False, device=None, workers=8, project=None, name=train9, exist_ok=False, pretrained=True, optimizer=auto, verbose=True, seed=0, deterministic=True, single_cls=False, rect=False, cos_lr=False, close_mosaic=10, resume=False, amp=True, fraction=1.0, profile=False, freeze=None, multi_scale=False, overlap_mask=True, mask_ratio=4, dropout=0.0, val=True, split=val, save_json=False, save_hybrid=False, conf=None, iou=0.7, max_det=300, half=False, dnn=False, plots=True, source=None, vid_stride=1, stream_buffer=False, visualize=False, augment=False, agnostic_nms=False, classes=None, retina_masks=False, embed=None, show=False, save_frames=False, save_txt=False, save_conf=False, save_crop=False, show_labels=True, show_conf=True, show_boxes=True, line_width=None, format=torchscript, keras=False, optimize=False, int8=False, dynamic=False, simplify=False, opset=None, workspace=4, nms=False, lr0=0.01, lrf=0.01, momentum=0.937, weight_decay=0.0005, warmup_epochs=3.0, warmup_momentum=0.8, warmup_bias_lr=0.1, box=7.5, cls=0.5, dfl=1.5, pose=12.0, kobj=1.0, label_smoothing=0.0, nbs=64, hsv_h=0.015, hsv_s=0.7, hsv_v=0.4, degrees=0.0, translate=0.1, scale=0.5, shear=0.0, perspective=0.0, flipud=0.0, fliplr=0.5, bgr=0.0, mosaic=1.0, mixup=0.0, copy_paste=0.0, auto_augment=randaugment, erasing=0.4, crop_fraction=1.0, cfg=None, tracker=botsort.yaml, save_dir=runs/detect/train9\n",
            "Downloading https://ultralytics.com/assets/Arial.ttf to '/root/.config/Ultralytics/Arial.ttf'...\n"
          ]
        },
        {
          "output_type": "stream",
          "name": "stderr",
          "text": [
            "100%|██████████| 755k/755k [00:00<00:00, 121MB/s]\n"
          ]
        },
        {
          "output_type": "stream",
          "name": "stdout",
          "text": [
            "Overriding model.yaml nc=80 with nc=1\n",
            "\n",
            "                   from  n    params  module                                       arguments                     \n",
            "  0                  -1  1      1392  ultralytics.nn.modules.conv.Conv             [3, 48, 3, 2]                 \n",
            "  1                  -1  1     41664  ultralytics.nn.modules.conv.Conv             [48, 96, 3, 2]                \n",
            "  2                  -1  2    111360  ultralytics.nn.modules.block.C2f             [96, 96, 2, True]             \n",
            "  3                  -1  1    166272  ultralytics.nn.modules.conv.Conv             [96, 192, 3, 2]               \n",
            "  4                  -1  4    813312  ultralytics.nn.modules.block.C2f             [192, 192, 4, True]           \n",
            "  5                  -1  1    664320  ultralytics.nn.modules.conv.Conv             [192, 384, 3, 2]              \n",
            "  6                  -1  4   3248640  ultralytics.nn.modules.block.C2f             [384, 384, 4, True]           \n",
            "  7                  -1  1   1991808  ultralytics.nn.modules.conv.Conv             [384, 576, 3, 2]              \n",
            "  8                  -1  2   3985920  ultralytics.nn.modules.block.C2f             [576, 576, 2, True]           \n",
            "  9                  -1  1    831168  ultralytics.nn.modules.block.SPPF            [576, 576, 5]                 \n",
            " 10                  -1  1         0  torch.nn.modules.upsampling.Upsample         [None, 2, 'nearest']          \n",
            " 11             [-1, 6]  1         0  ultralytics.nn.modules.conv.Concat           [1]                           \n",
            " 12                  -1  2   1993728  ultralytics.nn.modules.block.C2f             [960, 384, 2]                 \n",
            " 13                  -1  1         0  torch.nn.modules.upsampling.Upsample         [None, 2, 'nearest']          \n",
            " 14             [-1, 4]  1         0  ultralytics.nn.modules.conv.Concat           [1]                           \n",
            " 15                  -1  2    517632  ultralytics.nn.modules.block.C2f             [576, 192, 2]                 \n",
            " 16                  -1  1    332160  ultralytics.nn.modules.conv.Conv             [192, 192, 3, 2]              \n",
            " 17            [-1, 12]  1         0  ultralytics.nn.modules.conv.Concat           [1]                           \n",
            " 18                  -1  2   1846272  ultralytics.nn.modules.block.C2f             [576, 384, 2]                 \n",
            " 19                  -1  1   1327872  ultralytics.nn.modules.conv.Conv             [384, 384, 3, 2]              \n",
            " 20             [-1, 9]  1         0  ultralytics.nn.modules.conv.Concat           [1]                           \n",
            " 21                  -1  2   4207104  ultralytics.nn.modules.block.C2f             [960, 576, 2]                 \n",
            " 22        [15, 18, 21]  1   3776275  ultralytics.nn.modules.head.Detect           [1, [192, 384, 576]]          \n",
            "Model summary: 295 layers, 25,856,899 parameters, 25,856,883 gradients, 79.1 GFLOPs\n",
            "\n",
            "Transferred 469/475 items from pretrained weights\n",
            "\u001b[34m\u001b[1mTensorBoard: \u001b[0mStart with 'tensorboard --logdir runs/detect/train9', view at http://localhost:6006/\n",
            "Freezing layer 'model.22.dfl.conv.weight'\n",
            "\u001b[34m\u001b[1mAMP: \u001b[0mrunning Automatic Mixed Precision (AMP) checks with YOLOv8n...\n",
            "Downloading https://github.com/ultralytics/assets/releases/download/v8.2.0/yolov8n.pt to 'yolov8n.pt'...\n"
          ]
        },
        {
          "output_type": "stream",
          "name": "stderr",
          "text": [
            "100%|██████████| 6.25M/6.25M [00:00<00:00, 259MB/s]\n"
          ]
        },
        {
          "output_type": "stream",
          "name": "stdout",
          "text": [
            "\u001b[34m\u001b[1mAMP: \u001b[0mchecks passed ✅\n"
          ]
        },
        {
          "output_type": "stream",
          "name": "stderr",
          "text": [
            "\u001b[34m\u001b[1mtrain: \u001b[0mScanning /content/Pothole_Detection/labels/train... 532 images, 0 backgrounds, 0 corrupt: 100%|██████████| 532/532 [00:00<00:00, 1863.85it/s]"
          ]
        },
        {
          "output_type": "stream",
          "name": "stdout",
          "text": [
            "\u001b[34m\u001b[1mtrain: \u001b[0mNew cache created: /content/Pothole_Detection/labels/train.cache\n"
          ]
        },
        {
          "output_type": "stream",
          "name": "stderr",
          "text": [
            "\n"
          ]
        },
        {
          "output_type": "stream",
          "name": "stdout",
          "text": [
            "\u001b[34m\u001b[1malbumentations: \u001b[0mBlur(p=0.01, blur_limit=(3, 7)), MedianBlur(p=0.01, blur_limit=(3, 7)), ToGray(p=0.01), CLAHE(p=0.01, clip_limit=(1, 4.0), tile_grid_size=(8, 8))\n"
          ]
        },
        {
          "output_type": "stream",
          "name": "stderr",
          "text": [
            "/usr/lib/python3.10/multiprocessing/popen_fork.py:66: RuntimeWarning: os.fork() was called. os.fork() is incompatible with multithreaded code, and JAX is multithreaded, so this will likely lead to a deadlock.\n",
            "  self.pid = os.fork()\n",
            "\u001b[34m\u001b[1mval: \u001b[0mScanning /content/Pothole_Detection/labels/test... 133 images, 0 backgrounds, 0 corrupt: 100%|██████████| 133/133 [00:00<00:00, 324.46it/s]"
          ]
        },
        {
          "output_type": "stream",
          "name": "stdout",
          "text": [
            "\u001b[34m\u001b[1mval: \u001b[0mNew cache created: /content/Pothole_Detection/labels/test.cache\n"
          ]
        },
        {
          "output_type": "stream",
          "name": "stderr",
          "text": [
            "\n"
          ]
        },
        {
          "output_type": "stream",
          "name": "stdout",
          "text": [
            "Plotting labels to runs/detect/train9/labels.jpg... \n",
            "\u001b[34m\u001b[1moptimizer:\u001b[0m 'optimizer=auto' found, ignoring 'lr0=0.01' and 'momentum=0.937' and determining best 'optimizer', 'lr0' and 'momentum' automatically... \n",
            "\u001b[34m\u001b[1moptimizer:\u001b[0m AdamW(lr=0.002, momentum=0.9) with parameter groups 77 weight(decay=0.0), 84 weight(decay=0.0005), 83 bias(decay=0.0)\n",
            "\u001b[34m\u001b[1mTensorBoard: \u001b[0mmodel graph visualization added ✅\n",
            "Image sizes 640 train, 640 val\n",
            "Using 2 dataloader workers\n",
            "Logging results to \u001b[1mruns/detect/train9\u001b[0m\n",
            "Starting training for 40 epochs...\n",
            "\n",
            "      Epoch    GPU_mem   box_loss   cls_loss   dfl_loss  Instances       Size\n"
          ]
        },
        {
          "output_type": "stream",
          "name": "stderr",
          "text": [
            "       1/40      7.47G      1.674      2.259      1.606         23        640: 100%|██████████| 34/34 [00:23<00:00,  1.46it/s]\n",
            "                 Class     Images  Instances      Box(P          R      mAP50  mAP50-95): 100%|██████████| 5/5 [00:03<00:00,  1.44it/s]"
          ]
        },
        {
          "output_type": "stream",
          "name": "stdout",
          "text": [
            "                   all        133        299     0.0434      0.284     0.0251    0.00951\n"
          ]
        },
        {
          "output_type": "stream",
          "name": "stderr",
          "text": [
            "\n"
          ]
        },
        {
          "output_type": "stream",
          "name": "stdout",
          "text": [
            "\n",
            "      Epoch    GPU_mem   box_loss   cls_loss   dfl_loss  Instances       Size\n"
          ]
        },
        {
          "output_type": "stream",
          "name": "stderr",
          "text": [
            "       2/40      7.43G      1.649      1.794      1.609         20        640: 100%|██████████| 34/34 [00:17<00:00,  1.90it/s]\n",
            "                 Class     Images  Instances      Box(P          R      mAP50  mAP50-95): 100%|██████████| 5/5 [00:01<00:00,  3.04it/s]"
          ]
        },
        {
          "output_type": "stream",
          "name": "stdout",
          "text": [
            "                   all        133        299       0.01      0.147    0.00363    0.00103\n"
          ]
        },
        {
          "output_type": "stream",
          "name": "stderr",
          "text": [
            "\n"
          ]
        },
        {
          "output_type": "stream",
          "name": "stdout",
          "text": [
            "\n",
            "      Epoch    GPU_mem   box_loss   cls_loss   dfl_loss  Instances       Size\n"
          ]
        },
        {
          "output_type": "stream",
          "name": "stderr",
          "text": [
            "       3/40      7.37G      1.716       1.77      1.646         33        640: 100%|██████████| 34/34 [00:18<00:00,  1.88it/s]\n",
            "                 Class     Images  Instances      Box(P          R      mAP50  mAP50-95): 100%|██████████| 5/5 [00:01<00:00,  2.90it/s]"
          ]
        },
        {
          "output_type": "stream",
          "name": "stdout",
          "text": [
            "                   all        133        299    0.00721       0.13    0.00323    0.00102\n"
          ]
        },
        {
          "output_type": "stream",
          "name": "stderr",
          "text": [
            "\n"
          ]
        },
        {
          "output_type": "stream",
          "name": "stdout",
          "text": [
            "\n",
            "      Epoch    GPU_mem   box_loss   cls_loss   dfl_loss  Instances       Size\n"
          ]
        },
        {
          "output_type": "stream",
          "name": "stderr",
          "text": [
            "       4/40      7.41G      1.731      1.799      1.688         17        640: 100%|██████████| 34/34 [00:17<00:00,  1.90it/s]\n",
            "                 Class     Images  Instances      Box(P          R      mAP50  mAP50-95): 100%|██████████| 5/5 [00:01<00:00,  2.89it/s]"
          ]
        },
        {
          "output_type": "stream",
          "name": "stdout",
          "text": [
            "                   all        133        299    0.00727      0.351    0.00534    0.00195\n"
          ]
        },
        {
          "output_type": "stream",
          "name": "stderr",
          "text": [
            "\n"
          ]
        },
        {
          "output_type": "stream",
          "name": "stdout",
          "text": [
            "\n",
            "      Epoch    GPU_mem   box_loss   cls_loss   dfl_loss  Instances       Size\n"
          ]
        },
        {
          "output_type": "stream",
          "name": "stderr",
          "text": [
            "       5/40      7.31G      1.696      1.715       1.66          9        640: 100%|██████████| 34/34 [00:18<00:00,  1.85it/s]\n",
            "                 Class     Images  Instances      Box(P          R      mAP50  mAP50-95): 100%|██████████| 5/5 [00:01<00:00,  2.86it/s]"
          ]
        },
        {
          "output_type": "stream",
          "name": "stdout",
          "text": [
            "                   all        133        299      0.336      0.388      0.229     0.0994\n"
          ]
        },
        {
          "output_type": "stream",
          "name": "stderr",
          "text": [
            "\n"
          ]
        },
        {
          "output_type": "stream",
          "name": "stdout",
          "text": [
            "\n",
            "      Epoch    GPU_mem   box_loss   cls_loss   dfl_loss  Instances       Size\n"
          ]
        },
        {
          "output_type": "stream",
          "name": "stderr",
          "text": [
            "       6/40      7.42G      1.645      1.649      1.603         17        640: 100%|██████████| 34/34 [00:17<00:00,  1.90it/s]\n",
            "                 Class     Images  Instances      Box(P          R      mAP50  mAP50-95): 100%|██████████| 5/5 [00:01<00:00,  2.94it/s]"
          ]
        },
        {
          "output_type": "stream",
          "name": "stdout",
          "text": [
            "                   all        133        299      0.187      0.244      0.134     0.0482\n"
          ]
        },
        {
          "output_type": "stream",
          "name": "stderr",
          "text": [
            "\n"
          ]
        },
        {
          "output_type": "stream",
          "name": "stdout",
          "text": [
            "\n",
            "      Epoch    GPU_mem   box_loss   cls_loss   dfl_loss  Instances       Size\n"
          ]
        },
        {
          "output_type": "stream",
          "name": "stderr",
          "text": [
            "       7/40      7.32G      1.584      1.551      1.576         29        640: 100%|██████████| 34/34 [00:18<00:00,  1.80it/s]\n",
            "                 Class     Images  Instances      Box(P          R      mAP50  mAP50-95): 100%|██████████| 5/5 [00:01<00:00,  2.94it/s]"
          ]
        },
        {
          "output_type": "stream",
          "name": "stdout",
          "text": [
            "                   all        133        299      0.154      0.207     0.0932     0.0403\n"
          ]
        },
        {
          "output_type": "stream",
          "name": "stderr",
          "text": [
            "\n"
          ]
        },
        {
          "output_type": "stream",
          "name": "stdout",
          "text": [
            "\n",
            "      Epoch    GPU_mem   box_loss   cls_loss   dfl_loss  Instances       Size\n"
          ]
        },
        {
          "output_type": "stream",
          "name": "stderr",
          "text": [
            "       8/40      7.42G      1.584      1.548      1.542         22        640: 100%|██████████| 34/34 [00:18<00:00,  1.88it/s]\n",
            "                 Class     Images  Instances      Box(P          R      mAP50  mAP50-95): 100%|██████████| 5/5 [00:01<00:00,  2.95it/s]"
          ]
        },
        {
          "output_type": "stream",
          "name": "stdout",
          "text": [
            "                   all        133        299      0.473      0.395      0.392      0.187\n"
          ]
        },
        {
          "output_type": "stream",
          "name": "stderr",
          "text": [
            "\n"
          ]
        },
        {
          "output_type": "stream",
          "name": "stdout",
          "text": [
            "\n",
            "      Epoch    GPU_mem   box_loss   cls_loss   dfl_loss  Instances       Size\n"
          ]
        },
        {
          "output_type": "stream",
          "name": "stderr",
          "text": [
            "       9/40      7.27G      1.572      1.543      1.543         15        640: 100%|██████████| 34/34 [00:17<00:00,  1.91it/s]\n",
            "                 Class     Images  Instances      Box(P          R      mAP50  mAP50-95): 100%|██████████| 5/5 [00:01<00:00,  2.85it/s]"
          ]
        },
        {
          "output_type": "stream",
          "name": "stdout",
          "text": [
            "                   all        133        299      0.604      0.508      0.534      0.287\n"
          ]
        },
        {
          "output_type": "stream",
          "name": "stderr",
          "text": [
            "\n"
          ]
        },
        {
          "output_type": "stream",
          "name": "stdout",
          "text": [
            "\n",
            "      Epoch    GPU_mem   box_loss   cls_loss   dfl_loss  Instances       Size\n"
          ]
        },
        {
          "output_type": "stream",
          "name": "stderr",
          "text": [
            "      10/40      7.41G      1.519      1.487       1.52         22        640: 100%|██████████| 34/34 [00:17<00:00,  1.90it/s]\n",
            "                 Class     Images  Instances      Box(P          R      mAP50  mAP50-95): 100%|██████████| 5/5 [00:02<00:00,  2.26it/s]"
          ]
        },
        {
          "output_type": "stream",
          "name": "stdout",
          "text": [
            "                   all        133        299      0.633      0.537      0.565      0.298\n"
          ]
        },
        {
          "output_type": "stream",
          "name": "stderr",
          "text": [
            "\n"
          ]
        },
        {
          "output_type": "stream",
          "name": "stdout",
          "text": [
            "\n",
            "      Epoch    GPU_mem   box_loss   cls_loss   dfl_loss  Instances       Size\n"
          ]
        },
        {
          "output_type": "stream",
          "name": "stderr",
          "text": [
            "      11/40       7.3G       1.55      1.447       1.57         19        640: 100%|██████████| 34/34 [00:17<00:00,  1.92it/s]\n",
            "                 Class     Images  Instances      Box(P          R      mAP50  mAP50-95): 100%|██████████| 5/5 [00:01<00:00,  2.92it/s]"
          ]
        },
        {
          "output_type": "stream",
          "name": "stdout",
          "text": [
            "                   all        133        299      0.608      0.542      0.567      0.322\n"
          ]
        },
        {
          "output_type": "stream",
          "name": "stderr",
          "text": [
            "\n"
          ]
        },
        {
          "output_type": "stream",
          "name": "stdout",
          "text": [
            "\n",
            "      Epoch    GPU_mem   box_loss   cls_loss   dfl_loss  Instances       Size\n"
          ]
        },
        {
          "output_type": "stream",
          "name": "stderr",
          "text": [
            "      12/40      7.44G      1.455       1.38      1.485         13        640: 100%|██████████| 34/34 [00:17<00:00,  1.90it/s]\n",
            "                 Class     Images  Instances      Box(P          R      mAP50  mAP50-95): 100%|██████████| 5/5 [00:01<00:00,  2.95it/s]"
          ]
        },
        {
          "output_type": "stream",
          "name": "stdout",
          "text": [
            "                   all        133        299      0.664      0.537      0.597      0.332\n"
          ]
        },
        {
          "output_type": "stream",
          "name": "stderr",
          "text": [
            "\n"
          ]
        },
        {
          "output_type": "stream",
          "name": "stdout",
          "text": [
            "\n",
            "      Epoch    GPU_mem   box_loss   cls_loss   dfl_loss  Instances       Size\n"
          ]
        },
        {
          "output_type": "stream",
          "name": "stderr",
          "text": [
            "      13/40      7.32G       1.45      1.378      1.454         13        640: 100%|██████████| 34/34 [00:17<00:00,  1.90it/s]\n",
            "                 Class     Images  Instances      Box(P          R      mAP50  mAP50-95): 100%|██████████| 5/5 [00:01<00:00,  2.91it/s]"
          ]
        },
        {
          "output_type": "stream",
          "name": "stdout",
          "text": [
            "                   all        133        299      0.616      0.609      0.623      0.352\n"
          ]
        },
        {
          "output_type": "stream",
          "name": "stderr",
          "text": [
            "\n"
          ]
        },
        {
          "output_type": "stream",
          "name": "stdout",
          "text": [
            "\n",
            "      Epoch    GPU_mem   box_loss   cls_loss   dfl_loss  Instances       Size\n"
          ]
        },
        {
          "output_type": "stream",
          "name": "stderr",
          "text": [
            "      14/40      7.39G      1.391      1.333      1.411         26        640: 100%|██████████| 34/34 [00:17<00:00,  1.90it/s]\n",
            "                 Class     Images  Instances      Box(P          R      mAP50  mAP50-95): 100%|██████████| 5/5 [00:01<00:00,  2.85it/s]"
          ]
        },
        {
          "output_type": "stream",
          "name": "stdout",
          "text": [
            "                   all        133        299      0.627      0.528       0.55      0.297\n"
          ]
        },
        {
          "output_type": "stream",
          "name": "stderr",
          "text": [
            "\n"
          ]
        },
        {
          "output_type": "stream",
          "name": "stdout",
          "text": [
            "\n",
            "      Epoch    GPU_mem   box_loss   cls_loss   dfl_loss  Instances       Size\n"
          ]
        },
        {
          "output_type": "stream",
          "name": "stderr",
          "text": [
            "      15/40      7.29G      1.366      1.235      1.385         20        640: 100%|██████████| 34/34 [00:17<00:00,  1.92it/s]\n",
            "                 Class     Images  Instances      Box(P          R      mAP50  mAP50-95): 100%|██████████| 5/5 [00:02<00:00,  2.48it/s]\n"
          ]
        },
        {
          "output_type": "stream",
          "name": "stdout",
          "text": [
            "                   all        133        299      0.647      0.642      0.699      0.414\n",
            "\n",
            "      Epoch    GPU_mem   box_loss   cls_loss   dfl_loss  Instances       Size\n"
          ]
        },
        {
          "output_type": "stream",
          "name": "stderr",
          "text": [
            "      16/40       7.4G      1.356      1.251        1.4         21        640: 100%|██████████| 34/34 [00:17<00:00,  1.93it/s]\n",
            "                 Class     Images  Instances      Box(P          R      mAP50  mAP50-95): 100%|██████████| 5/5 [00:02<00:00,  2.41it/s]"
          ]
        },
        {
          "output_type": "stream",
          "name": "stdout",
          "text": [
            "                   all        133        299      0.687      0.609      0.673      0.387\n"
          ]
        },
        {
          "output_type": "stream",
          "name": "stderr",
          "text": [
            "\n"
          ]
        },
        {
          "output_type": "stream",
          "name": "stdout",
          "text": [
            "\n",
            "      Epoch    GPU_mem   box_loss   cls_loss   dfl_loss  Instances       Size\n"
          ]
        },
        {
          "output_type": "stream",
          "name": "stderr",
          "text": [
            "      17/40       7.3G      1.338      1.244      1.382         12        640: 100%|██████████| 34/34 [00:17<00:00,  1.96it/s]\n",
            "                 Class     Images  Instances      Box(P          R      mAP50  mAP50-95): 100%|██████████| 5/5 [00:02<00:00,  2.00it/s]\n"
          ]
        },
        {
          "output_type": "stream",
          "name": "stdout",
          "text": [
            "                   all        133        299      0.649      0.662      0.685      0.397\n",
            "\n",
            "      Epoch    GPU_mem   box_loss   cls_loss   dfl_loss  Instances       Size\n"
          ]
        },
        {
          "output_type": "stream",
          "name": "stderr",
          "text": [
            "      18/40      7.43G      1.309      1.157      1.365         22        640: 100%|██████████| 34/34 [00:17<00:00,  1.93it/s]\n",
            "                 Class     Images  Instances      Box(P          R      mAP50  mAP50-95): 100%|██████████| 5/5 [00:02<00:00,  2.29it/s]"
          ]
        },
        {
          "output_type": "stream",
          "name": "stdout",
          "text": [
            "                   all        133        299      0.741      0.622      0.702      0.416\n"
          ]
        },
        {
          "output_type": "stream",
          "name": "stderr",
          "text": [
            "\n"
          ]
        },
        {
          "output_type": "stream",
          "name": "stdout",
          "text": [
            "\n",
            "      Epoch    GPU_mem   box_loss   cls_loss   dfl_loss  Instances       Size\n"
          ]
        },
        {
          "output_type": "stream",
          "name": "stderr",
          "text": [
            "      19/40      7.26G      1.292      1.118      1.357         31        640: 100%|██████████| 34/34 [00:18<00:00,  1.87it/s]\n",
            "                 Class     Images  Instances      Box(P          R      mAP50  mAP50-95): 100%|██████████| 5/5 [00:02<00:00,  2.01it/s]\n"
          ]
        },
        {
          "output_type": "stream",
          "name": "stdout",
          "text": [
            "                   all        133        299      0.653       0.66      0.689      0.407\n",
            "\n",
            "      Epoch    GPU_mem   box_loss   cls_loss   dfl_loss  Instances       Size\n"
          ]
        },
        {
          "output_type": "stream",
          "name": "stderr",
          "text": [
            "      20/40      7.39G      1.295      1.151      1.373         22        640: 100%|██████████| 34/34 [00:18<00:00,  1.88it/s]\n",
            "                 Class     Images  Instances      Box(P          R      mAP50  mAP50-95): 100%|██████████| 5/5 [00:01<00:00,  2.98it/s]"
          ]
        },
        {
          "output_type": "stream",
          "name": "stdout",
          "text": [
            "                   all        133        299      0.733      0.522      0.644       0.38\n"
          ]
        },
        {
          "output_type": "stream",
          "name": "stderr",
          "text": [
            "\n"
          ]
        },
        {
          "output_type": "stream",
          "name": "stdout",
          "text": [
            "\n",
            "      Epoch    GPU_mem   box_loss   cls_loss   dfl_loss  Instances       Size\n"
          ]
        },
        {
          "output_type": "stream",
          "name": "stderr",
          "text": [
            "      21/40      7.32G      1.291      1.104      1.348         27        640: 100%|██████████| 34/34 [00:18<00:00,  1.89it/s]\n",
            "                 Class     Images  Instances      Box(P          R      mAP50  mAP50-95): 100%|██████████| 5/5 [00:01<00:00,  2.90it/s]"
          ]
        },
        {
          "output_type": "stream",
          "name": "stdout",
          "text": [
            "                   all        133        299      0.709      0.637      0.732       0.46\n"
          ]
        },
        {
          "output_type": "stream",
          "name": "stderr",
          "text": [
            "\n"
          ]
        },
        {
          "output_type": "stream",
          "name": "stdout",
          "text": [
            "\n",
            "      Epoch    GPU_mem   box_loss   cls_loss   dfl_loss  Instances       Size\n"
          ]
        },
        {
          "output_type": "stream",
          "name": "stderr",
          "text": [
            "      22/40      7.37G      1.299        1.1      1.376         25        640: 100%|██████████| 34/34 [00:17<00:00,  1.91it/s]\n",
            "                 Class     Images  Instances      Box(P          R      mAP50  mAP50-95): 100%|██████████| 5/5 [00:01<00:00,  2.94it/s]"
          ]
        },
        {
          "output_type": "stream",
          "name": "stdout",
          "text": [
            "                   all        133        299       0.71      0.582      0.659       0.39\n"
          ]
        },
        {
          "output_type": "stream",
          "name": "stderr",
          "text": [
            "\n"
          ]
        },
        {
          "output_type": "stream",
          "name": "stdout",
          "text": [
            "\n",
            "      Epoch    GPU_mem   box_loss   cls_loss   dfl_loss  Instances       Size\n"
          ]
        },
        {
          "output_type": "stream",
          "name": "stderr",
          "text": [
            "      23/40      7.27G      1.274      1.058      1.344         23        640: 100%|██████████| 34/34 [00:17<00:00,  1.90it/s]\n",
            "                 Class     Images  Instances      Box(P          R      mAP50  mAP50-95): 100%|██████████| 5/5 [00:01<00:00,  2.97it/s]"
          ]
        },
        {
          "output_type": "stream",
          "name": "stdout",
          "text": [
            "                   all        133        299      0.691      0.656      0.736      0.437\n"
          ]
        },
        {
          "output_type": "stream",
          "name": "stderr",
          "text": [
            "\n"
          ]
        },
        {
          "output_type": "stream",
          "name": "stdout",
          "text": [
            "\n",
            "      Epoch    GPU_mem   box_loss   cls_loss   dfl_loss  Instances       Size\n"
          ]
        },
        {
          "output_type": "stream",
          "name": "stderr",
          "text": [
            "      24/40      7.39G      1.232      1.046      1.311         17        640: 100%|██████████| 34/34 [00:17<00:00,  1.89it/s]\n",
            "                 Class     Images  Instances      Box(P          R      mAP50  mAP50-95): 100%|██████████| 5/5 [00:01<00:00,  2.94it/s]"
          ]
        },
        {
          "output_type": "stream",
          "name": "stdout",
          "text": [
            "                   all        133        299      0.653      0.685      0.703      0.429\n"
          ]
        },
        {
          "output_type": "stream",
          "name": "stderr",
          "text": [
            "\n"
          ]
        },
        {
          "output_type": "stream",
          "name": "stdout",
          "text": [
            "\n",
            "      Epoch    GPU_mem   box_loss   cls_loss   dfl_loss  Instances       Size\n"
          ]
        },
        {
          "output_type": "stream",
          "name": "stderr",
          "text": [
            "      25/40      7.27G      1.224      1.028      1.324         13        640: 100%|██████████| 34/34 [00:17<00:00,  1.92it/s]\n",
            "                 Class     Images  Instances      Box(P          R      mAP50  mAP50-95): 100%|██████████| 5/5 [00:01<00:00,  2.94it/s]"
          ]
        },
        {
          "output_type": "stream",
          "name": "stdout",
          "text": [
            "                   all        133        299      0.706      0.676      0.731      0.465\n"
          ]
        },
        {
          "output_type": "stream",
          "name": "stderr",
          "text": [
            "\n"
          ]
        },
        {
          "output_type": "stream",
          "name": "stdout",
          "text": [
            "\n",
            "      Epoch    GPU_mem   box_loss   cls_loss   dfl_loss  Instances       Size\n"
          ]
        },
        {
          "output_type": "stream",
          "name": "stderr",
          "text": [
            "      26/40      7.38G      1.203     0.9885      1.287         22        640: 100%|██████████| 34/34 [00:17<00:00,  1.90it/s]\n",
            "                 Class     Images  Instances      Box(P          R      mAP50  mAP50-95): 100%|██████████| 5/5 [00:01<00:00,  2.98it/s]"
          ]
        },
        {
          "output_type": "stream",
          "name": "stdout",
          "text": [
            "                   all        133        299      0.825       0.57      0.739      0.464\n"
          ]
        },
        {
          "output_type": "stream",
          "name": "stderr",
          "text": [
            "\n"
          ]
        },
        {
          "output_type": "stream",
          "name": "stdout",
          "text": [
            "\n",
            "      Epoch    GPU_mem   box_loss   cls_loss   dfl_loss  Instances       Size\n"
          ]
        },
        {
          "output_type": "stream",
          "name": "stderr",
          "text": [
            "      27/40      7.31G      1.161      1.008       1.28         12        640: 100%|██████████| 34/34 [00:17<00:00,  1.90it/s]\n",
            "                 Class     Images  Instances      Box(P          R      mAP50  mAP50-95): 100%|██████████| 5/5 [00:01<00:00,  2.88it/s]"
          ]
        },
        {
          "output_type": "stream",
          "name": "stdout",
          "text": [
            "                   all        133        299      0.777      0.632      0.753       0.47\n"
          ]
        },
        {
          "output_type": "stream",
          "name": "stderr",
          "text": [
            "\n"
          ]
        },
        {
          "output_type": "stream",
          "name": "stdout",
          "text": [
            "\n",
            "      Epoch    GPU_mem   box_loss   cls_loss   dfl_loss  Instances       Size\n"
          ]
        },
        {
          "output_type": "stream",
          "name": "stderr",
          "text": [
            "      28/40      7.46G      1.172     0.9683      1.273         17        640: 100%|██████████| 34/34 [00:17<00:00,  1.90it/s]\n",
            "                 Class     Images  Instances      Box(P          R      mAP50  mAP50-95): 100%|██████████| 5/5 [00:01<00:00,  2.52it/s]"
          ]
        },
        {
          "output_type": "stream",
          "name": "stdout",
          "text": [
            "                   all        133        299      0.827      0.656       0.79      0.496\n"
          ]
        },
        {
          "output_type": "stream",
          "name": "stderr",
          "text": [
            "\n"
          ]
        },
        {
          "output_type": "stream",
          "name": "stdout",
          "text": [
            "\n",
            "      Epoch    GPU_mem   box_loss   cls_loss   dfl_loss  Instances       Size\n"
          ]
        },
        {
          "output_type": "stream",
          "name": "stderr",
          "text": [
            "      29/40      7.32G      1.161     0.9356      1.284          8        640: 100%|██████████| 34/34 [00:17<00:00,  1.92it/s]\n",
            "                 Class     Images  Instances      Box(P          R      mAP50  mAP50-95): 100%|██████████| 5/5 [00:02<00:00,  2.29it/s]\n"
          ]
        },
        {
          "output_type": "stream",
          "name": "stdout",
          "text": [
            "                   all        133        299      0.735      0.696      0.769      0.486\n",
            "\n",
            "      Epoch    GPU_mem   box_loss   cls_loss   dfl_loss  Instances       Size\n"
          ]
        },
        {
          "output_type": "stream",
          "name": "stderr",
          "text": [
            "      30/40      7.41G      1.118     0.8768      1.249         13        640: 100%|██████████| 34/34 [00:17<00:00,  1.94it/s]\n",
            "                 Class     Images  Instances      Box(P          R      mAP50  mAP50-95): 100%|██████████| 5/5 [00:02<00:00,  2.23it/s]"
          ]
        },
        {
          "output_type": "stream",
          "name": "stdout",
          "text": [
            "                   all        133        299       0.73      0.724      0.784      0.489\n"
          ]
        },
        {
          "output_type": "stream",
          "name": "stderr",
          "text": [
            "\n"
          ]
        },
        {
          "output_type": "stream",
          "name": "stdout",
          "text": [
            "Closing dataloader mosaic\n",
            "\u001b[34m\u001b[1malbumentations: \u001b[0mBlur(p=0.01, blur_limit=(3, 7)), MedianBlur(p=0.01, blur_limit=(3, 7)), ToGray(p=0.01), CLAHE(p=0.01, clip_limit=(1, 4.0), tile_grid_size=(8, 8))\n"
          ]
        },
        {
          "output_type": "stream",
          "name": "stderr",
          "text": [
            "/usr/lib/python3.10/multiprocessing/popen_fork.py:66: RuntimeWarning: os.fork() was called. os.fork() is incompatible with multithreaded code, and JAX is multithreaded, so this will likely lead to a deadlock.\n",
            "  self.pid = os.fork()\n"
          ]
        },
        {
          "output_type": "stream",
          "name": "stdout",
          "text": [
            "\n",
            "      Epoch    GPU_mem   box_loss   cls_loss   dfl_loss  Instances       Size\n"
          ]
        },
        {
          "output_type": "stream",
          "name": "stderr",
          "text": [
            "      31/40      7.27G      1.072     0.9115      1.214         12        640: 100%|██████████| 34/34 [00:19<00:00,  1.73it/s]\n",
            "                 Class     Images  Instances      Box(P          R      mAP50  mAP50-95): 100%|██████████| 5/5 [00:02<00:00,  2.15it/s]"
          ]
        },
        {
          "output_type": "stream",
          "name": "stdout",
          "text": [
            "                   all        133        299      0.799      0.717      0.793      0.504\n"
          ]
        },
        {
          "output_type": "stream",
          "name": "stderr",
          "text": [
            "\n"
          ]
        },
        {
          "output_type": "stream",
          "name": "stdout",
          "text": [
            "\n",
            "      Epoch    GPU_mem   box_loss   cls_loss   dfl_loss  Instances       Size\n"
          ]
        },
        {
          "output_type": "stream",
          "name": "stderr",
          "text": [
            "      32/40      7.39G      1.042     0.8532      1.191          5        640: 100%|██████████| 34/34 [00:17<00:00,  1.90it/s]\n",
            "                 Class     Images  Instances      Box(P          R      mAP50  mAP50-95): 100%|██████████| 5/5 [00:02<00:00,  2.31it/s]"
          ]
        },
        {
          "output_type": "stream",
          "name": "stdout",
          "text": [
            "                   all        133        299      0.804      0.672      0.783      0.494\n"
          ]
        },
        {
          "output_type": "stream",
          "name": "stderr",
          "text": [
            "\n"
          ]
        },
        {
          "output_type": "stream",
          "name": "stdout",
          "text": [
            "\n",
            "      Epoch    GPU_mem   box_loss   cls_loss   dfl_loss  Instances       Size\n"
          ]
        },
        {
          "output_type": "stream",
          "name": "stderr",
          "text": [
            "      33/40      7.28G       1.04     0.8194      1.194         11        640: 100%|██████████| 34/34 [00:18<00:00,  1.85it/s]\n",
            "                 Class     Images  Instances      Box(P          R      mAP50  mAP50-95): 100%|██████████| 5/5 [00:01<00:00,  2.95it/s]"
          ]
        },
        {
          "output_type": "stream",
          "name": "stdout",
          "text": [
            "                   all        133        299      0.785      0.683      0.783      0.501\n"
          ]
        },
        {
          "output_type": "stream",
          "name": "stderr",
          "text": [
            "\n"
          ]
        },
        {
          "output_type": "stream",
          "name": "stdout",
          "text": [
            "\n",
            "      Epoch    GPU_mem   box_loss   cls_loss   dfl_loss  Instances       Size\n"
          ]
        },
        {
          "output_type": "stream",
          "name": "stderr",
          "text": [
            "      34/40      7.37G      0.993     0.7603      1.178          7        640: 100%|██████████| 34/34 [00:17<00:00,  1.92it/s]\n",
            "                 Class     Images  Instances      Box(P          R      mAP50  mAP50-95): 100%|██████████| 5/5 [00:01<00:00,  2.96it/s]"
          ]
        },
        {
          "output_type": "stream",
          "name": "stdout",
          "text": [
            "                   all        133        299      0.735      0.723      0.785      0.521\n"
          ]
        },
        {
          "output_type": "stream",
          "name": "stderr",
          "text": [
            "\n"
          ]
        },
        {
          "output_type": "stream",
          "name": "stdout",
          "text": [
            "\n",
            "      Epoch    GPU_mem   box_loss   cls_loss   dfl_loss  Instances       Size\n"
          ]
        },
        {
          "output_type": "stream",
          "name": "stderr",
          "text": [
            "      35/40      7.27G     0.9856     0.7182      1.165          9        640: 100%|██████████| 34/34 [00:17<00:00,  1.91it/s]\n",
            "                 Class     Images  Instances      Box(P          R      mAP50  mAP50-95): 100%|██████████| 5/5 [00:01<00:00,  2.92it/s]"
          ]
        },
        {
          "output_type": "stream",
          "name": "stdout",
          "text": [
            "                   all        133        299      0.784       0.74      0.808      0.531\n"
          ]
        },
        {
          "output_type": "stream",
          "name": "stderr",
          "text": [
            "\n"
          ]
        },
        {
          "output_type": "stream",
          "name": "stdout",
          "text": [
            "\n",
            "      Epoch    GPU_mem   box_loss   cls_loss   dfl_loss  Instances       Size\n"
          ]
        },
        {
          "output_type": "stream",
          "name": "stderr",
          "text": [
            "      36/40      7.37G     0.9669     0.7266      1.151         17        640: 100%|██████████| 34/34 [00:17<00:00,  1.91it/s]\n",
            "                 Class     Images  Instances      Box(P          R      mAP50  mAP50-95): 100%|██████████| 5/5 [00:01<00:00,  2.97it/s]"
          ]
        },
        {
          "output_type": "stream",
          "name": "stdout",
          "text": [
            "                   all        133        299      0.753      0.766      0.806      0.516\n"
          ]
        },
        {
          "output_type": "stream",
          "name": "stderr",
          "text": [
            "\n"
          ]
        },
        {
          "output_type": "stream",
          "name": "stdout",
          "text": [
            "\n",
            "      Epoch    GPU_mem   box_loss   cls_loss   dfl_loss  Instances       Size\n"
          ]
        },
        {
          "output_type": "stream",
          "name": "stderr",
          "text": [
            "      37/40      7.31G     0.9482     0.6898      1.144         27        640: 100%|██████████| 34/34 [00:17<00:00,  1.91it/s]\n",
            "                 Class     Images  Instances      Box(P          R      mAP50  mAP50-95): 100%|██████████| 5/5 [00:01<00:00,  2.97it/s]"
          ]
        },
        {
          "output_type": "stream",
          "name": "stdout",
          "text": [
            "                   all        133        299      0.747      0.739      0.802      0.532\n"
          ]
        },
        {
          "output_type": "stream",
          "name": "stderr",
          "text": [
            "\n"
          ]
        },
        {
          "output_type": "stream",
          "name": "stdout",
          "text": [
            "\n",
            "      Epoch    GPU_mem   box_loss   cls_loss   dfl_loss  Instances       Size\n"
          ]
        },
        {
          "output_type": "stream",
          "name": "stderr",
          "text": [
            "      38/40      7.38G     0.9161     0.6798      1.129          6        640: 100%|██████████| 34/34 [00:18<00:00,  1.89it/s]\n",
            "                 Class     Images  Instances      Box(P          R      mAP50  mAP50-95): 100%|██████████| 5/5 [00:01<00:00,  2.95it/s]"
          ]
        },
        {
          "output_type": "stream",
          "name": "stdout",
          "text": [
            "                   all        133        299      0.777      0.746      0.814      0.533\n"
          ]
        },
        {
          "output_type": "stream",
          "name": "stderr",
          "text": [
            "\n"
          ]
        },
        {
          "output_type": "stream",
          "name": "stdout",
          "text": [
            "\n",
            "      Epoch    GPU_mem   box_loss   cls_loss   dfl_loss  Instances       Size\n"
          ]
        },
        {
          "output_type": "stream",
          "name": "stderr",
          "text": [
            "      39/40      7.27G      0.895     0.6373      1.107          8        640: 100%|██████████| 34/34 [00:17<00:00,  1.95it/s]\n",
            "                 Class     Images  Instances      Box(P          R      mAP50  mAP50-95): 100%|██████████| 5/5 [00:02<00:00,  2.15it/s]"
          ]
        },
        {
          "output_type": "stream",
          "name": "stdout",
          "text": [
            "                   all        133        299      0.796      0.759      0.826      0.543\n"
          ]
        },
        {
          "output_type": "stream",
          "name": "stderr",
          "text": [
            "\n"
          ]
        },
        {
          "output_type": "stream",
          "name": "stdout",
          "text": [
            "\n",
            "      Epoch    GPU_mem   box_loss   cls_loss   dfl_loss  Instances       Size\n"
          ]
        },
        {
          "output_type": "stream",
          "name": "stderr",
          "text": [
            "      40/40      7.37G     0.9005     0.6411      1.107         13        640: 100%|██████████| 34/34 [00:17<00:00,  1.96it/s]\n",
            "                 Class     Images  Instances      Box(P          R      mAP50  mAP50-95): 100%|██████████| 5/5 [00:02<00:00,  2.39it/s]"
          ]
        },
        {
          "output_type": "stream",
          "name": "stdout",
          "text": [
            "                   all        133        299      0.829      0.739       0.83      0.549\n"
          ]
        },
        {
          "output_type": "stream",
          "name": "stderr",
          "text": [
            "\n"
          ]
        },
        {
          "output_type": "stream",
          "name": "stdout",
          "text": [
            "\n",
            "40 epochs completed in 0.249 hours.\n",
            "Optimizer stripped from runs/detect/train9/weights/last.pt, 52.0MB\n",
            "Optimizer stripped from runs/detect/train9/weights/best.pt, 52.0MB\n",
            "\n",
            "Validating runs/detect/train9/weights/best.pt...\n",
            "Ultralytics YOLOv8.2.64 🚀 Python-3.10.12 torch-2.3.1+cu121 CUDA:0 (Tesla T4, 15102MiB)\n",
            "Model summary (fused): 218 layers, 25,840,339 parameters, 0 gradients, 78.7 GFLOPs\n"
          ]
        },
        {
          "output_type": "stream",
          "name": "stderr",
          "text": [
            "                 Class     Images  Instances      Box(P          R      mAP50  mAP50-95): 100%|██████████| 5/5 [00:04<00:00,  1.16it/s]\n"
          ]
        },
        {
          "output_type": "stream",
          "name": "stdout",
          "text": [
            "                   all        133        299       0.83      0.739       0.83       0.55\n",
            "Speed: 0.3ms preprocess, 9.1ms inference, 0.0ms loss, 4.0ms postprocess per image\n",
            "Results saved to \u001b[1mruns/detect/train9\u001b[0m\n"
          ]
        },
        {
          "output_type": "execute_result",
          "data": {
            "text/plain": [
              "ultralytics.utils.metrics.DetMetrics object with attributes:\n",
              "\n",
              "ap_class_index: array([0])\n",
              "box: ultralytics.utils.metrics.Metric object\n",
              "confusion_matrix: <ultralytics.utils.metrics.ConfusionMatrix object at 0x7f5d44c48f70>\n",
              "curves: ['Precision-Recall(B)', 'F1-Confidence(B)', 'Precision-Confidence(B)', 'Recall-Confidence(B)']\n",
              "curves_results: [[array([          0,    0.001001,    0.002002,    0.003003,    0.004004,    0.005005,    0.006006,    0.007007,    0.008008,    0.009009,     0.01001,    0.011011,    0.012012,    0.013013,    0.014014,    0.015015,    0.016016,    0.017017,    0.018018,    0.019019,     0.02002,    0.021021,    0.022022,    0.023023,\n",
              "          0.024024,    0.025025,    0.026026,    0.027027,    0.028028,    0.029029,     0.03003,    0.031031,    0.032032,    0.033033,    0.034034,    0.035035,    0.036036,    0.037037,    0.038038,    0.039039,     0.04004,    0.041041,    0.042042,    0.043043,    0.044044,    0.045045,    0.046046,    0.047047,\n",
              "          0.048048,    0.049049,     0.05005,    0.051051,    0.052052,    0.053053,    0.054054,    0.055055,    0.056056,    0.057057,    0.058058,    0.059059,     0.06006,    0.061061,    0.062062,    0.063063,    0.064064,    0.065065,    0.066066,    0.067067,    0.068068,    0.069069,     0.07007,    0.071071,\n",
              "          0.072072,    0.073073,    0.074074,    0.075075,    0.076076,    0.077077,    0.078078,    0.079079,     0.08008,    0.081081,    0.082082,    0.083083,    0.084084,    0.085085,    0.086086,    0.087087,    0.088088,    0.089089,     0.09009,    0.091091,    0.092092,    0.093093,    0.094094,    0.095095,\n",
              "          0.096096,    0.097097,    0.098098,    0.099099,      0.1001,      0.1011,      0.1021,      0.1031,      0.1041,     0.10511,     0.10611,     0.10711,     0.10811,     0.10911,     0.11011,     0.11111,     0.11211,     0.11311,     0.11411,     0.11512,     0.11612,     0.11712,     0.11812,     0.11912,\n",
              "           0.12012,     0.12112,     0.12212,     0.12312,     0.12412,     0.12513,     0.12613,     0.12713,     0.12813,     0.12913,     0.13013,     0.13113,     0.13213,     0.13313,     0.13413,     0.13514,     0.13614,     0.13714,     0.13814,     0.13914,     0.14014,     0.14114,     0.14214,     0.14314,\n",
              "           0.14414,     0.14515,     0.14615,     0.14715,     0.14815,     0.14915,     0.15015,     0.15115,     0.15215,     0.15315,     0.15415,     0.15516,     0.15616,     0.15716,     0.15816,     0.15916,     0.16016,     0.16116,     0.16216,     0.16316,     0.16416,     0.16517,     0.16617,     0.16717,\n",
              "           0.16817,     0.16917,     0.17017,     0.17117,     0.17217,     0.17317,     0.17417,     0.17518,     0.17618,     0.17718,     0.17818,     0.17918,     0.18018,     0.18118,     0.18218,     0.18318,     0.18418,     0.18519,     0.18619,     0.18719,     0.18819,     0.18919,     0.19019,     0.19119,\n",
              "           0.19219,     0.19319,     0.19419,      0.1952,      0.1962,      0.1972,      0.1982,      0.1992,      0.2002,      0.2012,      0.2022,      0.2032,      0.2042,     0.20521,     0.20621,     0.20721,     0.20821,     0.20921,     0.21021,     0.21121,     0.21221,     0.21321,     0.21421,     0.21522,\n",
              "           0.21622,     0.21722,     0.21822,     0.21922,     0.22022,     0.22122,     0.22222,     0.22322,     0.22422,     0.22523,     0.22623,     0.22723,     0.22823,     0.22923,     0.23023,     0.23123,     0.23223,     0.23323,     0.23423,     0.23524,     0.23624,     0.23724,     0.23824,     0.23924,\n",
              "           0.24024,     0.24124,     0.24224,     0.24324,     0.24424,     0.24525,     0.24625,     0.24725,     0.24825,     0.24925,     0.25025,     0.25125,     0.25225,     0.25325,     0.25425,     0.25526,     0.25626,     0.25726,     0.25826,     0.25926,     0.26026,     0.26126,     0.26226,     0.26326,\n",
              "           0.26426,     0.26527,     0.26627,     0.26727,     0.26827,     0.26927,     0.27027,     0.27127,     0.27227,     0.27327,     0.27427,     0.27528,     0.27628,     0.27728,     0.27828,     0.27928,     0.28028,     0.28128,     0.28228,     0.28328,     0.28428,     0.28529,     0.28629,     0.28729,\n",
              "           0.28829,     0.28929,     0.29029,     0.29129,     0.29229,     0.29329,     0.29429,      0.2953,      0.2963,      0.2973,      0.2983,      0.2993,      0.3003,      0.3013,      0.3023,      0.3033,      0.3043,     0.30531,     0.30631,     0.30731,     0.30831,     0.30931,     0.31031,     0.31131,\n",
              "           0.31231,     0.31331,     0.31431,     0.31532,     0.31632,     0.31732,     0.31832,     0.31932,     0.32032,     0.32132,     0.32232,     0.32332,     0.32432,     0.32533,     0.32633,     0.32733,     0.32833,     0.32933,     0.33033,     0.33133,     0.33233,     0.33333,     0.33433,     0.33534,\n",
              "           0.33634,     0.33734,     0.33834,     0.33934,     0.34034,     0.34134,     0.34234,     0.34334,     0.34434,     0.34535,     0.34635,     0.34735,     0.34835,     0.34935,     0.35035,     0.35135,     0.35235,     0.35335,     0.35435,     0.35536,     0.35636,     0.35736,     0.35836,     0.35936,\n",
              "           0.36036,     0.36136,     0.36236,     0.36336,     0.36436,     0.36537,     0.36637,     0.36737,     0.36837,     0.36937,     0.37037,     0.37137,     0.37237,     0.37337,     0.37437,     0.37538,     0.37638,     0.37738,     0.37838,     0.37938,     0.38038,     0.38138,     0.38238,     0.38338,\n",
              "           0.38438,     0.38539,     0.38639,     0.38739,     0.38839,     0.38939,     0.39039,     0.39139,     0.39239,     0.39339,     0.39439,      0.3954,      0.3964,      0.3974,      0.3984,      0.3994,      0.4004,      0.4014,      0.4024,      0.4034,      0.4044,     0.40541,     0.40641,     0.40741,\n",
              "           0.40841,     0.40941,     0.41041,     0.41141,     0.41241,     0.41341,     0.41441,     0.41542,     0.41642,     0.41742,     0.41842,     0.41942,     0.42042,     0.42142,     0.42242,     0.42342,     0.42442,     0.42543,     0.42643,     0.42743,     0.42843,     0.42943,     0.43043,     0.43143,\n",
              "           0.43243,     0.43343,     0.43443,     0.43544,     0.43644,     0.43744,     0.43844,     0.43944,     0.44044,     0.44144,     0.44244,     0.44344,     0.44444,     0.44545,     0.44645,     0.44745,     0.44845,     0.44945,     0.45045,     0.45145,     0.45245,     0.45345,     0.45445,     0.45546,\n",
              "           0.45646,     0.45746,     0.45846,     0.45946,     0.46046,     0.46146,     0.46246,     0.46346,     0.46446,     0.46547,     0.46647,     0.46747,     0.46847,     0.46947,     0.47047,     0.47147,     0.47247,     0.47347,     0.47447,     0.47548,     0.47648,     0.47748,     0.47848,     0.47948,\n",
              "           0.48048,     0.48148,     0.48248,     0.48348,     0.48448,     0.48549,     0.48649,     0.48749,     0.48849,     0.48949,     0.49049,     0.49149,     0.49249,     0.49349,     0.49449,      0.4955,      0.4965,      0.4975,      0.4985,      0.4995,      0.5005,      0.5015,      0.5025,      0.5035,\n",
              "            0.5045,     0.50551,     0.50651,     0.50751,     0.50851,     0.50951,     0.51051,     0.51151,     0.51251,     0.51351,     0.51451,     0.51552,     0.51652,     0.51752,     0.51852,     0.51952,     0.52052,     0.52152,     0.52252,     0.52352,     0.52452,     0.52553,     0.52653,     0.52753,\n",
              "           0.52853,     0.52953,     0.53053,     0.53153,     0.53253,     0.53353,     0.53453,     0.53554,     0.53654,     0.53754,     0.53854,     0.53954,     0.54054,     0.54154,     0.54254,     0.54354,     0.54454,     0.54555,     0.54655,     0.54755,     0.54855,     0.54955,     0.55055,     0.55155,\n",
              "           0.55255,     0.55355,     0.55455,     0.55556,     0.55656,     0.55756,     0.55856,     0.55956,     0.56056,     0.56156,     0.56256,     0.56356,     0.56456,     0.56557,     0.56657,     0.56757,     0.56857,     0.56957,     0.57057,     0.57157,     0.57257,     0.57357,     0.57457,     0.57558,\n",
              "           0.57658,     0.57758,     0.57858,     0.57958,     0.58058,     0.58158,     0.58258,     0.58358,     0.58458,     0.58559,     0.58659,     0.58759,     0.58859,     0.58959,     0.59059,     0.59159,     0.59259,     0.59359,     0.59459,      0.5956,      0.5966,      0.5976,      0.5986,      0.5996,\n",
              "            0.6006,      0.6016,      0.6026,      0.6036,      0.6046,     0.60561,     0.60661,     0.60761,     0.60861,     0.60961,     0.61061,     0.61161,     0.61261,     0.61361,     0.61461,     0.61562,     0.61662,     0.61762,     0.61862,     0.61962,     0.62062,     0.62162,     0.62262,     0.62362,\n",
              "           0.62462,     0.62563,     0.62663,     0.62763,     0.62863,     0.62963,     0.63063,     0.63163,     0.63263,     0.63363,     0.63463,     0.63564,     0.63664,     0.63764,     0.63864,     0.63964,     0.64064,     0.64164,     0.64264,     0.64364,     0.64464,     0.64565,     0.64665,     0.64765,\n",
              "           0.64865,     0.64965,     0.65065,     0.65165,     0.65265,     0.65365,     0.65465,     0.65566,     0.65666,     0.65766,     0.65866,     0.65966,     0.66066,     0.66166,     0.66266,     0.66366,     0.66466,     0.66567,     0.66667,     0.66767,     0.66867,     0.66967,     0.67067,     0.67167,\n",
              "           0.67267,     0.67367,     0.67467,     0.67568,     0.67668,     0.67768,     0.67868,     0.67968,     0.68068,     0.68168,     0.68268,     0.68368,     0.68468,     0.68569,     0.68669,     0.68769,     0.68869,     0.68969,     0.69069,     0.69169,     0.69269,     0.69369,     0.69469,      0.6957,\n",
              "            0.6967,      0.6977,      0.6987,      0.6997,      0.7007,      0.7017,      0.7027,      0.7037,      0.7047,     0.70571,     0.70671,     0.70771,     0.70871,     0.70971,     0.71071,     0.71171,     0.71271,     0.71371,     0.71471,     0.71572,     0.71672,     0.71772,     0.71872,     0.71972,\n",
              "           0.72072,     0.72172,     0.72272,     0.72372,     0.72472,     0.72573,     0.72673,     0.72773,     0.72873,     0.72973,     0.73073,     0.73173,     0.73273,     0.73373,     0.73473,     0.73574,     0.73674,     0.73774,     0.73874,     0.73974,     0.74074,     0.74174,     0.74274,     0.74374,\n",
              "           0.74474,     0.74575,     0.74675,     0.74775,     0.74875,     0.74975,     0.75075,     0.75175,     0.75275,     0.75375,     0.75475,     0.75576,     0.75676,     0.75776,     0.75876,     0.75976,     0.76076,     0.76176,     0.76276,     0.76376,     0.76476,     0.76577,     0.76677,     0.76777,\n",
              "           0.76877,     0.76977,     0.77077,     0.77177,     0.77277,     0.77377,     0.77477,     0.77578,     0.77678,     0.77778,     0.77878,     0.77978,     0.78078,     0.78178,     0.78278,     0.78378,     0.78478,     0.78579,     0.78679,     0.78779,     0.78879,     0.78979,     0.79079,     0.79179,\n",
              "           0.79279,     0.79379,     0.79479,      0.7958,      0.7968,      0.7978,      0.7988,      0.7998,      0.8008,      0.8018,      0.8028,      0.8038,      0.8048,     0.80581,     0.80681,     0.80781,     0.80881,     0.80981,     0.81081,     0.81181,     0.81281,     0.81381,     0.81481,     0.81582,\n",
              "           0.81682,     0.81782,     0.81882,     0.81982,     0.82082,     0.82182,     0.82282,     0.82382,     0.82482,     0.82583,     0.82683,     0.82783,     0.82883,     0.82983,     0.83083,     0.83183,     0.83283,     0.83383,     0.83483,     0.83584,     0.83684,     0.83784,     0.83884,     0.83984,\n",
              "           0.84084,     0.84184,     0.84284,     0.84384,     0.84484,     0.84585,     0.84685,     0.84785,     0.84885,     0.84985,     0.85085,     0.85185,     0.85285,     0.85385,     0.85485,     0.85586,     0.85686,     0.85786,     0.85886,     0.85986,     0.86086,     0.86186,     0.86286,     0.86386,\n",
              "           0.86486,     0.86587,     0.86687,     0.86787,     0.86887,     0.86987,     0.87087,     0.87187,     0.87287,     0.87387,     0.87487,     0.87588,     0.87688,     0.87788,     0.87888,     0.87988,     0.88088,     0.88188,     0.88288,     0.88388,     0.88488,     0.88589,     0.88689,     0.88789,\n",
              "           0.88889,     0.88989,     0.89089,     0.89189,     0.89289,     0.89389,     0.89489,      0.8959,      0.8969,      0.8979,      0.8989,      0.8999,      0.9009,      0.9019,      0.9029,      0.9039,      0.9049,     0.90591,     0.90691,     0.90791,     0.90891,     0.90991,     0.91091,     0.91191,\n",
              "           0.91291,     0.91391,     0.91491,     0.91592,     0.91692,     0.91792,     0.91892,     0.91992,     0.92092,     0.92192,     0.92292,     0.92392,     0.92492,     0.92593,     0.92693,     0.92793,     0.92893,     0.92993,     0.93093,     0.93193,     0.93293,     0.93393,     0.93493,     0.93594,\n",
              "           0.93694,     0.93794,     0.93894,     0.93994,     0.94094,     0.94194,     0.94294,     0.94394,     0.94494,     0.94595,     0.94695,     0.94795,     0.94895,     0.94995,     0.95095,     0.95195,     0.95295,     0.95395,     0.95495,     0.95596,     0.95696,     0.95796,     0.95896,     0.95996,\n",
              "           0.96096,     0.96196,     0.96296,     0.96396,     0.96496,     0.96597,     0.96697,     0.96797,     0.96897,     0.96997,     0.97097,     0.97197,     0.97297,     0.97397,     0.97497,     0.97598,     0.97698,     0.97798,     0.97898,     0.97998,     0.98098,     0.98198,     0.98298,     0.98398,\n",
              "           0.98498,     0.98599,     0.98699,     0.98799,     0.98899,     0.98999,     0.99099,     0.99199,     0.99299,     0.99399,     0.99499,       0.996,       0.997,       0.998,       0.999,           1]), array([[          1,           1,           1,           1,           1,           1,           1,           1,           1,           1,           1,           1,           1,           1,           1,           1,           1,           1,           1,           1,           1,           1,           1,\n",
              "                  1,           1,           1,           1,           1,           1,           1,           1,           1,           1,           1,           1,           1,           1,           1,           1,           1,           1,           1,           1,           1,           1,           1,\n",
              "                  1,           1,           1,           1,           1,           1,           1,           1,           1,           1,           1,           1,           1,           1,           1,           1,           1,           1,           1,           1,           1,           1,           1,\n",
              "                  1,           1,           1,           1,           1,           1,           1,           1,           1,           1,           1,           1,           1,           1,           1,           1,           1,           1,           1,           1,           1,           1,           1,\n",
              "                  1,           1,           1,           1,           1,           1,           1,           1,           1,           1,           1,           1,           1,           1,           1,           1,           1,           1,           1,           1,           1,           1,           1,\n",
              "                  1,           1,           1,           1,           1,           1,           1,           1,           1,           1,           1,           1,           1,           1,           1,           1,           1,           1,           1,           1,           1,           1,           1,\n",
              "                  1,           1,           1,           1,           1,           1,           1,           1,           1,           1,           1,           1,           1,           1,           1,           1,           1,           1,           1,           1,           1,           1,           1,\n",
              "                  1,           1,           1,           1,           1,           1,           1,           1,           1,           1,     0.98837,     0.98837,     0.98837,     0.98837,     0.98837,     0.98837,     0.98837,     0.98837,     0.98837,     0.98837,     0.98837,     0.98837,     0.98837,\n",
              "            0.98837,     0.98837,     0.98837,     0.98837,     0.98837,     0.98837,     0.98837,     0.98837,     0.98837,     0.98837,     0.98837,     0.98837,     0.98837,     0.98837,     0.98837,     0.98837,     0.98837,     0.98837,     0.98837,     0.98837,     0.98837,     0.98837,     0.98837,\n",
              "            0.98837,     0.98837,     0.98837,     0.98837,     0.98837,     0.98837,     0.98837,     0.98837,     0.98837,     0.98837,     0.98837,     0.98837,     0.98837,     0.98837,     0.98837,     0.98837,     0.98837,     0.98837,     0.98837,     0.98837,     0.98837,     0.98837,     0.98837,\n",
              "            0.98837,     0.98837,     0.98837,     0.98837,     0.98837,     0.98837,     0.98837,     0.98837,     0.98837,     0.98837,     0.98837,     0.98837,     0.98837,     0.98837,     0.98837,     0.98837,     0.98837,     0.98837,     0.98837,     0.98837,     0.98837,     0.98837,     0.98837,\n",
              "            0.98837,     0.98837,     0.98837,     0.98837,     0.98837,     0.98837,     0.98837,     0.98837,     0.98837,     0.98837,     0.98837,     0.98837,     0.98837,     0.98837,     0.98837,     0.98837,     0.98837,     0.98837,     0.98837,     0.98837,     0.98837,     0.98837,     0.98837,\n",
              "            0.98837,     0.98837,     0.98837,     0.98837,     0.98837,     0.98837,     0.98837,     0.98837,     0.98113,     0.98113,     0.98113,     0.98113,     0.98113,     0.98113,     0.98113,     0.98113,     0.98113,     0.98113,     0.98113,     0.98113,     0.98113,     0.98113,     0.98113,\n",
              "            0.98113,     0.98113,     0.98113,     0.98113,     0.98113,     0.98113,     0.98113,     0.98113,     0.98113,     0.98113,     0.98113,     0.98113,     0.98113,     0.98113,     0.98113,     0.98113,     0.98113,     0.98113,     0.98113,     0.98113,     0.98113,     0.98113,     0.98113,\n",
              "            0.98113,     0.98113,     0.98113,     0.98113,     0.98113,     0.98113,     0.98113,     0.98113,     0.98113,     0.98113,     0.98113,     0.98113,     0.98113,     0.98113,     0.98113,     0.98113,     0.98113,     0.98113,     0.98113,     0.98113,     0.98113,     0.98113,     0.98113,\n",
              "            0.98113,     0.98113,     0.98113,     0.97273,     0.97273,     0.97273,     0.97273,     0.97273,     0.97273,     0.97273,     0.97273,     0.97273,     0.97273,     0.96992,     0.96992,     0.96992,     0.96992,     0.96992,     0.96992,     0.96992,     0.96992,     0.96992,     0.96992,\n",
              "            0.96992,     0.96992,     0.96992,     0.96992,     0.96992,     0.96992,     0.96992,     0.96992,     0.96992,     0.96992,     0.96992,     0.96992,     0.96992,     0.96992,     0.96992,     0.96992,     0.96992,     0.96992,     0.96992,     0.96992,     0.96992,     0.96992,     0.96992,\n",
              "            0.96992,     0.96992,     0.96992,     0.96992,     0.96992,     0.96992,     0.96992,     0.96992,     0.96992,     0.96992,     0.96992,     0.96992,     0.96992,     0.96992,     0.96992,     0.96992,     0.96992,     0.96992,     0.96992,     0.96992,     0.96992,     0.96992,     0.96992,\n",
              "            0.96992,     0.96992,     0.96992,     0.96992,     0.96992,     0.96992,     0.96992,     0.96992,     0.96992,     0.96992,     0.96992,     0.96992,     0.96992,     0.96992,     0.96992,     0.96992,     0.96992,     0.96992,     0.96454,     0.96454,     0.96454,     0.96454,     0.96454,\n",
              "            0.96454,     0.96454,     0.96454,     0.96454,     0.96454,     0.96454,     0.96454,     0.96454,     0.96454,     0.96454,     0.96454,     0.96454,     0.96454,     0.96454,     0.96454,     0.96454,     0.96454,     0.96454,      0.9645,      0.9645,      0.9645,      0.9645,      0.9645,\n",
              "             0.9645,      0.9645,      0.9645,      0.9645,      0.9645,      0.9645,      0.9645,      0.9645,      0.9645,      0.9645,      0.9645,      0.9645,      0.9645,      0.9645,      0.9645,      0.9645,      0.9645,      0.9645,      0.9645,      0.9645,      0.9645,      0.9645,      0.9645,\n",
              "             0.9645,      0.9645,      0.9645,      0.9645,      0.9645,      0.9645,      0.9645,      0.9645,      0.9645,      0.9645,      0.9645,      0.9645,      0.9645,      0.9645,      0.9645,      0.9645,      0.9645,      0.9645,      0.9645,      0.9645,      0.9645,      0.9645,      0.9645,\n",
              "             0.9645,      0.9645,      0.9645,      0.9645,      0.9645,      0.9645,      0.9645,      0.9645,      0.9645,      0.9645,      0.9645,      0.9645,      0.9645,      0.9645,      0.9645,      0.9645,      0.9645,      0.9645,      0.9645,      0.9645,      0.9645,      0.9645,      0.9645,\n",
              "             0.9645,      0.9645,      0.9645,      0.9645,      0.9645,      0.9645,      0.9645,      0.9645,      0.9645,      0.9645,      0.9645,      0.9645,      0.9645,      0.9645,      0.9645,      0.9645,     0.95977,     0.95977,     0.95977,     0.95977,     0.95977,     0.95977,     0.95977,\n",
              "            0.95977,     0.95977,     0.95977,     0.95977,     0.95977,     0.95977,     0.95455,     0.95455,     0.95455,     0.95455,      0.9235,      0.9235,      0.9235,     0.91979,     0.91979,     0.91979,     0.91979,     0.91979,     0.91979,     0.91979,     0.91979,     0.91979,     0.91979,\n",
              "            0.90674,     0.90674,     0.90674,     0.90674,     0.90674,     0.90674,     0.90674,     0.90674,     0.90674,     0.90674,     0.90256,     0.90256,     0.90256,     0.90256,         0.9,         0.9,         0.9,         0.9,         0.9,         0.9,         0.9,         0.9,         0.9,\n",
              "                0.9,         0.9,         0.9,         0.9,     0.89655,     0.89655,     0.89655,     0.89655,     0.89655,     0.89655,     0.89655,     0.89268,     0.89268,     0.89268,     0.88942,     0.88942,     0.88942,     0.88942,     0.88942,     0.88942,     0.88942,     0.88679,     0.88679,\n",
              "            0.88679,     0.88679,     0.88679,     0.88679,     0.88679,     0.88679,     0.88679,     0.88679,     0.88646,     0.88646,     0.88646,     0.88646,     0.88646,     0.88646,     0.88646,     0.88646,     0.88646,     0.88646,     0.88646,     0.88646,     0.88646,     0.88646,     0.88646,\n",
              "            0.88646,     0.88646,     0.88646,     0.88646,     0.88646,     0.88646,     0.88646,     0.88646,     0.88646,     0.88646,     0.88646,     0.88646,     0.88646,     0.88646,     0.88646,     0.88646,     0.88646,     0.88646,     0.88646,     0.88646,     0.88646,     0.88646,     0.88646,\n",
              "            0.88646,     0.88646,     0.88646,     0.88646,     0.88646,     0.88646,     0.88646,     0.88646,     0.88646,     0.88646,     0.88646,     0.88646,     0.88362,     0.88362,     0.88362,     0.88362,     0.88362,     0.88362,      0.8766,      0.8766,      0.8766,      0.8766,     0.87342,\n",
              "            0.87342,     0.87342,     0.87029,     0.87029,     0.87029,     0.86939,     0.86939,     0.86939,     0.86939,     0.86939,     0.86939,     0.86939,     0.86939,     0.86939,     0.86939,     0.86939,     0.86939,     0.86939,     0.86939,     0.86939,     0.86939,     0.86939,       0.868,\n",
              "              0.868,       0.868,       0.868,       0.868,       0.868,       0.868,       0.868,       0.868,       0.868,       0.868,       0.868,       0.868,       0.868,     0.85547,     0.85547,     0.85547,     0.85547,     0.85547,     0.85547,     0.83969,     0.83969,     0.83969,     0.83969,\n",
              "            0.83083,     0.83083,     0.83083,     0.81685,     0.81685,     0.81685,     0.81685,     0.81685,     0.81685,     0.81685,     0.81159,     0.81159,     0.81159,     0.81004,     0.81004,     0.81004,     0.81004,     0.81004,     0.81004,     0.81004,      0.8007,      0.8007,      0.8007,\n",
              "             0.8007,      0.8007,      0.8007,      0.8007,      0.8007,      0.8007,      0.8007,      0.7884,      0.7884,      0.7884,      0.7884,      0.7884,      0.7884,     0.77592,     0.77592,     0.77592,     0.77592,     0.76898,     0.76898,     0.76898,     0.74286,     0.74286,     0.74286,\n",
              "            0.73209,     0.73209,     0.73209,     0.73209,     0.72615,     0.72615,     0.72615,     0.72256,     0.72256,     0.72256,     0.71045,     0.71045,     0.71045,     0.71045,     0.70468,     0.70468,     0.70468,     0.70468,     0.70468,     0.70468,     0.70468,     0.70468,     0.70468,\n",
              "            0.70468,     0.70349,     0.70349,     0.70349,     0.69828,     0.69828,     0.69828,     0.67967,     0.67967,     0.67967,     0.67967,     0.67493,     0.67493,     0.67493,     0.67397,     0.67397,     0.67397,     0.65782,     0.65782,     0.65782,     0.65782,     0.65782,     0.65782,\n",
              "            0.65782,     0.64599,     0.64599,     0.64599,     0.64599,     0.64599,     0.64599,     0.64599,      0.5962,      0.5962,      0.5962,     0.59016,     0.59016,     0.59016,     0.58796,     0.58796,     0.58796,     0.58796,     0.58796,     0.58796,     0.58796,     0.56416,     0.56416,\n",
              "            0.56416,     0.55531,     0.55531,     0.55531,     0.55531,     0.54565,     0.54565,     0.54565,     0.54545,     0.54545,     0.54545,     0.54545,       0.518,       0.518,       0.518,     0.50581,     0.50581,     0.50581,     0.50581,     0.50581,     0.50581,     0.50581,     0.48609,\n",
              "            0.48609,     0.48609,     0.45345,     0.45345,     0.45345,     0.45283,     0.45283,     0.45283,     0.45283,      0.4288,      0.4288,      0.4288,     0.42788,     0.42788,     0.42788,     0.42788,     0.42788,     0.42788,     0.42788,     0.41745,     0.41745,     0.41745,     0.40512,\n",
              "            0.40512,     0.40512,     0.38571,     0.38571,     0.38571,     0.38571,     0.37691,     0.37691,     0.37691,     0.35931,     0.35931,     0.35931,     0.32695,     0.32695,     0.32695,     0.32695,      0.3175,      0.3175,      0.3175,     0.31215,     0.31215,     0.31215,      0.3043,\n",
              "             0.3043,      0.3043,      0.3043,     0.28794,     0.28794,     0.28794,     0.27282,     0.27282,     0.27282,     0.26853,     0.26853,     0.26853,     0.26853,      0.2139,      0.2139,      0.2139,     0.19233,     0.19233,     0.19233,     0.17973,     0.17973,     0.17973,     0.17973,\n",
              "            0.14871,     0.14871,     0.14871,     0.14572,     0.14572,     0.14572,     0.14314,     0.14314,     0.14314,     0.14314,     0.13883,     0.13883,     0.13883,     0.13811,     0.13811,     0.13811,     0.11632,     0.11632,     0.11632,     0.11632,     0.10873,     0.10873,     0.10873,\n",
              "           0.094642,    0.091775,    0.088907,    0.086039,    0.083171,    0.080303,    0.077435,    0.074567,    0.071699,    0.068831,    0.065963,    0.063095,    0.060227,    0.057359,    0.054491,    0.051623,    0.048755,    0.045887,    0.043019,    0.040151,    0.037283,    0.034415,    0.031547,\n",
              "            0.02868,    0.025812,    0.022944,    0.020076,    0.017208,     0.01434,    0.011472,   0.0086039,   0.0057359,    0.002868,           0]]), 'Recall', 'Precision'], [array([          0,    0.001001,    0.002002,    0.003003,    0.004004,    0.005005,    0.006006,    0.007007,    0.008008,    0.009009,     0.01001,    0.011011,    0.012012,    0.013013,    0.014014,    0.015015,    0.016016,    0.017017,    0.018018,    0.019019,     0.02002,    0.021021,    0.022022,    0.023023,\n",
              "          0.024024,    0.025025,    0.026026,    0.027027,    0.028028,    0.029029,     0.03003,    0.031031,    0.032032,    0.033033,    0.034034,    0.035035,    0.036036,    0.037037,    0.038038,    0.039039,     0.04004,    0.041041,    0.042042,    0.043043,    0.044044,    0.045045,    0.046046,    0.047047,\n",
              "          0.048048,    0.049049,     0.05005,    0.051051,    0.052052,    0.053053,    0.054054,    0.055055,    0.056056,    0.057057,    0.058058,    0.059059,     0.06006,    0.061061,    0.062062,    0.063063,    0.064064,    0.065065,    0.066066,    0.067067,    0.068068,    0.069069,     0.07007,    0.071071,\n",
              "          0.072072,    0.073073,    0.074074,    0.075075,    0.076076,    0.077077,    0.078078,    0.079079,     0.08008,    0.081081,    0.082082,    0.083083,    0.084084,    0.085085,    0.086086,    0.087087,    0.088088,    0.089089,     0.09009,    0.091091,    0.092092,    0.093093,    0.094094,    0.095095,\n",
              "          0.096096,    0.097097,    0.098098,    0.099099,      0.1001,      0.1011,      0.1021,      0.1031,      0.1041,     0.10511,     0.10611,     0.10711,     0.10811,     0.10911,     0.11011,     0.11111,     0.11211,     0.11311,     0.11411,     0.11512,     0.11612,     0.11712,     0.11812,     0.11912,\n",
              "           0.12012,     0.12112,     0.12212,     0.12312,     0.12412,     0.12513,     0.12613,     0.12713,     0.12813,     0.12913,     0.13013,     0.13113,     0.13213,     0.13313,     0.13413,     0.13514,     0.13614,     0.13714,     0.13814,     0.13914,     0.14014,     0.14114,     0.14214,     0.14314,\n",
              "           0.14414,     0.14515,     0.14615,     0.14715,     0.14815,     0.14915,     0.15015,     0.15115,     0.15215,     0.15315,     0.15415,     0.15516,     0.15616,     0.15716,     0.15816,     0.15916,     0.16016,     0.16116,     0.16216,     0.16316,     0.16416,     0.16517,     0.16617,     0.16717,\n",
              "           0.16817,     0.16917,     0.17017,     0.17117,     0.17217,     0.17317,     0.17417,     0.17518,     0.17618,     0.17718,     0.17818,     0.17918,     0.18018,     0.18118,     0.18218,     0.18318,     0.18418,     0.18519,     0.18619,     0.18719,     0.18819,     0.18919,     0.19019,     0.19119,\n",
              "           0.19219,     0.19319,     0.19419,      0.1952,      0.1962,      0.1972,      0.1982,      0.1992,      0.2002,      0.2012,      0.2022,      0.2032,      0.2042,     0.20521,     0.20621,     0.20721,     0.20821,     0.20921,     0.21021,     0.21121,     0.21221,     0.21321,     0.21421,     0.21522,\n",
              "           0.21622,     0.21722,     0.21822,     0.21922,     0.22022,     0.22122,     0.22222,     0.22322,     0.22422,     0.22523,     0.22623,     0.22723,     0.22823,     0.22923,     0.23023,     0.23123,     0.23223,     0.23323,     0.23423,     0.23524,     0.23624,     0.23724,     0.23824,     0.23924,\n",
              "           0.24024,     0.24124,     0.24224,     0.24324,     0.24424,     0.24525,     0.24625,     0.24725,     0.24825,     0.24925,     0.25025,     0.25125,     0.25225,     0.25325,     0.25425,     0.25526,     0.25626,     0.25726,     0.25826,     0.25926,     0.26026,     0.26126,     0.26226,     0.26326,\n",
              "           0.26426,     0.26527,     0.26627,     0.26727,     0.26827,     0.26927,     0.27027,     0.27127,     0.27227,     0.27327,     0.27427,     0.27528,     0.27628,     0.27728,     0.27828,     0.27928,     0.28028,     0.28128,     0.28228,     0.28328,     0.28428,     0.28529,     0.28629,     0.28729,\n",
              "           0.28829,     0.28929,     0.29029,     0.29129,     0.29229,     0.29329,     0.29429,      0.2953,      0.2963,      0.2973,      0.2983,      0.2993,      0.3003,      0.3013,      0.3023,      0.3033,      0.3043,     0.30531,     0.30631,     0.30731,     0.30831,     0.30931,     0.31031,     0.31131,\n",
              "           0.31231,     0.31331,     0.31431,     0.31532,     0.31632,     0.31732,     0.31832,     0.31932,     0.32032,     0.32132,     0.32232,     0.32332,     0.32432,     0.32533,     0.32633,     0.32733,     0.32833,     0.32933,     0.33033,     0.33133,     0.33233,     0.33333,     0.33433,     0.33534,\n",
              "           0.33634,     0.33734,     0.33834,     0.33934,     0.34034,     0.34134,     0.34234,     0.34334,     0.34434,     0.34535,     0.34635,     0.34735,     0.34835,     0.34935,     0.35035,     0.35135,     0.35235,     0.35335,     0.35435,     0.35536,     0.35636,     0.35736,     0.35836,     0.35936,\n",
              "           0.36036,     0.36136,     0.36236,     0.36336,     0.36436,     0.36537,     0.36637,     0.36737,     0.36837,     0.36937,     0.37037,     0.37137,     0.37237,     0.37337,     0.37437,     0.37538,     0.37638,     0.37738,     0.37838,     0.37938,     0.38038,     0.38138,     0.38238,     0.38338,\n",
              "           0.38438,     0.38539,     0.38639,     0.38739,     0.38839,     0.38939,     0.39039,     0.39139,     0.39239,     0.39339,     0.39439,      0.3954,      0.3964,      0.3974,      0.3984,      0.3994,      0.4004,      0.4014,      0.4024,      0.4034,      0.4044,     0.40541,     0.40641,     0.40741,\n",
              "           0.40841,     0.40941,     0.41041,     0.41141,     0.41241,     0.41341,     0.41441,     0.41542,     0.41642,     0.41742,     0.41842,     0.41942,     0.42042,     0.42142,     0.42242,     0.42342,     0.42442,     0.42543,     0.42643,     0.42743,     0.42843,     0.42943,     0.43043,     0.43143,\n",
              "           0.43243,     0.43343,     0.43443,     0.43544,     0.43644,     0.43744,     0.43844,     0.43944,     0.44044,     0.44144,     0.44244,     0.44344,     0.44444,     0.44545,     0.44645,     0.44745,     0.44845,     0.44945,     0.45045,     0.45145,     0.45245,     0.45345,     0.45445,     0.45546,\n",
              "           0.45646,     0.45746,     0.45846,     0.45946,     0.46046,     0.46146,     0.46246,     0.46346,     0.46446,     0.46547,     0.46647,     0.46747,     0.46847,     0.46947,     0.47047,     0.47147,     0.47247,     0.47347,     0.47447,     0.47548,     0.47648,     0.47748,     0.47848,     0.47948,\n",
              "           0.48048,     0.48148,     0.48248,     0.48348,     0.48448,     0.48549,     0.48649,     0.48749,     0.48849,     0.48949,     0.49049,     0.49149,     0.49249,     0.49349,     0.49449,      0.4955,      0.4965,      0.4975,      0.4985,      0.4995,      0.5005,      0.5015,      0.5025,      0.5035,\n",
              "            0.5045,     0.50551,     0.50651,     0.50751,     0.50851,     0.50951,     0.51051,     0.51151,     0.51251,     0.51351,     0.51451,     0.51552,     0.51652,     0.51752,     0.51852,     0.51952,     0.52052,     0.52152,     0.52252,     0.52352,     0.52452,     0.52553,     0.52653,     0.52753,\n",
              "           0.52853,     0.52953,     0.53053,     0.53153,     0.53253,     0.53353,     0.53453,     0.53554,     0.53654,     0.53754,     0.53854,     0.53954,     0.54054,     0.54154,     0.54254,     0.54354,     0.54454,     0.54555,     0.54655,     0.54755,     0.54855,     0.54955,     0.55055,     0.55155,\n",
              "           0.55255,     0.55355,     0.55455,     0.55556,     0.55656,     0.55756,     0.55856,     0.55956,     0.56056,     0.56156,     0.56256,     0.56356,     0.56456,     0.56557,     0.56657,     0.56757,     0.56857,     0.56957,     0.57057,     0.57157,     0.57257,     0.57357,     0.57457,     0.57558,\n",
              "           0.57658,     0.57758,     0.57858,     0.57958,     0.58058,     0.58158,     0.58258,     0.58358,     0.58458,     0.58559,     0.58659,     0.58759,     0.58859,     0.58959,     0.59059,     0.59159,     0.59259,     0.59359,     0.59459,      0.5956,      0.5966,      0.5976,      0.5986,      0.5996,\n",
              "            0.6006,      0.6016,      0.6026,      0.6036,      0.6046,     0.60561,     0.60661,     0.60761,     0.60861,     0.60961,     0.61061,     0.61161,     0.61261,     0.61361,     0.61461,     0.61562,     0.61662,     0.61762,     0.61862,     0.61962,     0.62062,     0.62162,     0.62262,     0.62362,\n",
              "           0.62462,     0.62563,     0.62663,     0.62763,     0.62863,     0.62963,     0.63063,     0.63163,     0.63263,     0.63363,     0.63463,     0.63564,     0.63664,     0.63764,     0.63864,     0.63964,     0.64064,     0.64164,     0.64264,     0.64364,     0.64464,     0.64565,     0.64665,     0.64765,\n",
              "           0.64865,     0.64965,     0.65065,     0.65165,     0.65265,     0.65365,     0.65465,     0.65566,     0.65666,     0.65766,     0.65866,     0.65966,     0.66066,     0.66166,     0.66266,     0.66366,     0.66466,     0.66567,     0.66667,     0.66767,     0.66867,     0.66967,     0.67067,     0.67167,\n",
              "           0.67267,     0.67367,     0.67467,     0.67568,     0.67668,     0.67768,     0.67868,     0.67968,     0.68068,     0.68168,     0.68268,     0.68368,     0.68468,     0.68569,     0.68669,     0.68769,     0.68869,     0.68969,     0.69069,     0.69169,     0.69269,     0.69369,     0.69469,      0.6957,\n",
              "            0.6967,      0.6977,      0.6987,      0.6997,      0.7007,      0.7017,      0.7027,      0.7037,      0.7047,     0.70571,     0.70671,     0.70771,     0.70871,     0.70971,     0.71071,     0.71171,     0.71271,     0.71371,     0.71471,     0.71572,     0.71672,     0.71772,     0.71872,     0.71972,\n",
              "           0.72072,     0.72172,     0.72272,     0.72372,     0.72472,     0.72573,     0.72673,     0.72773,     0.72873,     0.72973,     0.73073,     0.73173,     0.73273,     0.73373,     0.73473,     0.73574,     0.73674,     0.73774,     0.73874,     0.73974,     0.74074,     0.74174,     0.74274,     0.74374,\n",
              "           0.74474,     0.74575,     0.74675,     0.74775,     0.74875,     0.74975,     0.75075,     0.75175,     0.75275,     0.75375,     0.75475,     0.75576,     0.75676,     0.75776,     0.75876,     0.75976,     0.76076,     0.76176,     0.76276,     0.76376,     0.76476,     0.76577,     0.76677,     0.76777,\n",
              "           0.76877,     0.76977,     0.77077,     0.77177,     0.77277,     0.77377,     0.77477,     0.77578,     0.77678,     0.77778,     0.77878,     0.77978,     0.78078,     0.78178,     0.78278,     0.78378,     0.78478,     0.78579,     0.78679,     0.78779,     0.78879,     0.78979,     0.79079,     0.79179,\n",
              "           0.79279,     0.79379,     0.79479,      0.7958,      0.7968,      0.7978,      0.7988,      0.7998,      0.8008,      0.8018,      0.8028,      0.8038,      0.8048,     0.80581,     0.80681,     0.80781,     0.80881,     0.80981,     0.81081,     0.81181,     0.81281,     0.81381,     0.81481,     0.81582,\n",
              "           0.81682,     0.81782,     0.81882,     0.81982,     0.82082,     0.82182,     0.82282,     0.82382,     0.82482,     0.82583,     0.82683,     0.82783,     0.82883,     0.82983,     0.83083,     0.83183,     0.83283,     0.83383,     0.83483,     0.83584,     0.83684,     0.83784,     0.83884,     0.83984,\n",
              "           0.84084,     0.84184,     0.84284,     0.84384,     0.84484,     0.84585,     0.84685,     0.84785,     0.84885,     0.84985,     0.85085,     0.85185,     0.85285,     0.85385,     0.85485,     0.85586,     0.85686,     0.85786,     0.85886,     0.85986,     0.86086,     0.86186,     0.86286,     0.86386,\n",
              "           0.86486,     0.86587,     0.86687,     0.86787,     0.86887,     0.86987,     0.87087,     0.87187,     0.87287,     0.87387,     0.87487,     0.87588,     0.87688,     0.87788,     0.87888,     0.87988,     0.88088,     0.88188,     0.88288,     0.88388,     0.88488,     0.88589,     0.88689,     0.88789,\n",
              "           0.88889,     0.88989,     0.89089,     0.89189,     0.89289,     0.89389,     0.89489,      0.8959,      0.8969,      0.8979,      0.8989,      0.8999,      0.9009,      0.9019,      0.9029,      0.9039,      0.9049,     0.90591,     0.90691,     0.90791,     0.90891,     0.90991,     0.91091,     0.91191,\n",
              "           0.91291,     0.91391,     0.91491,     0.91592,     0.91692,     0.91792,     0.91892,     0.91992,     0.92092,     0.92192,     0.92292,     0.92392,     0.92492,     0.92593,     0.92693,     0.92793,     0.92893,     0.92993,     0.93093,     0.93193,     0.93293,     0.93393,     0.93493,     0.93594,\n",
              "           0.93694,     0.93794,     0.93894,     0.93994,     0.94094,     0.94194,     0.94294,     0.94394,     0.94494,     0.94595,     0.94695,     0.94795,     0.94895,     0.94995,     0.95095,     0.95195,     0.95295,     0.95395,     0.95495,     0.95596,     0.95696,     0.95796,     0.95896,     0.95996,\n",
              "           0.96096,     0.96196,     0.96296,     0.96396,     0.96496,     0.96597,     0.96697,     0.96797,     0.96897,     0.96997,     0.97097,     0.97197,     0.97297,     0.97397,     0.97497,     0.97598,     0.97698,     0.97798,     0.97898,     0.97998,     0.98098,     0.98198,     0.98298,     0.98398,\n",
              "           0.98498,     0.98599,     0.98699,     0.98799,     0.98899,     0.98999,     0.99099,     0.99199,     0.99299,     0.99399,     0.99499,       0.996,       0.997,       0.998,       0.999,           1]), array([[    0.17436,     0.17436,     0.23876,     0.27933,     0.31082,     0.33477,     0.34942,     0.37001,       0.387,     0.40095,      0.4158,     0.42437,     0.43556,     0.44188,     0.45322,     0.45757,      0.4649,     0.47142,     0.47975,     0.48132,     0.48877,     0.49559,     0.50126,\n",
              "            0.50858,     0.51428,     0.51755,     0.52589,     0.52939,     0.53507,     0.53963,      0.5433,     0.54765,     0.55195,     0.55812,     0.55893,     0.56157,     0.56642,     0.56837,      0.5749,     0.57657,     0.57743,     0.57891,     0.58389,     0.58559,     0.58823,     0.59138,\n",
              "            0.59349,     0.59664,     0.59724,     0.59771,     0.59839,     0.59736,     0.60181,     0.60247,     0.60446,     0.60799,     0.61184,     0.61327,     0.61453,     0.61825,     0.62149,     0.62212,     0.62441,     0.62442,      0.6266,      0.6293,     0.63339,     0.63528,     0.63745,\n",
              "            0.63865,     0.63772,     0.63911,     0.64218,     0.64377,     0.64493,     0.64624,     0.64727,     0.64796,     0.64805,     0.64702,     0.64927,     0.65089,     0.65366,     0.65464,     0.65636,     0.65845,     0.65918,     0.65962,     0.66004,     0.66042,     0.66112,     0.66215,\n",
              "            0.66424,     0.66522,      0.6656,     0.66636,     0.66701,     0.66747,     0.66701,     0.66751,     0.66659,     0.66692,     0.66719,     0.66746,     0.66778,     0.66812,     0.66876,     0.67259,     0.67265,      0.6741,      0.6755,      0.6767,     0.67856,      0.6786,     0.68013,\n",
              "            0.68058,     0.68205,     0.68306,     0.68401,     0.68579,     0.68611,     0.68644,     0.68805,     0.68886,     0.68945,     0.68993,     0.69082,     0.69245,     0.69319,     0.69412,     0.69161,     0.69243,     0.69273,     0.69303,     0.69384,     0.69356,     0.69409,     0.69451,\n",
              "            0.69486,      0.6952,      0.6965,     0.69707,     0.69652,     0.69597,     0.69542,     0.69639,     0.69936,     0.70082,     0.70339,     0.70623,     0.70642,      0.7066,     0.70678,     0.70696,     0.70714,     0.70851,       0.709,     0.70956,      0.7102,     0.71131,     0.71145,\n",
              "             0.7116,     0.71174,     0.71189,     0.71203,     0.71218,     0.71365,     0.71519,     0.71574,     0.71621,     0.71862,     0.71957,     0.72049,      0.7211,     0.72209,     0.72509,     0.72675,     0.72692,     0.72709,     0.72726,     0.72743,      0.7276,     0.72777,     0.72763,\n",
              "            0.72653,     0.72573,     0.72637,     0.72695,     0.72748,     0.72794,     0.72856,     0.72953,     0.72975,     0.72997,     0.73019,     0.73041,      0.7308,     0.73129,     0.73173,     0.73212,     0.73251,     0.73321,      0.7302,     0.73076,     0.73298,     0.73441,     0.73476,\n",
              "            0.73511,     0.73554,     0.73684,      0.7377,     0.73827,     0.73888,     0.73971,      0.7402,     0.74061,     0.74082,     0.73984,     0.73943,     0.73852,     0.73894,     0.73936,     0.73977,     0.74019,     0.74069,     0.74146,     0.74128,      0.7408,     0.74033,     0.73985,\n",
              "            0.74102,     0.74126,     0.74149,     0.74172,     0.74195,     0.74664,     0.74743,     0.74893,     0.75051,      0.7496,      0.7494,      0.7496,     0.74981,     0.75001,     0.75021,      0.7516,     0.75193,     0.75226,     0.75259,      0.7525,     0.75213,     0.75176,     0.75139,\n",
              "            0.75102,     0.75096,      0.7515,     0.75175,     0.75041,     0.74954,     0.74887,      0.7482,      0.7461,     0.74679,     0.74743,     0.74796,     0.74847,     0.74877,     0.74907,     0.74937,     0.74966,     0.74992,     0.75017,     0.75043,     0.75068,     0.74919,     0.74914,\n",
              "            0.74951,     0.74988,     0.75231,     0.75368,     0.75413,     0.75457,     0.75553,     0.75422,     0.75449,     0.75477,     0.75504,     0.75555,      0.7545,     0.75469,     0.75488,     0.75507,     0.75526,     0.75546,     0.75567,     0.75605,     0.75644,     0.75682,     0.75731,\n",
              "            0.75781,     0.75777,     0.75719,      0.7566,     0.75609,     0.75651,     0.75693,     0.75767,     0.75907,     0.75978,     0.75996,     0.76014,     0.76032,      0.7605,     0.76068,     0.76086,     0.76103,     0.76116,     0.76129,     0.76143,     0.76156,     0.76169,     0.76183,\n",
              "            0.76196,      0.7621,       0.762,     0.76024,     0.76061,     0.76097,     0.76133,     0.76157,     0.76175,     0.76193,     0.76212,      0.7623,     0.76248,     0.76266,     0.76406,     0.76438,     0.76471,     0.76503,     0.76555,     0.76629,     0.76651,     0.76659,     0.76667,\n",
              "            0.76674,     0.76682,      0.7669,     0.76698,     0.76706,     0.76714,     0.76722,     0.76729,     0.76737,     0.76745,     0.76753,     0.76761,     0.76769,     0.76781,     0.76795,     0.76809,     0.76823,     0.76837,     0.76851,     0.76865,     0.76879,     0.76893,     0.76929,\n",
              "            0.76977,     0.77024,     0.77053,     0.77082,     0.77112,     0.77141,     0.77294,     0.77317,      0.7734,     0.77363,     0.77385,     0.77408,     0.77334,      0.7741,     0.77471,     0.77499,     0.77527,     0.77555,     0.77583,     0.77452,     0.77433,       0.775,     0.77553,\n",
              "            0.77601,     0.77649,     0.77674,       0.777,     0.77725,     0.77751,     0.77776,     0.77828,     0.77882,     0.77947,     0.78024,     0.78021,     0.77997,     0.77973,     0.77949,     0.77925,     0.77901,     0.77876,     0.77852,      0.7763,      0.7764,      0.7765,      0.7766,\n",
              "             0.7767,      0.7768,      0.7769,       0.777,      0.7771,      0.7772,      0.7773,      0.7774,      0.7775,     0.77761,     0.77783,     0.77806,     0.77829,     0.77851,     0.77874,     0.77896,     0.77919,     0.77942,     0.77964,     0.77987,      0.7801,     0.78053,     0.78131,\n",
              "             0.7818,     0.78214,     0.78248,     0.78283,     0.78236,     0.78165,     0.78094,     0.77902,     0.77827,     0.77773,     0.77719,     0.77665,     0.77707,     0.77753,     0.77798,     0.77827,     0.77856,     0.77885,     0.77914,     0.77986,     0.78125,     0.78152,     0.78044,\n",
              "            0.77963,     0.77908,     0.77854,       0.778,     0.77794,     0.77822,      0.7785,     0.77878,     0.77905,     0.77756,     0.77804,     0.77888,     0.77778,     0.77579,     0.77661,     0.77704,     0.77732,     0.77761,     0.77789,     0.77817,     0.77852,     0.77887,     0.77922,\n",
              "            0.77955,     0.77967,     0.77979,      0.7799,     0.78002,     0.78014,     0.78026,     0.78038,     0.78049,     0.78061,     0.78073,     0.78085,     0.78097,     0.78111,     0.78126,      0.7814,     0.78154,     0.78168,     0.78182,     0.78196,     0.78211,     0.78225,     0.78092,\n",
              "            0.78045,     0.78092,      0.7814,     0.78395,     0.78398,     0.78354,     0.78309,     0.78265,      0.7822,     0.78479,     0.78623,      0.7868,     0.78728,     0.78776,     0.78849,     0.78915,     0.78803,     0.78694,     0.78619,     0.78544,     0.78635,     0.78708,     0.78781,\n",
              "            0.78855,     0.78919,     0.78955,     0.78992,     0.79029,     0.79026,     0.78951,     0.78875,     0.78784,      0.7867,     0.78556,     0.78442,     0.78368,      0.7833,     0.78292,     0.78254,     0.78216,     0.78178,     0.78264,     0.78229,     0.78114,     0.77825,     0.77779,\n",
              "            0.77733,     0.77686,      0.7764,     0.77533,     0.77417,     0.77265,     0.77197,     0.77233,      0.7727,     0.77307,     0.77281,     0.77202,     0.77124,      0.7719,     0.77112,     0.77033,     0.77061,     0.77135,     0.77138,     0.77116,     0.77095,     0.77073,     0.77052,\n",
              "             0.7703,     0.77009,     0.76987,     0.76966,     0.76944,     0.76924,     0.77023,     0.77194,      0.7716,     0.77126,     0.77092,     0.77059,     0.77025,     0.76991,     0.76924,     0.76844,     0.76765,     0.76867,     0.76829,     0.76749,     0.76669,     0.76328,     0.76181,\n",
              "            0.76158,     0.76135,     0.76111,     0.76088,     0.76065,     0.76042,     0.76019,     0.75996,     0.75973,     0.75939,     0.75858,     0.75777,     0.75701,      0.7564,     0.75579,     0.75518,     0.75152,     0.74962,     0.74864,     0.74765,       0.744,     0.74276,     0.74415,\n",
              "            0.74171,     0.74088,     0.74004,     0.73922,      0.7385,     0.73778,     0.73706,      0.7364,     0.73577,     0.73514,      0.7345,     0.73516,     0.73539,     0.73412,     0.73294,     0.73192,      0.7309,     0.72843,     0.72977,     0.72851,     0.72717,     0.72485,      0.7261,\n",
              "            0.72506,     0.72402,     0.72387,      0.7242,     0.72453,     0.72486,     0.72495,     0.72437,     0.72379,     0.72321,     0.72263,     0.72028,     0.72108,     0.72068,     0.72027,     0.71987,     0.71946,     0.71906,     0.71532,     0.71347,     0.71114,     0.71141,     0.71168,\n",
              "            0.71195,     0.71222,     0.71248,     0.71228,     0.71193,     0.71157,     0.71121,     0.71086,      0.7105,     0.71014,     0.71008,     0.71041,     0.71074,     0.71107,     0.71127,     0.70871,     0.70794,     0.70716,     0.70639,     0.70542,     0.70433,      0.7036,     0.70419,\n",
              "            0.70478,     0.70607,     0.70684,     0.70744,     0.70767,     0.70725,     0.70683,     0.70641,     0.70599,     0.70557,     0.70515,     0.70476,     0.70437,     0.70397,     0.70358,     0.70319,      0.7028,     0.70213,      0.7003,     0.70087,     0.69986,     0.69897,     0.70006,\n",
              "            0.70025,     0.70043,     0.70062,     0.70081,       0.701,     0.70118,     0.70137,     0.70161,     0.70192,     0.70222,     0.70252,     0.70282,     0.70325,     0.70375,     0.70425,     0.70467,     0.70505,     0.70543,     0.70581,     0.70496,     0.70598,     0.70545,     0.70465,\n",
              "            0.70385,     0.69819,     0.69518,     0.69542,     0.69576,      0.6961,     0.69644,     0.69592,     0.69478,     0.69299,     0.68691,     0.68516,     0.68419,     0.68322,     0.68174,     0.67909,     0.67714,      0.6763,     0.67572,     0.67513,     0.67454,     0.67395,     0.67205,\n",
              "            0.66816,     0.66694,     0.66574,      0.6641,       0.662,     0.65899,      0.6561,     0.65408,     0.65025,     0.64923,     0.64821,     0.64691,     0.64486,     0.64123,     0.64061,     0.63999,     0.63937,     0.63875,     0.63444,     0.63235,     0.62923,     0.62876,     0.62831,\n",
              "            0.62786,     0.62741,     0.62696,      0.6265,     0.62508,     0.62158,     0.61854,     0.61748,     0.61776,     0.61615,     0.61301,     0.60919,     0.60592,     0.60479,     0.60397,     0.60315,     0.60232,     0.60016,     0.59586,     0.59657,     0.59707,     0.59485,     0.58866,\n",
              "            0.58688,     0.58604,     0.58519,     0.58434,     0.58356,     0.58281,     0.58205,      0.5813,      0.5785,     0.57552,     0.56942,     0.55913,     0.55561,     0.55207,     0.54561,     0.54323,     0.54144,     0.53966,     0.53822,     0.53677,     0.53471,     0.53251,     0.53147,\n",
              "            0.53043,     0.52939,     0.52127,     0.51671,     0.51258,      0.5129,     0.51322,     0.51355,     0.51261,     0.51154,     0.51046,     0.50623,     0.50245,     0.50054,     0.49849,     0.49491,     0.49394,     0.49298,     0.49201,     0.48974,     0.48561,     0.48174,     0.47683,\n",
              "            0.46588,     0.45514,     0.45106,     0.44746,     0.44472,     0.44197,     0.44035,     0.43758,     0.43343,     0.42926,     0.42645,     0.41947,     0.41662,     0.41376,     0.40998,     0.40754,      0.4061,     0.40465,     0.39965,     0.39819,     0.39673,      0.3948,     0.39186,\n",
              "             0.3795,     0.36604,     0.36028,     0.35936,     0.35844,     0.35752,     0.35659,     0.35151,     0.34841,     0.33706,     0.32853,     0.32716,      0.3258,     0.32443,     0.31592,     0.31106,     0.30247,     0.29046,     0.28711,     0.27551,      0.2721,     0.25251,     0.24831,\n",
              "            0.24172,     0.23091,     0.22728,     0.21839,     0.21442,     0.20856,     0.20672,     0.20488,     0.19719,     0.18967,     0.18404,     0.17435,     0.16283,     0.15897,     0.15509,     0.15315,     0.15169,     0.15022,     0.14875,     0.13797,     0.13155,     0.12935,     0.12735,\n",
              "            0.12532,     0.12231,     0.11906,     0.11337,     0.11133,     0.10929,      0.1073,     0.10554,     0.10378,     0.10202,     0.10065,    0.099417,    0.098178,    0.096937,    0.095695,    0.090077,      0.0872,    0.084688,    0.074239,    0.069415,    0.066216,    0.058365,    0.056748,\n",
              "           0.055129,    0.053506,     0.05196,    0.050875,    0.049789,    0.048702,    0.047614,    0.046524,    0.045405,    0.044213,     0.04302,    0.041826,     0.04063,    0.039433,      0.0376,    0.035712,    0.033821,      0.0326,    0.032023,    0.031445,    0.030868,    0.030289,    0.029711,\n",
              "           0.029132,    0.028553,    0.027974,    0.027394,    0.026814,    0.025102,    0.020635,    0.012699,    0.011986,    0.011273,    0.010559,   0.0098443,   0.0091294,    0.008414,   0.0076981,   0.0069817,           0,           0,           0,           0,           0,           0,           0,\n",
              "                  0,           0,           0,           0,           0,           0,           0,           0,           0,           0,           0]]), 'Confidence', 'F1'], [array([          0,    0.001001,    0.002002,    0.003003,    0.004004,    0.005005,    0.006006,    0.007007,    0.008008,    0.009009,     0.01001,    0.011011,    0.012012,    0.013013,    0.014014,    0.015015,    0.016016,    0.017017,    0.018018,    0.019019,     0.02002,    0.021021,    0.022022,    0.023023,\n",
              "          0.024024,    0.025025,    0.026026,    0.027027,    0.028028,    0.029029,     0.03003,    0.031031,    0.032032,    0.033033,    0.034034,    0.035035,    0.036036,    0.037037,    0.038038,    0.039039,     0.04004,    0.041041,    0.042042,    0.043043,    0.044044,    0.045045,    0.046046,    0.047047,\n",
              "          0.048048,    0.049049,     0.05005,    0.051051,    0.052052,    0.053053,    0.054054,    0.055055,    0.056056,    0.057057,    0.058058,    0.059059,     0.06006,    0.061061,    0.062062,    0.063063,    0.064064,    0.065065,    0.066066,    0.067067,    0.068068,    0.069069,     0.07007,    0.071071,\n",
              "          0.072072,    0.073073,    0.074074,    0.075075,    0.076076,    0.077077,    0.078078,    0.079079,     0.08008,    0.081081,    0.082082,    0.083083,    0.084084,    0.085085,    0.086086,    0.087087,    0.088088,    0.089089,     0.09009,    0.091091,    0.092092,    0.093093,    0.094094,    0.095095,\n",
              "          0.096096,    0.097097,    0.098098,    0.099099,      0.1001,      0.1011,      0.1021,      0.1031,      0.1041,     0.10511,     0.10611,     0.10711,     0.10811,     0.10911,     0.11011,     0.11111,     0.11211,     0.11311,     0.11411,     0.11512,     0.11612,     0.11712,     0.11812,     0.11912,\n",
              "           0.12012,     0.12112,     0.12212,     0.12312,     0.12412,     0.12513,     0.12613,     0.12713,     0.12813,     0.12913,     0.13013,     0.13113,     0.13213,     0.13313,     0.13413,     0.13514,     0.13614,     0.13714,     0.13814,     0.13914,     0.14014,     0.14114,     0.14214,     0.14314,\n",
              "           0.14414,     0.14515,     0.14615,     0.14715,     0.14815,     0.14915,     0.15015,     0.15115,     0.15215,     0.15315,     0.15415,     0.15516,     0.15616,     0.15716,     0.15816,     0.15916,     0.16016,     0.16116,     0.16216,     0.16316,     0.16416,     0.16517,     0.16617,     0.16717,\n",
              "           0.16817,     0.16917,     0.17017,     0.17117,     0.17217,     0.17317,     0.17417,     0.17518,     0.17618,     0.17718,     0.17818,     0.17918,     0.18018,     0.18118,     0.18218,     0.18318,     0.18418,     0.18519,     0.18619,     0.18719,     0.18819,     0.18919,     0.19019,     0.19119,\n",
              "           0.19219,     0.19319,     0.19419,      0.1952,      0.1962,      0.1972,      0.1982,      0.1992,      0.2002,      0.2012,      0.2022,      0.2032,      0.2042,     0.20521,     0.20621,     0.20721,     0.20821,     0.20921,     0.21021,     0.21121,     0.21221,     0.21321,     0.21421,     0.21522,\n",
              "           0.21622,     0.21722,     0.21822,     0.21922,     0.22022,     0.22122,     0.22222,     0.22322,     0.22422,     0.22523,     0.22623,     0.22723,     0.22823,     0.22923,     0.23023,     0.23123,     0.23223,     0.23323,     0.23423,     0.23524,     0.23624,     0.23724,     0.23824,     0.23924,\n",
              "           0.24024,     0.24124,     0.24224,     0.24324,     0.24424,     0.24525,     0.24625,     0.24725,     0.24825,     0.24925,     0.25025,     0.25125,     0.25225,     0.25325,     0.25425,     0.25526,     0.25626,     0.25726,     0.25826,     0.25926,     0.26026,     0.26126,     0.26226,     0.26326,\n",
              "           0.26426,     0.26527,     0.26627,     0.26727,     0.26827,     0.26927,     0.27027,     0.27127,     0.27227,     0.27327,     0.27427,     0.27528,     0.27628,     0.27728,     0.27828,     0.27928,     0.28028,     0.28128,     0.28228,     0.28328,     0.28428,     0.28529,     0.28629,     0.28729,\n",
              "           0.28829,     0.28929,     0.29029,     0.29129,     0.29229,     0.29329,     0.29429,      0.2953,      0.2963,      0.2973,      0.2983,      0.2993,      0.3003,      0.3013,      0.3023,      0.3033,      0.3043,     0.30531,     0.30631,     0.30731,     0.30831,     0.30931,     0.31031,     0.31131,\n",
              "           0.31231,     0.31331,     0.31431,     0.31532,     0.31632,     0.31732,     0.31832,     0.31932,     0.32032,     0.32132,     0.32232,     0.32332,     0.32432,     0.32533,     0.32633,     0.32733,     0.32833,     0.32933,     0.33033,     0.33133,     0.33233,     0.33333,     0.33433,     0.33534,\n",
              "           0.33634,     0.33734,     0.33834,     0.33934,     0.34034,     0.34134,     0.34234,     0.34334,     0.34434,     0.34535,     0.34635,     0.34735,     0.34835,     0.34935,     0.35035,     0.35135,     0.35235,     0.35335,     0.35435,     0.35536,     0.35636,     0.35736,     0.35836,     0.35936,\n",
              "           0.36036,     0.36136,     0.36236,     0.36336,     0.36436,     0.36537,     0.36637,     0.36737,     0.36837,     0.36937,     0.37037,     0.37137,     0.37237,     0.37337,     0.37437,     0.37538,     0.37638,     0.37738,     0.37838,     0.37938,     0.38038,     0.38138,     0.38238,     0.38338,\n",
              "           0.38438,     0.38539,     0.38639,     0.38739,     0.38839,     0.38939,     0.39039,     0.39139,     0.39239,     0.39339,     0.39439,      0.3954,      0.3964,      0.3974,      0.3984,      0.3994,      0.4004,      0.4014,      0.4024,      0.4034,      0.4044,     0.40541,     0.40641,     0.40741,\n",
              "           0.40841,     0.40941,     0.41041,     0.41141,     0.41241,     0.41341,     0.41441,     0.41542,     0.41642,     0.41742,     0.41842,     0.41942,     0.42042,     0.42142,     0.42242,     0.42342,     0.42442,     0.42543,     0.42643,     0.42743,     0.42843,     0.42943,     0.43043,     0.43143,\n",
              "           0.43243,     0.43343,     0.43443,     0.43544,     0.43644,     0.43744,     0.43844,     0.43944,     0.44044,     0.44144,     0.44244,     0.44344,     0.44444,     0.44545,     0.44645,     0.44745,     0.44845,     0.44945,     0.45045,     0.45145,     0.45245,     0.45345,     0.45445,     0.45546,\n",
              "           0.45646,     0.45746,     0.45846,     0.45946,     0.46046,     0.46146,     0.46246,     0.46346,     0.46446,     0.46547,     0.46647,     0.46747,     0.46847,     0.46947,     0.47047,     0.47147,     0.47247,     0.47347,     0.47447,     0.47548,     0.47648,     0.47748,     0.47848,     0.47948,\n",
              "           0.48048,     0.48148,     0.48248,     0.48348,     0.48448,     0.48549,     0.48649,     0.48749,     0.48849,     0.48949,     0.49049,     0.49149,     0.49249,     0.49349,     0.49449,      0.4955,      0.4965,      0.4975,      0.4985,      0.4995,      0.5005,      0.5015,      0.5025,      0.5035,\n",
              "            0.5045,     0.50551,     0.50651,     0.50751,     0.50851,     0.50951,     0.51051,     0.51151,     0.51251,     0.51351,     0.51451,     0.51552,     0.51652,     0.51752,     0.51852,     0.51952,     0.52052,     0.52152,     0.52252,     0.52352,     0.52452,     0.52553,     0.52653,     0.52753,\n",
              "           0.52853,     0.52953,     0.53053,     0.53153,     0.53253,     0.53353,     0.53453,     0.53554,     0.53654,     0.53754,     0.53854,     0.53954,     0.54054,     0.54154,     0.54254,     0.54354,     0.54454,     0.54555,     0.54655,     0.54755,     0.54855,     0.54955,     0.55055,     0.55155,\n",
              "           0.55255,     0.55355,     0.55455,     0.55556,     0.55656,     0.55756,     0.55856,     0.55956,     0.56056,     0.56156,     0.56256,     0.56356,     0.56456,     0.56557,     0.56657,     0.56757,     0.56857,     0.56957,     0.57057,     0.57157,     0.57257,     0.57357,     0.57457,     0.57558,\n",
              "           0.57658,     0.57758,     0.57858,     0.57958,     0.58058,     0.58158,     0.58258,     0.58358,     0.58458,     0.58559,     0.58659,     0.58759,     0.58859,     0.58959,     0.59059,     0.59159,     0.59259,     0.59359,     0.59459,      0.5956,      0.5966,      0.5976,      0.5986,      0.5996,\n",
              "            0.6006,      0.6016,      0.6026,      0.6036,      0.6046,     0.60561,     0.60661,     0.60761,     0.60861,     0.60961,     0.61061,     0.61161,     0.61261,     0.61361,     0.61461,     0.61562,     0.61662,     0.61762,     0.61862,     0.61962,     0.62062,     0.62162,     0.62262,     0.62362,\n",
              "           0.62462,     0.62563,     0.62663,     0.62763,     0.62863,     0.62963,     0.63063,     0.63163,     0.63263,     0.63363,     0.63463,     0.63564,     0.63664,     0.63764,     0.63864,     0.63964,     0.64064,     0.64164,     0.64264,     0.64364,     0.64464,     0.64565,     0.64665,     0.64765,\n",
              "           0.64865,     0.64965,     0.65065,     0.65165,     0.65265,     0.65365,     0.65465,     0.65566,     0.65666,     0.65766,     0.65866,     0.65966,     0.66066,     0.66166,     0.66266,     0.66366,     0.66466,     0.66567,     0.66667,     0.66767,     0.66867,     0.66967,     0.67067,     0.67167,\n",
              "           0.67267,     0.67367,     0.67467,     0.67568,     0.67668,     0.67768,     0.67868,     0.67968,     0.68068,     0.68168,     0.68268,     0.68368,     0.68468,     0.68569,     0.68669,     0.68769,     0.68869,     0.68969,     0.69069,     0.69169,     0.69269,     0.69369,     0.69469,      0.6957,\n",
              "            0.6967,      0.6977,      0.6987,      0.6997,      0.7007,      0.7017,      0.7027,      0.7037,      0.7047,     0.70571,     0.70671,     0.70771,     0.70871,     0.70971,     0.71071,     0.71171,     0.71271,     0.71371,     0.71471,     0.71572,     0.71672,     0.71772,     0.71872,     0.71972,\n",
              "           0.72072,     0.72172,     0.72272,     0.72372,     0.72472,     0.72573,     0.72673,     0.72773,     0.72873,     0.72973,     0.73073,     0.73173,     0.73273,     0.73373,     0.73473,     0.73574,     0.73674,     0.73774,     0.73874,     0.73974,     0.74074,     0.74174,     0.74274,     0.74374,\n",
              "           0.74474,     0.74575,     0.74675,     0.74775,     0.74875,     0.74975,     0.75075,     0.75175,     0.75275,     0.75375,     0.75475,     0.75576,     0.75676,     0.75776,     0.75876,     0.75976,     0.76076,     0.76176,     0.76276,     0.76376,     0.76476,     0.76577,     0.76677,     0.76777,\n",
              "           0.76877,     0.76977,     0.77077,     0.77177,     0.77277,     0.77377,     0.77477,     0.77578,     0.77678,     0.77778,     0.77878,     0.77978,     0.78078,     0.78178,     0.78278,     0.78378,     0.78478,     0.78579,     0.78679,     0.78779,     0.78879,     0.78979,     0.79079,     0.79179,\n",
              "           0.79279,     0.79379,     0.79479,      0.7958,      0.7968,      0.7978,      0.7988,      0.7998,      0.8008,      0.8018,      0.8028,      0.8038,      0.8048,     0.80581,     0.80681,     0.80781,     0.80881,     0.80981,     0.81081,     0.81181,     0.81281,     0.81381,     0.81481,     0.81582,\n",
              "           0.81682,     0.81782,     0.81882,     0.81982,     0.82082,     0.82182,     0.82282,     0.82382,     0.82482,     0.82583,     0.82683,     0.82783,     0.82883,     0.82983,     0.83083,     0.83183,     0.83283,     0.83383,     0.83483,     0.83584,     0.83684,     0.83784,     0.83884,     0.83984,\n",
              "           0.84084,     0.84184,     0.84284,     0.84384,     0.84484,     0.84585,     0.84685,     0.84785,     0.84885,     0.84985,     0.85085,     0.85185,     0.85285,     0.85385,     0.85485,     0.85586,     0.85686,     0.85786,     0.85886,     0.85986,     0.86086,     0.86186,     0.86286,     0.86386,\n",
              "           0.86486,     0.86587,     0.86687,     0.86787,     0.86887,     0.86987,     0.87087,     0.87187,     0.87287,     0.87387,     0.87487,     0.87588,     0.87688,     0.87788,     0.87888,     0.87988,     0.88088,     0.88188,     0.88288,     0.88388,     0.88488,     0.88589,     0.88689,     0.88789,\n",
              "           0.88889,     0.88989,     0.89089,     0.89189,     0.89289,     0.89389,     0.89489,      0.8959,      0.8969,      0.8979,      0.8989,      0.8999,      0.9009,      0.9019,      0.9029,      0.9039,      0.9049,     0.90591,     0.90691,     0.90791,     0.90891,     0.90991,     0.91091,     0.91191,\n",
              "           0.91291,     0.91391,     0.91491,     0.91592,     0.91692,     0.91792,     0.91892,     0.91992,     0.92092,     0.92192,     0.92292,     0.92392,     0.92492,     0.92593,     0.92693,     0.92793,     0.92893,     0.92993,     0.93093,     0.93193,     0.93293,     0.93393,     0.93493,     0.93594,\n",
              "           0.93694,     0.93794,     0.93894,     0.93994,     0.94094,     0.94194,     0.94294,     0.94394,     0.94494,     0.94595,     0.94695,     0.94795,     0.94895,     0.94995,     0.95095,     0.95195,     0.95295,     0.95395,     0.95495,     0.95596,     0.95696,     0.95796,     0.95896,     0.95996,\n",
              "           0.96096,     0.96196,     0.96296,     0.96396,     0.96496,     0.96597,     0.96697,     0.96797,     0.96897,     0.96997,     0.97097,     0.97197,     0.97297,     0.97397,     0.97497,     0.97598,     0.97698,     0.97798,     0.97898,     0.97998,     0.98098,     0.98198,     0.98298,     0.98398,\n",
              "           0.98498,     0.98599,     0.98699,     0.98799,     0.98899,     0.98999,     0.99099,     0.99199,     0.99299,     0.99399,     0.99499,       0.996,       0.997,       0.998,       0.999,           1]), array([[   0.095822,    0.095822,     0.13634,     0.16394,      0.1862,     0.20382,     0.21496,     0.23075,     0.24413,     0.25533,      0.2675,     0.27522,     0.28471,     0.29047,     0.30034,     0.30454,     0.31107,     0.31733,     0.32535,     0.32723,     0.33415,     0.34056,     0.34594,\n",
              "            0.35295,     0.35899,     0.36218,      0.3704,     0.37388,     0.38017,     0.38479,     0.38916,     0.39363,     0.39809,     0.40454,     0.40607,     0.40887,     0.41403,     0.41684,     0.42391,     0.42797,     0.42899,     0.43062,     0.43617,     0.43806,     0.44102,     0.44457,\n",
              "            0.44696,     0.45055,     0.45123,     0.45177,     0.45254,     0.45314,     0.45827,     0.45904,     0.46136,     0.46549,     0.47001,      0.4717,      0.4732,     0.47761,      0.4815,     0.48226,     0.48501,     0.48605,     0.48871,       0.492,     0.49701,     0.49935,     0.50203,\n",
              "            0.50475,     0.50461,     0.50635,     0.51022,     0.51222,      0.5137,     0.51537,     0.51667,     0.51755,     0.51785,     0.51726,     0.52044,     0.52252,     0.52611,     0.52737,     0.52961,     0.53233,     0.53329,     0.53387,     0.53442,     0.53492,     0.53583,     0.53718,\n",
              "            0.53994,     0.54125,     0.54174,     0.54275,     0.54362,     0.54422,     0.54468,     0.54562,     0.54574,     0.54618,     0.54654,      0.5469,     0.54733,     0.54779,     0.54866,     0.55383,     0.55474,     0.55731,     0.55922,     0.56086,     0.56343,     0.56495,     0.56707,\n",
              "             0.5677,     0.56975,     0.57116,     0.57249,     0.57498,     0.57544,     0.57589,     0.57817,     0.57932,     0.58014,     0.58082,      0.5821,      0.5844,     0.58546,     0.58753,     0.58618,     0.58758,     0.58802,     0.58845,     0.58962,     0.59087,     0.59163,     0.59225,\n",
              "            0.59275,     0.59325,     0.59514,     0.59612,     0.59583,     0.59554,     0.59524,     0.59667,     0.60104,     0.60322,     0.60703,     0.61127,     0.61155,     0.61182,     0.61209,     0.61237,     0.61264,      0.6147,     0.61543,     0.61628,     0.61724,     0.61892,     0.61914,\n",
              "            0.61936,     0.61958,      0.6198,     0.62002,     0.62024,     0.62247,     0.62482,     0.62566,     0.62638,     0.63008,     0.63153,     0.63296,      0.6339,     0.63543,     0.64009,     0.64268,     0.64295,     0.64321,     0.64348,     0.64375,     0.64401,     0.64428,     0.64539,\n",
              "            0.64484,     0.64445,     0.64608,     0.64701,     0.64784,     0.64858,     0.64957,      0.6511,     0.65145,      0.6518,     0.65215,      0.6525,     0.65313,     0.65392,     0.65463,     0.65524,     0.65586,       0.657,     0.65638,     0.65728,     0.66088,     0.66321,     0.66378,\n",
              "            0.66434,     0.66506,     0.66718,      0.6686,     0.66953,     0.67054,     0.67191,      0.6727,     0.67339,      0.6739,     0.67344,     0.67369,     0.67444,     0.67514,     0.67584,     0.67654,     0.67724,     0.67807,     0.67936,      0.6795,     0.67927,     0.67905,     0.67883,\n",
              "            0.68096,     0.68135,     0.68175,     0.68214,     0.68253,     0.69051,     0.69186,     0.69443,     0.69716,     0.69757,     0.69771,     0.69806,     0.69841,     0.69876,     0.69912,     0.70152,      0.7021,     0.70268,     0.70325,     0.70339,     0.70323,     0.70306,      0.7029,\n",
              "            0.70273,     0.70295,     0.70389,     0.70459,       0.704,     0.70361,     0.70331,     0.70301,      0.7021,     0.70332,     0.70445,      0.7054,      0.7063,     0.70684,     0.70738,     0.70792,     0.70844,     0.70889,     0.70935,     0.70981,     0.71026,     0.70975,     0.71016,\n",
              "            0.71083,      0.7115,     0.71589,     0.71837,     0.71918,     0.71999,     0.72237,     0.72212,     0.72263,     0.72313,     0.72363,     0.72579,     0.72547,     0.72582,     0.72617,     0.72653,     0.72688,     0.72724,     0.72763,     0.72834,     0.72905,     0.72977,     0.73068,\n",
              "            0.73162,     0.73197,     0.73172,     0.73148,     0.73131,      0.7321,     0.73288,     0.73427,     0.73691,     0.73824,     0.73858,     0.73892,     0.73927,     0.73961,     0.73995,     0.74029,      0.7406,     0.74085,     0.74111,     0.74136,     0.74162,     0.74187,     0.74212,\n",
              "            0.74238,     0.74263,     0.74277,     0.74213,     0.74282,     0.74352,     0.74421,     0.74466,     0.74501,     0.74536,     0.74571,     0.74606,     0.74641,     0.74676,     0.74944,     0.75006,     0.75068,      0.7513,     0.75232,     0.75374,     0.75417,     0.75432,     0.75447,\n",
              "            0.75462,     0.75477,     0.75493,     0.75508,     0.75523,     0.75538,     0.75553,     0.75569,     0.75584,     0.75599,     0.75614,     0.75629,     0.75645,     0.75668,     0.75696,     0.75723,      0.7575,     0.75777,     0.75805,     0.75832,     0.75859,     0.75887,     0.75957,\n",
              "             0.7605,     0.76142,       0.762,     0.76257,     0.76314,      0.7637,     0.76672,     0.76717,     0.76762,     0.76807,     0.76852,     0.76897,     0.77078,     0.77228,      0.7735,     0.77406,     0.77462,     0.77518,     0.77573,      0.7754,     0.77609,     0.77743,      0.7785,\n",
              "            0.77948,     0.78044,     0.78095,     0.78147,     0.78199,      0.7825,     0.78302,     0.78407,     0.78517,      0.7865,     0.78807,     0.78833,     0.78824,     0.78816,     0.78807,     0.78799,      0.7879,     0.78782,     0.78773,     0.78699,      0.7872,     0.78741,     0.78761,\n",
              "            0.78782,     0.78802,     0.78823,     0.78844,     0.78864,     0.78885,     0.78905,     0.78926,     0.78947,     0.78969,     0.79016,     0.79063,     0.79109,     0.79156,     0.79203,      0.7925,     0.79297,     0.79344,     0.79391,     0.79438,     0.79485,     0.79575,     0.79737,\n",
              "            0.79839,      0.7991,     0.79982,     0.80053,     0.80052,     0.80028,     0.80004,     0.79939,     0.79914,     0.79896,     0.79878,     0.79859,     0.79952,     0.80049,     0.80144,     0.80206,     0.80267,     0.80329,      0.8039,     0.80545,     0.80841,     0.80988,     0.80953,\n",
              "            0.80926,     0.80909,     0.80891,     0.80874,     0.80902,     0.80962,     0.81022,     0.81082,     0.81143,     0.81109,     0.81316,     0.81658,     0.81624,     0.81561,      0.8181,     0.81906,     0.81968,     0.82031,     0.82093,     0.82155,     0.82234,     0.82312,     0.82391,\n",
              "            0.82465,     0.82491,     0.82518,     0.82544,      0.8257,     0.82597,     0.82623,      0.8265,     0.82676,     0.82702,     0.82729,     0.82755,     0.82784,     0.82815,     0.82847,     0.82879,     0.82911,     0.82943,     0.82975,     0.83007,     0.83039,     0.83071,     0.83042,\n",
              "            0.83088,     0.83196,     0.83303,     0.83886,      0.8396,     0.83948,     0.83935,     0.83922,      0.8391,      0.8452,     0.84855,     0.84987,       0.851,     0.85213,     0.85383,     0.85546,     0.85517,     0.85489,     0.85469,     0.85449,     0.85799,     0.85973,     0.86148,\n",
              "            0.86324,     0.86477,     0.86566,     0.86654,     0.86743,     0.86794,     0.86775,     0.86757,     0.86735,     0.86708,      0.8668,     0.86653,     0.86635,     0.86626,     0.86616,     0.86607,     0.86598,     0.86588,     0.86829,      0.8692,     0.86892,     0.86823,     0.86812,\n",
              "            0.86801,     0.86789,     0.86778,     0.86752,     0.86724,     0.86687,     0.86709,     0.86802,     0.86895,     0.86988,     0.87019,        0.87,     0.86982,      0.8733,     0.87312,     0.87294,     0.87421,     0.87611,     0.87656,     0.87651,     0.87646,     0.87641,     0.87636,\n",
              "            0.87631,     0.87626,     0.87622,     0.87617,     0.87612,      0.8761,     0.87867,     0.88358,     0.88351,     0.88343,     0.88336,     0.88328,     0.88321,     0.88314,     0.88299,     0.88282,     0.88264,     0.88575,     0.88632,     0.88615,     0.88598,     0.88525,     0.88493,\n",
              "            0.88488,     0.88483,     0.88478,     0.88473,     0.88468,     0.88463,     0.88458,     0.88454,     0.88449,     0.88441,     0.88424,     0.88406,     0.88389,     0.88376,     0.88363,     0.88349,     0.88269,     0.88227,     0.88205,     0.88183,     0.88102,     0.88074,     0.88478,\n",
              "            0.88425,     0.88407,     0.88388,      0.8837,     0.88354,     0.88338,     0.88323,     0.88308,     0.88294,      0.8828,     0.88266,     0.88489,      0.8867,     0.88643,     0.88617,     0.88595,     0.88573,     0.88519,     0.88938,     0.88915,     0.88887,     0.88864,     0.89266,\n",
              "            0.89245,     0.89223,     0.89281,     0.89381,     0.89481,     0.89581,     0.89652,      0.8964,     0.89629,     0.89617,     0.89605,     0.89558,     0.89993,     0.89985,     0.89977,     0.89969,     0.89961,     0.89953,      0.8988,     0.89843,     0.89806,     0.89892,     0.89977,\n",
              "            0.90063,     0.90149,     0.90235,     0.90251,     0.90244,     0.90238,     0.90231,     0.90224,     0.90217,      0.9021,     0.90252,     0.90359,     0.90465,     0.90571,     0.90672,     0.90624,      0.9061,     0.90595,     0.90581,     0.90563,     0.90542,     0.90568,     0.90764,\n",
              "            0.90961,     0.91389,     0.91649,      0.9185,     0.91976,     0.91969,     0.91963,     0.91956,     0.91949,     0.91942,     0.91935,     0.91929,     0.91923,     0.91916,      0.9191,     0.91903,     0.91897,     0.91886,     0.91856,     0.92221,     0.92328,     0.92457,     0.92838,\n",
              "            0.92904,      0.9297,     0.93036,     0.93102,     0.93169,     0.93235,     0.93301,     0.93387,     0.93494,     0.93601,     0.93708,     0.93815,     0.93968,     0.94148,     0.94328,     0.94478,     0.94614,     0.94751,     0.94888,     0.95545,      0.9592,     0.95971,     0.95964,\n",
              "            0.95958,     0.95909,     0.95883,     0.96008,     0.96137,     0.96266,     0.96395,     0.96445,     0.96436,     0.96422,     0.96376,     0.96362,     0.96355,     0.96347,     0.96335,     0.96315,     0.96299,     0.96292,     0.96288,     0.96283,     0.96278,     0.96274,     0.96258,\n",
              "            0.96227,     0.96217,     0.96207,     0.96193,     0.96176,     0.96151,     0.96127,     0.96109,     0.96077,     0.96068,     0.96059,     0.96048,      0.9603,     0.95998,     0.95993,     0.95987,     0.95982,     0.95976,     0.95938,     0.95919,     0.95891,     0.95886,     0.95882,\n",
              "            0.95878,     0.95874,      0.9587,     0.95866,     0.95852,      0.9582,     0.95791,     0.96112,      0.9645,     0.96438,     0.96412,     0.96381,     0.96354,     0.96344,     0.96337,     0.96331,     0.96324,     0.96305,     0.96276,     0.96647,     0.96991,     0.96976,     0.96932,\n",
              "            0.96919,     0.96913,     0.96907,     0.96901,     0.96895,      0.9689,     0.96884,     0.96879,     0.96858,     0.96836,      0.9679,      0.9671,     0.96682,     0.96653,     0.96601,     0.96581,     0.96566,     0.96551,     0.96539,     0.96526,     0.96509,      0.9649,     0.96481,\n",
              "            0.96472,     0.96462,     0.97259,     0.97227,     0.97384,     0.97619,     0.97854,     0.98089,     0.98108,     0.98103,     0.98098,     0.98077,     0.98058,     0.98048,     0.98038,     0.98019,     0.98014,     0.98009,     0.98004,     0.97992,      0.9797,     0.97949,     0.97922,\n",
              "            0.97859,     0.97794,     0.97769,     0.97746,     0.97729,     0.97711,     0.98833,     0.98824,      0.9881,     0.98795,     0.98785,      0.9876,     0.98749,     0.98738,     0.98724,     0.98714,     0.98709,     0.98703,     0.98683,     0.98677,     0.98671,     0.98663,      0.9865,\n",
              "            0.98597,     0.98534,     0.98506,     0.98501,     0.98496,     0.98492,     0.98487,     0.98461,     0.98444,     0.98382,     0.98332,     0.98324,     0.98316,     0.98308,     0.98254,     0.98222,     0.98163,           1,           1,           1,           1,           1,           1,\n",
              "                  1,           1,           1,           1,           1,           1,           1,           1,           1,           1,           1,           1,           1,           1,           1,           1,           1,           1,           1,           1,           1,           1,           1,\n",
              "                  1,           1,           1,           1,           1,           1,           1,           1,           1,           1,           1,           1,           1,           1,           1,           1,           1,           1,           1,           1,           1,           1,           1,\n",
              "                  1,           1,           1,           1,           1,           1,           1,           1,           1,           1,           1,           1,           1,           1,           1,           1,           1,           1,           1,           1,           1,           1,           1,\n",
              "                  1,           1,           1,           1,           1,           1,           1,           1,           1,           1,           1,           1,           1,           1,           1,           1,           1,           1,           1,           1,           1,           1,           1,\n",
              "                  1,           1,           1,           1,           1,           1,           1,           1,           1,           1,           1]]), 'Confidence', 'Precision'], [array([          0,    0.001001,    0.002002,    0.003003,    0.004004,    0.005005,    0.006006,    0.007007,    0.008008,    0.009009,     0.01001,    0.011011,    0.012012,    0.013013,    0.014014,    0.015015,    0.016016,    0.017017,    0.018018,    0.019019,     0.02002,    0.021021,    0.022022,    0.023023,\n",
              "          0.024024,    0.025025,    0.026026,    0.027027,    0.028028,    0.029029,     0.03003,    0.031031,    0.032032,    0.033033,    0.034034,    0.035035,    0.036036,    0.037037,    0.038038,    0.039039,     0.04004,    0.041041,    0.042042,    0.043043,    0.044044,    0.045045,    0.046046,    0.047047,\n",
              "          0.048048,    0.049049,     0.05005,    0.051051,    0.052052,    0.053053,    0.054054,    0.055055,    0.056056,    0.057057,    0.058058,    0.059059,     0.06006,    0.061061,    0.062062,    0.063063,    0.064064,    0.065065,    0.066066,    0.067067,    0.068068,    0.069069,     0.07007,    0.071071,\n",
              "          0.072072,    0.073073,    0.074074,    0.075075,    0.076076,    0.077077,    0.078078,    0.079079,     0.08008,    0.081081,    0.082082,    0.083083,    0.084084,    0.085085,    0.086086,    0.087087,    0.088088,    0.089089,     0.09009,    0.091091,    0.092092,    0.093093,    0.094094,    0.095095,\n",
              "          0.096096,    0.097097,    0.098098,    0.099099,      0.1001,      0.1011,      0.1021,      0.1031,      0.1041,     0.10511,     0.10611,     0.10711,     0.10811,     0.10911,     0.11011,     0.11111,     0.11211,     0.11311,     0.11411,     0.11512,     0.11612,     0.11712,     0.11812,     0.11912,\n",
              "           0.12012,     0.12112,     0.12212,     0.12312,     0.12412,     0.12513,     0.12613,     0.12713,     0.12813,     0.12913,     0.13013,     0.13113,     0.13213,     0.13313,     0.13413,     0.13514,     0.13614,     0.13714,     0.13814,     0.13914,     0.14014,     0.14114,     0.14214,     0.14314,\n",
              "           0.14414,     0.14515,     0.14615,     0.14715,     0.14815,     0.14915,     0.15015,     0.15115,     0.15215,     0.15315,     0.15415,     0.15516,     0.15616,     0.15716,     0.15816,     0.15916,     0.16016,     0.16116,     0.16216,     0.16316,     0.16416,     0.16517,     0.16617,     0.16717,\n",
              "           0.16817,     0.16917,     0.17017,     0.17117,     0.17217,     0.17317,     0.17417,     0.17518,     0.17618,     0.17718,     0.17818,     0.17918,     0.18018,     0.18118,     0.18218,     0.18318,     0.18418,     0.18519,     0.18619,     0.18719,     0.18819,     0.18919,     0.19019,     0.19119,\n",
              "           0.19219,     0.19319,     0.19419,      0.1952,      0.1962,      0.1972,      0.1982,      0.1992,      0.2002,      0.2012,      0.2022,      0.2032,      0.2042,     0.20521,     0.20621,     0.20721,     0.20821,     0.20921,     0.21021,     0.21121,     0.21221,     0.21321,     0.21421,     0.21522,\n",
              "           0.21622,     0.21722,     0.21822,     0.21922,     0.22022,     0.22122,     0.22222,     0.22322,     0.22422,     0.22523,     0.22623,     0.22723,     0.22823,     0.22923,     0.23023,     0.23123,     0.23223,     0.23323,     0.23423,     0.23524,     0.23624,     0.23724,     0.23824,     0.23924,\n",
              "           0.24024,     0.24124,     0.24224,     0.24324,     0.24424,     0.24525,     0.24625,     0.24725,     0.24825,     0.24925,     0.25025,     0.25125,     0.25225,     0.25325,     0.25425,     0.25526,     0.25626,     0.25726,     0.25826,     0.25926,     0.26026,     0.26126,     0.26226,     0.26326,\n",
              "           0.26426,     0.26527,     0.26627,     0.26727,     0.26827,     0.26927,     0.27027,     0.27127,     0.27227,     0.27327,     0.27427,     0.27528,     0.27628,     0.27728,     0.27828,     0.27928,     0.28028,     0.28128,     0.28228,     0.28328,     0.28428,     0.28529,     0.28629,     0.28729,\n",
              "           0.28829,     0.28929,     0.29029,     0.29129,     0.29229,     0.29329,     0.29429,      0.2953,      0.2963,      0.2973,      0.2983,      0.2993,      0.3003,      0.3013,      0.3023,      0.3033,      0.3043,     0.30531,     0.30631,     0.30731,     0.30831,     0.30931,     0.31031,     0.31131,\n",
              "           0.31231,     0.31331,     0.31431,     0.31532,     0.31632,     0.31732,     0.31832,     0.31932,     0.32032,     0.32132,     0.32232,     0.32332,     0.32432,     0.32533,     0.32633,     0.32733,     0.32833,     0.32933,     0.33033,     0.33133,     0.33233,     0.33333,     0.33433,     0.33534,\n",
              "           0.33634,     0.33734,     0.33834,     0.33934,     0.34034,     0.34134,     0.34234,     0.34334,     0.34434,     0.34535,     0.34635,     0.34735,     0.34835,     0.34935,     0.35035,     0.35135,     0.35235,     0.35335,     0.35435,     0.35536,     0.35636,     0.35736,     0.35836,     0.35936,\n",
              "           0.36036,     0.36136,     0.36236,     0.36336,     0.36436,     0.36537,     0.36637,     0.36737,     0.36837,     0.36937,     0.37037,     0.37137,     0.37237,     0.37337,     0.37437,     0.37538,     0.37638,     0.37738,     0.37838,     0.37938,     0.38038,     0.38138,     0.38238,     0.38338,\n",
              "           0.38438,     0.38539,     0.38639,     0.38739,     0.38839,     0.38939,     0.39039,     0.39139,     0.39239,     0.39339,     0.39439,      0.3954,      0.3964,      0.3974,      0.3984,      0.3994,      0.4004,      0.4014,      0.4024,      0.4034,      0.4044,     0.40541,     0.40641,     0.40741,\n",
              "           0.40841,     0.40941,     0.41041,     0.41141,     0.41241,     0.41341,     0.41441,     0.41542,     0.41642,     0.41742,     0.41842,     0.41942,     0.42042,     0.42142,     0.42242,     0.42342,     0.42442,     0.42543,     0.42643,     0.42743,     0.42843,     0.42943,     0.43043,     0.43143,\n",
              "           0.43243,     0.43343,     0.43443,     0.43544,     0.43644,     0.43744,     0.43844,     0.43944,     0.44044,     0.44144,     0.44244,     0.44344,     0.44444,     0.44545,     0.44645,     0.44745,     0.44845,     0.44945,     0.45045,     0.45145,     0.45245,     0.45345,     0.45445,     0.45546,\n",
              "           0.45646,     0.45746,     0.45846,     0.45946,     0.46046,     0.46146,     0.46246,     0.46346,     0.46446,     0.46547,     0.46647,     0.46747,     0.46847,     0.46947,     0.47047,     0.47147,     0.47247,     0.47347,     0.47447,     0.47548,     0.47648,     0.47748,     0.47848,     0.47948,\n",
              "           0.48048,     0.48148,     0.48248,     0.48348,     0.48448,     0.48549,     0.48649,     0.48749,     0.48849,     0.48949,     0.49049,     0.49149,     0.49249,     0.49349,     0.49449,      0.4955,      0.4965,      0.4975,      0.4985,      0.4995,      0.5005,      0.5015,      0.5025,      0.5035,\n",
              "            0.5045,     0.50551,     0.50651,     0.50751,     0.50851,     0.50951,     0.51051,     0.51151,     0.51251,     0.51351,     0.51451,     0.51552,     0.51652,     0.51752,     0.51852,     0.51952,     0.52052,     0.52152,     0.52252,     0.52352,     0.52452,     0.52553,     0.52653,     0.52753,\n",
              "           0.52853,     0.52953,     0.53053,     0.53153,     0.53253,     0.53353,     0.53453,     0.53554,     0.53654,     0.53754,     0.53854,     0.53954,     0.54054,     0.54154,     0.54254,     0.54354,     0.54454,     0.54555,     0.54655,     0.54755,     0.54855,     0.54955,     0.55055,     0.55155,\n",
              "           0.55255,     0.55355,     0.55455,     0.55556,     0.55656,     0.55756,     0.55856,     0.55956,     0.56056,     0.56156,     0.56256,     0.56356,     0.56456,     0.56557,     0.56657,     0.56757,     0.56857,     0.56957,     0.57057,     0.57157,     0.57257,     0.57357,     0.57457,     0.57558,\n",
              "           0.57658,     0.57758,     0.57858,     0.57958,     0.58058,     0.58158,     0.58258,     0.58358,     0.58458,     0.58559,     0.58659,     0.58759,     0.58859,     0.58959,     0.59059,     0.59159,     0.59259,     0.59359,     0.59459,      0.5956,      0.5966,      0.5976,      0.5986,      0.5996,\n",
              "            0.6006,      0.6016,      0.6026,      0.6036,      0.6046,     0.60561,     0.60661,     0.60761,     0.60861,     0.60961,     0.61061,     0.61161,     0.61261,     0.61361,     0.61461,     0.61562,     0.61662,     0.61762,     0.61862,     0.61962,     0.62062,     0.62162,     0.62262,     0.62362,\n",
              "           0.62462,     0.62563,     0.62663,     0.62763,     0.62863,     0.62963,     0.63063,     0.63163,     0.63263,     0.63363,     0.63463,     0.63564,     0.63664,     0.63764,     0.63864,     0.63964,     0.64064,     0.64164,     0.64264,     0.64364,     0.64464,     0.64565,     0.64665,     0.64765,\n",
              "           0.64865,     0.64965,     0.65065,     0.65165,     0.65265,     0.65365,     0.65465,     0.65566,     0.65666,     0.65766,     0.65866,     0.65966,     0.66066,     0.66166,     0.66266,     0.66366,     0.66466,     0.66567,     0.66667,     0.66767,     0.66867,     0.66967,     0.67067,     0.67167,\n",
              "           0.67267,     0.67367,     0.67467,     0.67568,     0.67668,     0.67768,     0.67868,     0.67968,     0.68068,     0.68168,     0.68268,     0.68368,     0.68468,     0.68569,     0.68669,     0.68769,     0.68869,     0.68969,     0.69069,     0.69169,     0.69269,     0.69369,     0.69469,      0.6957,\n",
              "            0.6967,      0.6977,      0.6987,      0.6997,      0.7007,      0.7017,      0.7027,      0.7037,      0.7047,     0.70571,     0.70671,     0.70771,     0.70871,     0.70971,     0.71071,     0.71171,     0.71271,     0.71371,     0.71471,     0.71572,     0.71672,     0.71772,     0.71872,     0.71972,\n",
              "           0.72072,     0.72172,     0.72272,     0.72372,     0.72472,     0.72573,     0.72673,     0.72773,     0.72873,     0.72973,     0.73073,     0.73173,     0.73273,     0.73373,     0.73473,     0.73574,     0.73674,     0.73774,     0.73874,     0.73974,     0.74074,     0.74174,     0.74274,     0.74374,\n",
              "           0.74474,     0.74575,     0.74675,     0.74775,     0.74875,     0.74975,     0.75075,     0.75175,     0.75275,     0.75375,     0.75475,     0.75576,     0.75676,     0.75776,     0.75876,     0.75976,     0.76076,     0.76176,     0.76276,     0.76376,     0.76476,     0.76577,     0.76677,     0.76777,\n",
              "           0.76877,     0.76977,     0.77077,     0.77177,     0.77277,     0.77377,     0.77477,     0.77578,     0.77678,     0.77778,     0.77878,     0.77978,     0.78078,     0.78178,     0.78278,     0.78378,     0.78478,     0.78579,     0.78679,     0.78779,     0.78879,     0.78979,     0.79079,     0.79179,\n",
              "           0.79279,     0.79379,     0.79479,      0.7958,      0.7968,      0.7978,      0.7988,      0.7998,      0.8008,      0.8018,      0.8028,      0.8038,      0.8048,     0.80581,     0.80681,     0.80781,     0.80881,     0.80981,     0.81081,     0.81181,     0.81281,     0.81381,     0.81481,     0.81582,\n",
              "           0.81682,     0.81782,     0.81882,     0.81982,     0.82082,     0.82182,     0.82282,     0.82382,     0.82482,     0.82583,     0.82683,     0.82783,     0.82883,     0.82983,     0.83083,     0.83183,     0.83283,     0.83383,     0.83483,     0.83584,     0.83684,     0.83784,     0.83884,     0.83984,\n",
              "           0.84084,     0.84184,     0.84284,     0.84384,     0.84484,     0.84585,     0.84685,     0.84785,     0.84885,     0.84985,     0.85085,     0.85185,     0.85285,     0.85385,     0.85485,     0.85586,     0.85686,     0.85786,     0.85886,     0.85986,     0.86086,     0.86186,     0.86286,     0.86386,\n",
              "           0.86486,     0.86587,     0.86687,     0.86787,     0.86887,     0.86987,     0.87087,     0.87187,     0.87287,     0.87387,     0.87487,     0.87588,     0.87688,     0.87788,     0.87888,     0.87988,     0.88088,     0.88188,     0.88288,     0.88388,     0.88488,     0.88589,     0.88689,     0.88789,\n",
              "           0.88889,     0.88989,     0.89089,     0.89189,     0.89289,     0.89389,     0.89489,      0.8959,      0.8969,      0.8979,      0.8989,      0.8999,      0.9009,      0.9019,      0.9029,      0.9039,      0.9049,     0.90591,     0.90691,     0.90791,     0.90891,     0.90991,     0.91091,     0.91191,\n",
              "           0.91291,     0.91391,     0.91491,     0.91592,     0.91692,     0.91792,     0.91892,     0.91992,     0.92092,     0.92192,     0.92292,     0.92392,     0.92492,     0.92593,     0.92693,     0.92793,     0.92893,     0.92993,     0.93093,     0.93193,     0.93293,     0.93393,     0.93493,     0.93594,\n",
              "           0.93694,     0.93794,     0.93894,     0.93994,     0.94094,     0.94194,     0.94294,     0.94394,     0.94494,     0.94595,     0.94695,     0.94795,     0.94895,     0.94995,     0.95095,     0.95195,     0.95295,     0.95395,     0.95495,     0.95596,     0.95696,     0.95796,     0.95896,     0.95996,\n",
              "           0.96096,     0.96196,     0.96296,     0.96396,     0.96496,     0.96597,     0.96697,     0.96797,     0.96897,     0.96997,     0.97097,     0.97197,     0.97297,     0.97397,     0.97497,     0.97598,     0.97698,     0.97798,     0.97898,     0.97998,     0.98098,     0.98198,     0.98298,     0.98398,\n",
              "           0.98498,     0.98599,     0.98699,     0.98799,     0.98899,     0.98999,     0.99099,     0.99199,     0.99299,     0.99399,     0.99499,       0.996,       0.997,       0.998,       0.999,           1]), array([[    0.96656,     0.96656,     0.95987,     0.94314,      0.9398,     0.93645,     0.93311,     0.93311,     0.93311,     0.93311,     0.93311,     0.92642,     0.92642,     0.92308,     0.92308,     0.91973,     0.91973,     0.91639,     0.91304,      0.9097,      0.9097,      0.9097,      0.9097,\n",
              "             0.9097,     0.90635,     0.90635,     0.90635,     0.90635,     0.90301,     0.90301,     0.89967,     0.89967,     0.89967,     0.89967,     0.89632,     0.89632,     0.89632,     0.89298,     0.89298,     0.88326,     0.88294,     0.88294,     0.88294,     0.88294,     0.88294,     0.88294,\n",
              "            0.88294,     0.88294,     0.88294,     0.88294,     0.88294,     0.87625,     0.87625,     0.87625,     0.87625,     0.87625,     0.87625,     0.87625,     0.87625,     0.87625,     0.87625,     0.87625,     0.87625,     0.87291,     0.87291,     0.87291,     0.87291,     0.87291,     0.87291,\n",
              "            0.86922,     0.86622,     0.86622,     0.86622,     0.86622,     0.86622,     0.86622,     0.86622,     0.86622,      0.8657,     0.86367,     0.86288,     0.86288,     0.86288,     0.86288,     0.86288,     0.86288,     0.86288,     0.86288,     0.86288,     0.86288,     0.86288,     0.86288,\n",
              "            0.86288,     0.86288,     0.86288,     0.86288,     0.86288,     0.86288,     0.86019,     0.85953,     0.85619,     0.85619,     0.85619,     0.85619,     0.85619,     0.85619,     0.85619,     0.85619,     0.85421,     0.85284,     0.85284,     0.85284,     0.85284,      0.8495,      0.8495,\n",
              "             0.8495,      0.8495,      0.8495,      0.8495,      0.8495,      0.8495,      0.8495,      0.8495,      0.8495,      0.8495,      0.8495,      0.8495,      0.8495,      0.8495,     0.84797,     0.84327,     0.84281,     0.84281,     0.84281,     0.84281,     0.83946,     0.83946,     0.83946,\n",
              "            0.83946,     0.83946,     0.83946,     0.83919,     0.83817,     0.83716,     0.83614,     0.83612,     0.83612,     0.83612,     0.83612,     0.83612,     0.83612,     0.83612,     0.83612,     0.83612,     0.83612,     0.83612,     0.83612,     0.83612,     0.83612,     0.83612,     0.83612,\n",
              "            0.83612,     0.83612,     0.83612,     0.83612,     0.83612,     0.83612,     0.83612,     0.83612,     0.83612,     0.83612,     0.83612,     0.83612,     0.83612,     0.83612,     0.83612,     0.83612,     0.83612,     0.83612,     0.83612,     0.83612,     0.83612,     0.83612,      0.8339,\n",
              "            0.83192,     0.83048,     0.82943,     0.82943,     0.82943,     0.82943,     0.82943,     0.82943,     0.82943,     0.82943,     0.82943,     0.82943,     0.82943,     0.82943,     0.82943,     0.82943,     0.82943,     0.82943,     0.82274,     0.82274,     0.82274,     0.82274,     0.82274,\n",
              "            0.82274,     0.82274,     0.82274,     0.82274,     0.82274,     0.82274,     0.82274,     0.82274,     0.82274,     0.82248,     0.82077,      0.8194,     0.81605,     0.81605,     0.81605,     0.81605,     0.81605,     0.81605,     0.81605,     0.81542,     0.81459,     0.81376,     0.81293,\n",
              "            0.81271,     0.81271,     0.81271,     0.81271,     0.81271,     0.81271,     0.81271,     0.81271,     0.81271,     0.81001,     0.80936,     0.80936,     0.80936,     0.80936,     0.80936,     0.80936,     0.80936,     0.80936,     0.80936,     0.80899,     0.80835,     0.80771,     0.80707,\n",
              "            0.80644,     0.80602,     0.80602,     0.80567,     0.80339,     0.80189,     0.80075,      0.7996,     0.79599,     0.79599,     0.79599,     0.79599,     0.79599,     0.79599,     0.79599,     0.79599,     0.79599,     0.79599,     0.79599,     0.79599,     0.79599,     0.79328,     0.79264,\n",
              "            0.79264,     0.79264,     0.79264,     0.79264,     0.79264,     0.79264,     0.79188,      0.7893,      0.7893,      0.7893,      0.7893,     0.78785,     0.78595,     0.78595,     0.78595,     0.78595,     0.78595,     0.78595,     0.78595,     0.78595,     0.78595,     0.78595,     0.78595,\n",
              "            0.78595,     0.78547,     0.78449,     0.78351,     0.78261,     0.78261,     0.78261,     0.78261,     0.78261,     0.78261,     0.78261,     0.78261,     0.78261,     0.78261,     0.78261,     0.78261,     0.78261,     0.78261,     0.78261,     0.78261,     0.78261,     0.78261,     0.78261,\n",
              "            0.78261,     0.78261,     0.78225,     0.77926,     0.77926,     0.77926,     0.77926,     0.77926,     0.77926,     0.77926,     0.77926,     0.77926,     0.77926,     0.77926,     0.77926,     0.77926,     0.77926,     0.77926,     0.77926,     0.77926,     0.77926,     0.77926,     0.77926,\n",
              "            0.77926,     0.77926,     0.77926,     0.77926,     0.77926,     0.77926,     0.77926,     0.77926,     0.77926,     0.77926,     0.77926,     0.77926,     0.77926,     0.77926,     0.77926,     0.77926,     0.77926,     0.77926,     0.77926,     0.77926,     0.77926,     0.77926,     0.77926,\n",
              "            0.77926,     0.77926,     0.77926,     0.77926,     0.77926,     0.77926,     0.77926,     0.77926,     0.77926,     0.77926,     0.77926,     0.77926,     0.77592,     0.77592,     0.77592,     0.77592,     0.77592,     0.77592,     0.77592,     0.77363,     0.77258,     0.77258,     0.77258,\n",
              "            0.77258,     0.77258,     0.77258,     0.77258,     0.77258,     0.77258,     0.77258,     0.77258,     0.77258,     0.77258,     0.77258,     0.77227,     0.77187,     0.77148,     0.77109,      0.7707,     0.77031,     0.76991,     0.76952,     0.76589,     0.76589,     0.76589,     0.76589,\n",
              "            0.76589,     0.76589,     0.76589,     0.76589,     0.76589,     0.76589,     0.76589,     0.76589,     0.76589,     0.76589,     0.76589,     0.76589,     0.76589,     0.76589,     0.76589,     0.76589,     0.76589,     0.76589,     0.76589,     0.76589,     0.76589,     0.76589,     0.76589,\n",
              "            0.76589,     0.76589,     0.76589,     0.76589,     0.76501,     0.76387,     0.76272,     0.75966,     0.75846,      0.7576,     0.75674,     0.75589,     0.75585,     0.75585,     0.75585,     0.75585,     0.75585,     0.75585,     0.75585,     0.75585,     0.75585,     0.75508,     0.75337,\n",
              "            0.75208,     0.75122,     0.75037,     0.74951,     0.74916,     0.74916,     0.74916,     0.74916,     0.74916,      0.7467,     0.74582,      0.7445,     0.74279,     0.73968,     0.73913,     0.73913,     0.73913,     0.73913,     0.73913,     0.73913,     0.73913,     0.73913,     0.73913,\n",
              "            0.73913,     0.73913,     0.73913,     0.73913,     0.73913,     0.73913,     0.73913,     0.73913,     0.73913,     0.73913,     0.73913,     0.73913,     0.73913,     0.73913,     0.73913,     0.73913,     0.73913,     0.73913,     0.73913,     0.73913,     0.73913,     0.73913,       0.737,\n",
              "            0.73579,     0.73579,     0.73579,     0.73579,     0.73528,     0.73459,      0.7339,     0.73322,     0.73253,     0.73244,     0.73244,     0.73244,     0.73244,     0.73244,     0.73244,     0.73238,     0.73066,       0.729,     0.72786,     0.72671,     0.72575,     0.72575,     0.72575,\n",
              "            0.72575,     0.72575,     0.72575,     0.72575,     0.72575,     0.72535,      0.7242,     0.72306,     0.72167,     0.71996,     0.71825,     0.71653,     0.71542,     0.71485,     0.71428,      0.7137,     0.71313,     0.71256,     0.71237,     0.71118,     0.70947,     0.70517,     0.70449,\n",
              "             0.7038,     0.70312,     0.70243,     0.70085,     0.69914,      0.6969,     0.69565,     0.69565,     0.69565,     0.69565,     0.69502,     0.69388,     0.69274,      0.6916,     0.69045,     0.68931,     0.68896,     0.68896,     0.68873,     0.68842,     0.68811,      0.6878,     0.68748,\n",
              "            0.68717,     0.68686,     0.68655,     0.68624,     0.68593,     0.68562,     0.68562,     0.68535,     0.68486,     0.68437,     0.68388,     0.68339,      0.6829,     0.68241,     0.68145,     0.68031,     0.67916,     0.67893,     0.67799,     0.67685,     0.67571,     0.67085,     0.66876,\n",
              "            0.66843,      0.6681,     0.66778,     0.66745,     0.66712,      0.6668,     0.66647,     0.66614,     0.66582,     0.66534,      0.6642,     0.66305,     0.66199,     0.66113,     0.66027,     0.65941,      0.6543,     0.65165,     0.65028,     0.64891,     0.64387,     0.64216,     0.64209,\n",
              "            0.63875,     0.63761,     0.63647,     0.63534,     0.63436,     0.63338,      0.6324,     0.63151,     0.63065,     0.62979,     0.62894,     0.62876,     0.62819,     0.62648,      0.6249,     0.62352,     0.62215,     0.61884,     0.61873,     0.61703,     0.61525,     0.61204,     0.61192,\n",
              "            0.61055,     0.60918,      0.6087,      0.6087,      0.6087,      0.6087,      0.6085,     0.60774,     0.60697,     0.60621,     0.60545,     0.60237,     0.60154,     0.60101,     0.60048,     0.59995,     0.59943,      0.5989,     0.59405,     0.59167,     0.58863,     0.58863,     0.58863,\n",
              "            0.58863,     0.58863,     0.58863,     0.58829,     0.58783,     0.58737,     0.58692,     0.58646,       0.586,     0.58554,     0.58528,     0.58528,     0.58528,     0.58528,     0.58514,     0.58188,      0.5809,     0.57992,     0.57894,      0.5777,     0.57633,     0.57525,     0.57525,\n",
              "            0.57525,     0.57525,     0.57525,     0.57525,     0.57506,     0.57453,     0.57401,     0.57348,     0.57295,     0.57242,      0.5719,     0.57141,     0.57092,     0.57043,     0.56994,     0.56945,     0.56896,     0.56813,     0.56585,     0.56522,     0.56351,     0.56187,     0.56187,\n",
              "            0.56187,     0.56187,     0.56187,     0.56187,     0.56187,     0.56187,     0.56187,     0.56187,     0.56187,     0.56187,     0.56187,     0.56187,     0.56187,     0.56187,     0.56187,     0.56187,     0.56187,     0.56187,     0.56187,     0.55853,     0.55853,      0.5577,     0.55672,\n",
              "            0.55574,     0.54887,     0.54526,     0.54515,     0.54515,     0.54515,     0.54515,     0.54436,     0.54299,     0.54085,     0.53363,     0.53156,     0.53041,     0.52927,     0.52753,     0.52443,     0.52214,     0.52117,     0.52049,      0.5198,     0.51912,     0.51843,     0.51623,\n",
              "            0.51175,     0.51034,     0.50897,     0.50709,      0.5047,     0.50127,     0.49801,     0.49572,     0.49142,     0.49028,     0.48914,     0.48769,     0.48541,     0.48139,     0.48071,     0.48002,     0.47933,     0.47865,     0.47393,     0.47164,     0.46825,     0.46774,     0.46725,\n",
              "            0.46676,     0.46627,     0.46578,     0.46529,     0.46375,     0.45999,     0.45672,     0.45485,      0.4544,     0.45268,     0.44937,     0.44533,     0.44191,     0.44072,     0.43987,     0.43901,     0.43815,     0.43591,     0.43144,     0.43144,     0.43128,       0.429,     0.42268,\n",
              "            0.42087,     0.42001,     0.41915,     0.41829,     0.41751,     0.41674,     0.41598,     0.41522,     0.41241,     0.40943,     0.40336,     0.39324,     0.38981,     0.38639,     0.38017,     0.37789,     0.37618,     0.37449,     0.37312,     0.37174,      0.3698,     0.36773,     0.36675,\n",
              "            0.36577,     0.36479,     0.35605,     0.35185,     0.34783,     0.34783,     0.34783,     0.34783,     0.34695,     0.34597,     0.34499,     0.34116,     0.33776,     0.33604,     0.33421,     0.33102,     0.33017,     0.32931,     0.32845,     0.32645,     0.32281,     0.31942,     0.31515,\n",
              "            0.30571,     0.29658,     0.29316,     0.29014,     0.28786,     0.28557,     0.28329,       0.281,      0.2776,      0.2742,     0.27191,     0.26628,       0.264,     0.26171,     0.25871,     0.25678,     0.25563,     0.25449,     0.25056,     0.24942,     0.24828,     0.24677,     0.24449,\n",
              "            0.23497,     0.22477,     0.22045,     0.21977,     0.21908,      0.2184,     0.21771,     0.21394,     0.21166,     0.20336,     0.19721,     0.19623,     0.19525,     0.19427,     0.18822,     0.18479,     0.17878,     0.16991,     0.16762,     0.15976,     0.15748,      0.1445,     0.14176,\n",
              "            0.13748,     0.13053,     0.12821,     0.12258,     0.12008,     0.11642,     0.11528,     0.11413,     0.10938,     0.10477,     0.10135,      0.0955,    0.088634,    0.086348,    0.084063,    0.082924,    0.082067,     0.08121,    0.080353,    0.074094,    0.070408,    0.069149,    0.068007,\n",
              "           0.066851,    0.065137,    0.063301,    0.060091,    0.058949,    0.057806,    0.056691,    0.055711,    0.054732,    0.053752,    0.052994,    0.052309,    0.051623,    0.050938,    0.050252,    0.047163,    0.045587,    0.044216,     0.03855,    0.035956,    0.034242,     0.03006,    0.029203,\n",
              "           0.028346,    0.027489,    0.026673,    0.026102,     0.02553,    0.024959,    0.024388,    0.023816,     0.02323,    0.022606,    0.021983,     0.02136,    0.020736,    0.020113,     0.01916,    0.018181,    0.017201,     0.01657,    0.016272,    0.015974,    0.015676,    0.015378,    0.015079,\n",
              "           0.014781,    0.014483,    0.014185,    0.013887,    0.013589,    0.012711,    0.010425,   0.0063899,   0.0060291,   0.0056682,   0.0053074,   0.0049465,   0.0045856,   0.0042248,   0.0038639,   0.0035031,           0,           0,           0,           0,           0,           0,           0,\n",
              "                  0,           0,           0,           0,           0,           0,           0,           0,           0,           0,           0]]), 'Confidence', 'Recall']]\n",
              "fitness: 0.5777415175356743\n",
              "keys: ['metrics/precision(B)', 'metrics/recall(B)', 'metrics/mAP50(B)', 'metrics/mAP50-95(B)']\n",
              "maps: array([    0.54976])\n",
              "names: {0: 'pothole'}\n",
              "plot: True\n",
              "results_dict: {'metrics/precision(B)': 0.8297496491168874, 'metrics/recall(B)': 0.7391304347826086, 'metrics/mAP50(B)': 0.8295968567008206, 'metrics/mAP50-95(B)': 0.5497575909617691, 'fitness': 0.5777415175356743}\n",
              "save_dir: PosixPath('runs/detect/train9')\n",
              "speed: {'preprocess': 0.2998516971903636, 'inference': 9.092105062384354, 'loss': 0.0006686475940216752, 'postprocess': 3.9673712020529837}\n",
              "task: 'detect'"
            ]
          },
          "metadata": {},
          "execution_count": 13
        }
      ]
    },
    {
      "cell_type": "code",
      "source": [
        "# saving the model\n",
        "model.save('/content/drive/MyDrive/detector2.pt')"
      ],
      "metadata": {
        "id": "FD6qArEia81Z"
      },
      "execution_count": 15,
      "outputs": []
    },
    {
      "cell_type": "code",
      "source": [
        "from ultralytics import YOLO\n",
        "\n",
        "# Load the saved model\n",
        "model = YOLO('/content/drive/MyDrive/detector2.pt')\n",
        "\n",
        "# Perform inference on an image\n",
        "results = model('/content/Pothole_Detection/images/test/img-102.jpg')[0]\n",
        "results.save('/content/img-102_result.jpg')\n",
        "\n"
      ],
      "metadata": {
        "id": "6m3W5lOna-SI",
        "colab": {
          "base_uri": "https://localhost:8080/",
          "height": 87
        },
        "outputId": "f93379e0-6c5a-4595-f5e1-28c71f59a47e"
      },
      "execution_count": 30,
      "outputs": [
        {
          "output_type": "stream",
          "name": "stdout",
          "text": [
            "\n",
            "image 1/1 /content/Pothole_Detection/images/test/img-102.jpg: 640x640 2 potholes, 37.0ms\n",
            "Speed: 2.7ms preprocess, 37.0ms inference, 1.4ms postprocess per image at shape (1, 3, 640, 640)\n"
          ]
        },
        {
          "output_type": "execute_result",
          "data": {
            "text/plain": [
              "'/content/img-102_result.jpg'"
            ],
            "application/vnd.google.colaboratory.intrinsic+json": {
              "type": "string"
            }
          },
          "metadata": {},
          "execution_count": 30
        }
      ]
    },
    {
      "cell_type": "code",
      "source": [
        "import cv2\n",
        "import matplotlib.pyplot as plt\n",
        "\n",
        "# Path to the saved result image\n",
        "result_image_path = '/content/img-102_result.jpg'\n",
        "\n",
        "# Load the image with detections\n",
        "result_image = cv2.imread(result_image_path)\n",
        "\n",
        "# Check if the image is loaded correctly\n",
        "if result_image is None:\n",
        "    print(f\"Error: Unable to load image at {result_image_path}\")\n",
        "else:\n",
        "    # Convert BGR to RGB for displaying with Matplotlib\n",
        "    result_image_rgb = cv2.cvtColor(result_image, cv2.COLOR_BGR2RGB)\n",
        "\n",
        "    # Display the image with Matplotlib\n",
        "    plt.imshow(result_image_rgb)\n",
        "    plt.axis('off')\n",
        "    plt.show()\n"
      ],
      "metadata": {
        "colab": {
          "base_uri": "https://localhost:8080/",
          "height": 406
        },
        "id": "tgmdKNYTug1n",
        "outputId": "a4c986d5-36fe-456a-f12e-c95e33890a7c"
      },
      "execution_count": 31,
      "outputs": [
        {
          "output_type": "display_data",
          "data": {
            "text/plain": [
              "<Figure size 640x480 with 1 Axes>"
            ],
            "image/png": "[encoded data removed]"
          },
          "metadata": {}
        }
      ]
    },
    {
      "cell_type": "code",
      "source": [],
      "metadata": {
        "id": "OwTJSWk8wA9J"
      },
      "execution_count": null,
      "outputs": []
    }
  ]
}